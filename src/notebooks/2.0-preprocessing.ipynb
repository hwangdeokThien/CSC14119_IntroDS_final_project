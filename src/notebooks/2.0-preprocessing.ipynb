{
 "cells": [
  {
   "cell_type": "markdown",
   "id": "c343930b",
   "metadata": {},
   "source": [
    "<div style=\"text-align: center; background-color: #0A6EBD; font-family: 'Trebuchet MS', Arial, sans-serif; color: white; padding: 20px; font-size: 40px; font-weight: bold; border-radius: 0 0 0 0; box-shadow: 0px 6px 8px rgba(0, 0, 0, 0.2);\">\n",
    "    FIT-HCMUS, VNU-HCM \n",
    "    <br>\n",
    "    Introduction To Data Science \n",
    "    <br>\n",
    "    Final project 📌\n",
    "</div>"
   ]
  },
  {
   "cell_type": "markdown",
   "id": "5d553587",
   "metadata": {},
   "source": [
    "<div style=\"text-align: center; background-color: #5A96E3; font-family: 'Trebuchet MS', Arial, sans-serif; color: white; padding: 20px; font-size: 40px; font-weight: bold; border-radius: 0 0 0 0; box-shadow: 0px 6px 8px rgba(0, 0, 0, 0.2);\">\n",
    "  Stage 02 - Preprocessing 📌\n",
    "</div>"
   ]
  },
  {
   "cell_type": "markdown",
   "id": "693f38ec",
   "metadata": {},
   "source": [
    "## **1. Set up enviroment**"
   ]
  },
  {
   "cell_type": "code",
   "execution_count": 1,
   "id": "cf08e431",
   "metadata": {
    "tags": []
   },
   "outputs": [
    {
     "name": "stderr",
     "output_type": "stream",
     "text": [
      "/home/minhdeptrai/miniconda3/envs/min_ds-env/lib/python3.9/site-packages/fuzzywuzzy/fuzz.py:11: UserWarning: Using slow pure-python SequenceMatcher. Install python-Levenshtein to remove this warning\n",
      "  warnings.warn('Using slow pure-python SequenceMatcher. Install python-Levenshtein to remove this warning')\n"
     ]
    }
   ],
   "source": [
    "# !pip install unidecode\n",
    "# !pip install fuzzywuzzy\n",
    "import pandas as pd\n",
    "import numpy as np\n",
    "import re\n",
    "import warnings\n",
    "from unidecode import unidecode\n",
    "from fuzzywuzzy import fuzz\n",
    "from fuzzywuzzy import process\n",
    "\n",
    "warnings.filterwarnings(\"ignore\")\n",
    "pd.set_option('display.max_columns', None)"
   ]
  },
  {
   "cell_type": "markdown",
   "id": "09ffff30",
   "metadata": {},
   "source": [
    "## **2. Reading and cleaning data**"
   ]
  },
  {
   "cell_type": "markdown",
   "id": "c8067f19",
   "metadata": {},
   "source": [
    "### **2.1. Fbref data**"
   ]
  },
  {
   "cell_type": "markdown",
   "id": "3b107ebf-12f0-48d9-bd96-8c2327b29360",
   "metadata": {},
   "source": [
    "#### **Raw data inspect**"
   ]
  },
  {
   "cell_type": "code",
   "execution_count": 2,
   "id": "a4e13b09",
   "metadata": {
    "tags": []
   },
   "outputs": [
    {
     "data": {
      "text/html": [
       "<div>\n",
       "<style scoped>\n",
       "    .dataframe tbody tr th:only-of-type {\n",
       "        vertical-align: middle;\n",
       "    }\n",
       "\n",
       "    .dataframe tbody tr th {\n",
       "        vertical-align: top;\n",
       "    }\n",
       "\n",
       "    .dataframe thead th {\n",
       "        text-align: right;\n",
       "    }\n",
       "</style>\n",
       "<table border=\"1\" class=\"dataframe\">\n",
       "  <thead>\n",
       "    <tr style=\"text-align: right;\">\n",
       "      <th></th>\n",
       "      <th>Name</th>\n",
       "      <th>Position</th>\n",
       "      <th>Preferred Foot</th>\n",
       "      <th>Season</th>\n",
       "      <th>Age</th>\n",
       "      <th>Squad</th>\n",
       "      <th>Country</th>\n",
       "      <th>Comp</th>\n",
       "      <th>LgRank</th>\n",
       "      <th>MP</th>\n",
       "      <th>Starts</th>\n",
       "      <th>Min</th>\n",
       "      <th>90s</th>\n",
       "      <th>Gls</th>\n",
       "      <th>Ast</th>\n",
       "      <th>G+A</th>\n",
       "      <th>G-PK</th>\n",
       "      <th>PK</th>\n",
       "      <th>PKatt</th>\n",
       "      <th>CrdY</th>\n",
       "      <th>CrdR</th>\n",
       "      <th>xG</th>\n",
       "      <th>npxG</th>\n",
       "      <th>xAG</th>\n",
       "      <th>npxG+xAG</th>\n",
       "      <th>PrgC</th>\n",
       "      <th>PrgP</th>\n",
       "      <th>PrgR</th>\n",
       "      <th>Gls.1</th>\n",
       "      <th>Ast.1</th>\n",
       "      <th>G+A.1</th>\n",
       "      <th>G-PK.1</th>\n",
       "      <th>G+A-PK</th>\n",
       "      <th>xG.1</th>\n",
       "      <th>xAG.1</th>\n",
       "      <th>xG+xAG</th>\n",
       "      <th>npxG.1</th>\n",
       "      <th>npxG+xAG.1</th>\n",
       "      <th>Matches</th>\n",
       "    </tr>\n",
       "  </thead>\n",
       "  <tbody>\n",
       "    <tr>\n",
       "      <th>0</th>\n",
       "      <td>William Saliba</td>\n",
       "      <td>DF (CB, right)</td>\n",
       "      <td>Right</td>\n",
       "      <td>2018-2019</td>\n",
       "      <td>17.0</td>\n",
       "      <td>Saint-Étienne</td>\n",
       "      <td>fr FRA</td>\n",
       "      <td>1. Ligue 1</td>\n",
       "      <td>4th</td>\n",
       "      <td>16.0</td>\n",
       "      <td>13.0</td>\n",
       "      <td>1,277</td>\n",
       "      <td>14.2</td>\n",
       "      <td>0.0</td>\n",
       "      <td>0.0</td>\n",
       "      <td>0.0</td>\n",
       "      <td>0.0</td>\n",
       "      <td>0.0</td>\n",
       "      <td>0.0</td>\n",
       "      <td>1.0</td>\n",
       "      <td>0.0</td>\n",
       "      <td>0.3</td>\n",
       "      <td>0.3</td>\n",
       "      <td>0.0</td>\n",
       "      <td>0.3</td>\n",
       "      <td>7.0</td>\n",
       "      <td>21.0</td>\n",
       "      <td>4.0</td>\n",
       "      <td>0.00</td>\n",
       "      <td>0.0</td>\n",
       "      <td>0.00</td>\n",
       "      <td>0.00</td>\n",
       "      <td>0.00</td>\n",
       "      <td>0.02</td>\n",
       "      <td>0.00</td>\n",
       "      <td>0.02</td>\n",
       "      <td>0.02</td>\n",
       "      <td>0.02</td>\n",
       "      <td>Matches</td>\n",
       "    </tr>\n",
       "    <tr>\n",
       "      <th>1</th>\n",
       "      <td>William Saliba</td>\n",
       "      <td>DF (CB, right)</td>\n",
       "      <td>Right</td>\n",
       "      <td>2019-2020</td>\n",
       "      <td>18.0</td>\n",
       "      <td>Saint-Étienne</td>\n",
       "      <td>fr FRA</td>\n",
       "      <td>1. Ligue 1</td>\n",
       "      <td>17th</td>\n",
       "      <td>12.0</td>\n",
       "      <td>11.0</td>\n",
       "      <td>992</td>\n",
       "      <td>11.0</td>\n",
       "      <td>0.0</td>\n",
       "      <td>0.0</td>\n",
       "      <td>0.0</td>\n",
       "      <td>0.0</td>\n",
       "      <td>0.0</td>\n",
       "      <td>0.0</td>\n",
       "      <td>0.0</td>\n",
       "      <td>0.0</td>\n",
       "      <td>0.2</td>\n",
       "      <td>0.2</td>\n",
       "      <td>0.1</td>\n",
       "      <td>0.3</td>\n",
       "      <td>20.0</td>\n",
       "      <td>33.0</td>\n",
       "      <td>7.0</td>\n",
       "      <td>0.00</td>\n",
       "      <td>0.0</td>\n",
       "      <td>0.00</td>\n",
       "      <td>0.00</td>\n",
       "      <td>0.00</td>\n",
       "      <td>0.02</td>\n",
       "      <td>0.01</td>\n",
       "      <td>0.03</td>\n",
       "      <td>0.02</td>\n",
       "      <td>0.03</td>\n",
       "      <td>Matches</td>\n",
       "    </tr>\n",
       "    <tr>\n",
       "      <th>2</th>\n",
       "      <td>William Saliba</td>\n",
       "      <td>DF (CB, right)</td>\n",
       "      <td>Right</td>\n",
       "      <td>2020-2021</td>\n",
       "      <td>19.0</td>\n",
       "      <td>Nice</td>\n",
       "      <td>fr FRA</td>\n",
       "      <td>1. Ligue 1</td>\n",
       "      <td>9th</td>\n",
       "      <td>20.0</td>\n",
       "      <td>20.0</td>\n",
       "      <td>1,800</td>\n",
       "      <td>20.0</td>\n",
       "      <td>1.0</td>\n",
       "      <td>0.0</td>\n",
       "      <td>1.0</td>\n",
       "      <td>1.0</td>\n",
       "      <td>0.0</td>\n",
       "      <td>0.0</td>\n",
       "      <td>2.0</td>\n",
       "      <td>0.0</td>\n",
       "      <td>0.8</td>\n",
       "      <td>0.8</td>\n",
       "      <td>0.0</td>\n",
       "      <td>0.9</td>\n",
       "      <td>36.0</td>\n",
       "      <td>106.0</td>\n",
       "      <td>3.0</td>\n",
       "      <td>0.05</td>\n",
       "      <td>0.0</td>\n",
       "      <td>0.05</td>\n",
       "      <td>0.05</td>\n",
       "      <td>0.05</td>\n",
       "      <td>0.04</td>\n",
       "      <td>0.00</td>\n",
       "      <td>0.04</td>\n",
       "      <td>0.04</td>\n",
       "      <td>0.04</td>\n",
       "      <td>Matches</td>\n",
       "    </tr>\n",
       "    <tr>\n",
       "      <th>3</th>\n",
       "      <td>William Saliba</td>\n",
       "      <td>DF (CB, right)</td>\n",
       "      <td>Right</td>\n",
       "      <td>2020-2021</td>\n",
       "      <td>19.0</td>\n",
       "      <td>Arsenal</td>\n",
       "      <td>eng ENG</td>\n",
       "      <td>Jr. PL2 — Div. 1</td>\n",
       "      <td>10th</td>\n",
       "      <td>6.0</td>\n",
       "      <td>6.0</td>\n",
       "      <td>526</td>\n",
       "      <td>5.8</td>\n",
       "      <td>0.0</td>\n",
       "      <td>0.0</td>\n",
       "      <td>0.0</td>\n",
       "      <td>0.0</td>\n",
       "      <td>0.0</td>\n",
       "      <td>0.0</td>\n",
       "      <td>1.0</td>\n",
       "      <td>0.0</td>\n",
       "      <td>NaN</td>\n",
       "      <td>NaN</td>\n",
       "      <td>NaN</td>\n",
       "      <td>NaN</td>\n",
       "      <td>NaN</td>\n",
       "      <td>NaN</td>\n",
       "      <td>NaN</td>\n",
       "      <td>0.00</td>\n",
       "      <td>0.0</td>\n",
       "      <td>0.00</td>\n",
       "      <td>0.00</td>\n",
       "      <td>0.00</td>\n",
       "      <td>NaN</td>\n",
       "      <td>NaN</td>\n",
       "      <td>NaN</td>\n",
       "      <td>NaN</td>\n",
       "      <td>NaN</td>\n",
       "      <td>Matches</td>\n",
       "    </tr>\n",
       "    <tr>\n",
       "      <th>4</th>\n",
       "      <td>William Saliba</td>\n",
       "      <td>DF (CB, right)</td>\n",
       "      <td>Right</td>\n",
       "      <td>2021-2022</td>\n",
       "      <td>20.0</td>\n",
       "      <td>Marseille</td>\n",
       "      <td>fr FRA</td>\n",
       "      <td>1. Ligue 1</td>\n",
       "      <td>2nd</td>\n",
       "      <td>36.0</td>\n",
       "      <td>36.0</td>\n",
       "      <td>3,240</td>\n",
       "      <td>36.0</td>\n",
       "      <td>0.0</td>\n",
       "      <td>0.0</td>\n",
       "      <td>0.0</td>\n",
       "      <td>0.0</td>\n",
       "      <td>0.0</td>\n",
       "      <td>0.0</td>\n",
       "      <td>5.0</td>\n",
       "      <td>0.0</td>\n",
       "      <td>1.7</td>\n",
       "      <td>1.7</td>\n",
       "      <td>0.4</td>\n",
       "      <td>2.1</td>\n",
       "      <td>50.0</td>\n",
       "      <td>220.0</td>\n",
       "      <td>14.0</td>\n",
       "      <td>0.00</td>\n",
       "      <td>0.0</td>\n",
       "      <td>0.00</td>\n",
       "      <td>0.00</td>\n",
       "      <td>0.00</td>\n",
       "      <td>0.05</td>\n",
       "      <td>0.01</td>\n",
       "      <td>0.06</td>\n",
       "      <td>0.05</td>\n",
       "      <td>0.06</td>\n",
       "      <td>Matches</td>\n",
       "    </tr>\n",
       "  </tbody>\n",
       "</table>\n",
       "</div>"
      ],
      "text/plain": [
       "             Name         Position Preferred Foot     Season   Age  \\\n",
       "0  William Saliba   DF (CB, right)          Right  2018-2019  17.0   \n",
       "1  William Saliba   DF (CB, right)          Right  2019-2020  18.0   \n",
       "2  William Saliba   DF (CB, right)          Right  2020-2021  19.0   \n",
       "3  William Saliba   DF (CB, right)          Right  2020-2021  19.0   \n",
       "4  William Saliba   DF (CB, right)          Right  2021-2022  20.0   \n",
       "\n",
       "           Squad  Country              Comp LgRank    MP  Starts    Min   90s  \\\n",
       "0  Saint-Étienne   fr FRA        1. Ligue 1    4th  16.0    13.0  1,277  14.2   \n",
       "1  Saint-Étienne   fr FRA        1. Ligue 1   17th  12.0    11.0    992  11.0   \n",
       "2           Nice   fr FRA        1. Ligue 1    9th  20.0    20.0  1,800  20.0   \n",
       "3        Arsenal  eng ENG  Jr. PL2 — Div. 1   10th   6.0     6.0    526   5.8   \n",
       "4      Marseille   fr FRA        1. Ligue 1    2nd  36.0    36.0  3,240  36.0   \n",
       "\n",
       "   Gls  Ast  G+A  G-PK   PK  PKatt  CrdY  CrdR   xG  npxG  xAG  npxG+xAG  \\\n",
       "0  0.0  0.0  0.0   0.0  0.0    0.0   1.0   0.0  0.3   0.3  0.0       0.3   \n",
       "1  0.0  0.0  0.0   0.0  0.0    0.0   0.0   0.0  0.2   0.2  0.1       0.3   \n",
       "2  1.0  0.0  1.0   1.0  0.0    0.0   2.0   0.0  0.8   0.8  0.0       0.9   \n",
       "3  0.0  0.0  0.0   0.0  0.0    0.0   1.0   0.0  NaN   NaN  NaN       NaN   \n",
       "4  0.0  0.0  0.0   0.0  0.0    0.0   5.0   0.0  1.7   1.7  0.4       2.1   \n",
       "\n",
       "   PrgC   PrgP  PrgR  Gls.1  Ast.1  G+A.1  G-PK.1  G+A-PK  xG.1  xAG.1  \\\n",
       "0   7.0   21.0   4.0   0.00    0.0   0.00    0.00    0.00  0.02   0.00   \n",
       "1  20.0   33.0   7.0   0.00    0.0   0.00    0.00    0.00  0.02   0.01   \n",
       "2  36.0  106.0   3.0   0.05    0.0   0.05    0.05    0.05  0.04   0.00   \n",
       "3   NaN    NaN   NaN   0.00    0.0   0.00    0.00    0.00   NaN    NaN   \n",
       "4  50.0  220.0  14.0   0.00    0.0   0.00    0.00    0.00  0.05   0.01   \n",
       "\n",
       "   xG+xAG  npxG.1  npxG+xAG.1  Matches  \n",
       "0    0.02    0.02        0.02  Matches  \n",
       "1    0.03    0.02        0.03  Matches  \n",
       "2    0.04    0.04        0.04  Matches  \n",
       "3     NaN     NaN         NaN  Matches  \n",
       "4    0.06    0.05        0.06  Matches  "
      ]
     },
     "execution_count": 2,
     "metadata": {},
     "output_type": "execute_result"
    }
   ],
   "source": [
    "raw_data_fbref = pd.read_csv(\"../../data/raw/raw_data_fbref.csv\")\n",
    "raw_data_fbref.head()"
   ]
  },
  {
   "cell_type": "markdown",
   "id": "3141d9ff-eb16-44e1-a5b6-2f0d34721dd6",
   "metadata": {},
   "source": [
    "**Checking data shape**"
   ]
  },
  {
   "cell_type": "code",
   "execution_count": 3,
   "id": "4314f719-0b2a-4092-9677-758890f3d230",
   "metadata": {
    "tags": []
   },
   "outputs": [],
   "source": [
    "fbref_shape = raw_data_fbref.shape"
   ]
  },
  {
   "cell_type": "code",
   "execution_count": 4,
   "id": "b9236de8-341b-4d74-9366-05b15713d2c3",
   "metadata": {
    "tags": []
   },
   "outputs": [
    {
     "name": "stdout",
     "output_type": "stream",
     "text": [
      "Current shape: (3944, 39)\n",
      "Data is good!\n"
     ]
    }
   ],
   "source": [
    "# testing if data include enough 1000 items\n",
    "print(f\"Current shape: {fbref_shape}\")\n",
    "\n",
    "if fbref_shape[0] > 1000:\n",
    "    print(f\"Data is good!\")\n",
    "else:\n",
    "    print(f\"Raw data is absolutely small. Please recheck!\")"
   ]
  },
  {
   "cell_type": "markdown",
   "id": "1056da5b-fd3f-4b45-8b5b-22189bdfd191",
   "metadata": {},
   "source": [
    "**Checking duplicated rows**"
   ]
  },
  {
   "cell_type": "code",
   "execution_count": 5,
   "id": "27a86e20-8be0-4717-97ef-0c65d83fa5de",
   "metadata": {
    "tags": []
   },
   "outputs": [],
   "source": [
    "index = raw_data_fbref.index\n",
    "detect_dup_series = index.duplicated(keep='first')\n",
    "num_duplicated_rows = detect_dup_series.sum()"
   ]
  },
  {
   "cell_type": "code",
   "execution_count": 6,
   "id": "9366cfc8-e0cc-4ff9-bae9-cccfe453901b",
   "metadata": {
    "tags": []
   },
   "outputs": [
    {
     "name": "stdout",
     "output_type": "stream",
     "text": [
      "Raw data have no duplicated rows.!\n"
     ]
    }
   ],
   "source": [
    "# checking containing duplicated rows\n",
    "if num_duplicated_rows == 0:\n",
    "    print(f\"Raw data have no duplicated rows.!\")\n",
    "else:\n",
    "    if num_duplicated_rows > 1:\n",
    "        ext = \"lines\"\n",
    "    else:\n",
    "        ext = \"line\"\n",
    "    print(f\"Raw data have {num_duplicated_rows} duplicated \" + ext + \". Please de-deduplicate the data.!\")"
   ]
  },
  {
   "cell_type": "markdown",
   "id": "f6700196-6573-41f5-875f-bc87425274ed",
   "metadata": {},
   "source": [
    "**Column information**"
   ]
  },
  {
   "cell_type": "code",
   "execution_count": 7,
   "id": "d68353db-646d-4a95-a842-ac41dee2fb87",
   "metadata": {
    "tags": []
   },
   "outputs": [
    {
     "name": "stdout",
     "output_type": "stream",
     "text": [
      "<class 'pandas.core.frame.DataFrame'>\n",
      "RangeIndex: 3944 entries, 0 to 3943\n",
      "Data columns (total 39 columns):\n",
      " #   Column          Non-Null Count  Dtype  \n",
      "---  ------          --------------  -----  \n",
      " 0   Name            3944 non-null   object \n",
      " 1   Position        3944 non-null   object \n",
      " 2   Preferred Foot  3944 non-null   object \n",
      " 3   Season          3930 non-null   object \n",
      " 4   Age             3930 non-null   float64\n",
      " 5   Squad           3930 non-null   object \n",
      " 6   Country         3930 non-null   object \n",
      " 7   Comp            3930 non-null   object \n",
      " 8   LgRank          3930 non-null   object \n",
      " 9   MP              3930 non-null   float64\n",
      " 10  Starts          3926 non-null   float64\n",
      " 11  Min             3740 non-null   object \n",
      " 12  90s             3741 non-null   float64\n",
      " 13  Gls             3739 non-null   float64\n",
      " 14  Ast             3714 non-null   float64\n",
      " 15  G+A             3714 non-null   float64\n",
      " 16  G-PK            3738 non-null   float64\n",
      " 17  PK              3738 non-null   float64\n",
      " 18  PKatt           3738 non-null   float64\n",
      " 19  CrdY            3739 non-null   float64\n",
      " 20  CrdR            3737 non-null   float64\n",
      " 21  xG              2622 non-null   float64\n",
      " 22  npxG            2622 non-null   float64\n",
      " 23  xAG             2622 non-null   float64\n",
      " 24  npxG+xAG        2622 non-null   float64\n",
      " 25  PrgC            2622 non-null   float64\n",
      " 26  PrgP            2622 non-null   float64\n",
      " 27  PrgR            2622 non-null   float64\n",
      " 28  Gls.1           3738 non-null   float64\n",
      " 29  Ast.1           3713 non-null   float64\n",
      " 30  G+A.1           3713 non-null   float64\n",
      " 31  G-PK.1          3737 non-null   float64\n",
      " 32  G+A-PK          3713 non-null   float64\n",
      " 33  xG.1            2622 non-null   float64\n",
      " 34  xAG.1           2622 non-null   float64\n",
      " 35  xG+xAG          2622 non-null   float64\n",
      " 36  npxG.1          2622 non-null   float64\n",
      " 37  npxG+xAG.1      2622 non-null   float64\n",
      " 38  Matches         3928 non-null   object \n",
      "dtypes: float64(29), object(10)\n",
      "memory usage: 1.2+ MB\n"
     ]
    }
   ],
   "source": [
    "raw_data_fbref.info()"
   ]
  },
  {
   "cell_type": "markdown",
   "id": "8d5073ff-3ab6-4983-ac4f-53a1589ca410",
   "metadata": {},
   "source": [
    "It seems there might be an issue with displaying the column names correctly due to duplicates. We'll modify the column names to ensure they present suitable meanings."
   ]
  },
  {
   "cell_type": "code",
   "execution_count": 8,
   "id": "c2052e7d-e018-47c9-ad68-f75948bce81a",
   "metadata": {
    "tags": []
   },
   "outputs": [
    {
     "data": {
      "text/plain": [
       "Index(['Name', 'Position', 'PreferredFoot', 'Season', 'Age', 'Squad',\n",
       "       'Country', 'Comp', 'LgRank', 'MP', 'Starts', 'Min', '90s', 'Gls', 'Ast',\n",
       "       'G+A', 'G-PK', 'PK', 'PKatt', 'CrdY', 'CrdR', 'xG', 'npxG', 'xAG',\n",
       "       'npxG+xAG', 'PrgC', 'PrgP', 'PrgR', 'Gls/90', 'Ast/90', 'G+A/90',\n",
       "       'G-PK/90', 'G+A-PK/90', 'xG/90', 'xAG/90', 'xG+xAG/90', 'npxG/90',\n",
       "       'npxG+xAG/90', 'Matches'],\n",
       "      dtype='object')"
      ]
     },
     "execution_count": 8,
     "metadata": {},
     "output_type": "execute_result"
    }
   ],
   "source": [
    "new_cols_name = ['Name', 'Position', 'PreferredFoot', 'Season', 'Age', 'Squad', 'Country', \n",
    "                 'Comp', 'LgRank', 'MP', 'Starts', 'Min', '90s', 'Gls', 'Ast', 'G+A', 'G-PK', 'PK', \n",
    "                 'PKatt', 'CrdY', 'CrdR', 'xG', 'npxG', 'xAG', 'npxG+xAG', 'PrgC', 'PrgP', 'PrgR',\n",
    "                 'Gls/90', 'Ast/90', 'G+A/90', 'G-PK/90', 'G+A-PK/90', 'xG/90', \n",
    "                 'xAG/90', 'xG+xAG/90', 'npxG/90', 'npxG+xAG/90', 'Matches']\n",
    "\n",
    "column_name_mapping = dict(zip(raw_data_fbref.columns, new_cols_name))\n",
    "raw_data_fbref.rename(columns=column_name_mapping, inplace=True)\n",
    "\n",
    "raw_data_fbref.columns"
   ]
  },
  {
   "cell_type": "markdown",
   "id": "cccceb34-386c-48f7-9667-10d573f60703",
   "metadata": {},
   "source": [
    "**Field meanings**"
   ]
  },
  {
   "cell_type": "markdown",
   "id": "0fae15c7-e2a6-45c8-bef1-22055a924b53",
   "metadata": {},
   "source": [
    "| Field            | Description|\n",
    "|------------------|---------|\n",
    "| **Name**         | The name ò the player|\n",
    "| **Season**       | Season|\n",
    "| **Age**          | Age at season start|\n",
    "| **Squad**        | The team the player is playing for|\n",
    "| **Position**     | Position on the field|\n",
    "| **PreferredFoot**| Foot that the player prefer using|\n",
    "| **Country**      | Name of the country|\n",
    "| **Comp**         | Competition|\n",
    "| **LgRank**       | Squad finish in competition|\n",
    "| **MP**           | Matches Played|\n",
    "| **Starts**       | Games that player in starting lineup|\n",
    "| **Min**          | Minutes played|\n",
    "| **90s**          | 90s Played (Minutes played divided by 90)|\n",
    "| **Gls**          | Goals scored or allowed|\n",
    "| **Ast**          | Assists|\n",
    "| **G+A**          | Goals + Assists|\n",
    "| **G-PK**         | Non-Penalty Goals|\n",
    "| **PK**           | Penalty Kicks Made|\n",
    "| **PKatt**        | Penalty Kicks Attempted|\n",
    "| **CrdY**         | Yellow Cards|\n",
    "| **CrdR**         | Red Cards|\n",
    "| **xG**           | Expected Goals (xG totals include penalty kicks, excluding penalty shootouts)|\n",
    "| **npxG**         | Non-Penalty Expected Goals|\n",
    "| **xAG**          | Expected Assisted Goals|\n",
    "| **npxG+xAG**     | Non-Penalty Expected Goals plus Assisted Goals|\n",
    "| **PrgC**         | Progressive Carries (Carries that move the ball towards the opponent's goal line)|\n",
    "| **PrgP**         | Progressive Passes (Completed passes that move the ball towards the opponent's goal line)|\n",
    "| **PrgR**         | Progressive Passes Received (Completed passes that move the ball towards the opponent's goal line)|\n",
    "| **Gls/90**       | Goals per 90 minutes (Minimum 30 minutes played per squad game to qualify as a leader)|\n",
    "| **Ast/90**       | Assists per 90 minutes (Minimum 30 minutes played per squad game to qualify as a leader)|\n",
    "| **G+A/90**       | Goals and Assists per 90 minutes (Minimum 30 minutes played per squad game to qualify as a leader)|\n",
    "| **G-PK/90**      | Non-Penalty Goals per 90 minutes (Minimum 30 minutes played per squad game to qualify as a leader)|\n",
    "| **G+A-PK/90**    | Non-Penalty Goals plus Assists per 90 minutes (Minimum 30 minutes played per squad game to qualify as a leader)|\n",
    "| **xG/90**        | Expected Goals per 90 minutes (Minimum 30 minutes played per squad game to qualify as a leader)|\n",
    "| **xAG/90**       | Expected Assisted Goals per 90 minutes (Minimum 30 minutes played per squad game to qualify as a leader)|\n",
    "| **xG+xAG/90**    | Expected Goals plus Assisted Goals per 90 minutes (Minimum 30 minutes played per squad game to qualify as a leader)|\n",
    "| **npxG/90**      | Non-Penalty Expected Goals per 90 minutes (Minimum 30 minutes played per squad game to qualify as a leader)|\n",
    "| **npxG+xAG/90**  | Non-Penalty Expected Goals plus Assisted Goals per 90 minutes (Minimum 30 minutes played per squad game)|"
   ]
  },
  {
   "cell_type": "markdown",
   "id": "e64b3f43-fb01-421f-af11-0823bb5a641d",
   "metadata": {},
   "source": [
    "**Removing meaningless rows**\n",
    "\n",
    "- In certain football leagues, players may miss a season due to various reasons such as injuries, non-participation, suspensions, transfers, and more. This results in rows with incomplete information in the dataset. Therefore, we are contemplating the removal of these rows."
   ]
  },
  {
   "cell_type": "code",
   "execution_count": 9,
   "id": "68a8d597-f5bc-4852-afdf-fe3e87678c1c",
   "metadata": {
    "tags": []
   },
   "outputs": [
    {
     "data": {
      "text/plain": [
       "(3930, 39)"
      ]
     },
     "execution_count": 9,
     "metadata": {},
     "output_type": "execute_result"
    }
   ],
   "source": [
    "raw_data_fbref.dropna(subset=['Season'], inplace=True)\n",
    "raw_data_fbref.shape"
   ]
  },
  {
   "cell_type": "markdown",
   "id": "1fd87ff3-728f-4a1d-a711-1210a5626dce",
   "metadata": {},
   "source": [
    "- Some players were registered but did not attempt any games due to some specific reasons (not suitable for tactic,...), rendering their data irrelevant. It is necessary to delete these rows."
   ]
  },
  {
   "cell_type": "code",
   "execution_count": 10,
   "id": "b5eee17e-cb5f-4326-ad63-c9d6f7c49f88",
   "metadata": {
    "tags": []
   },
   "outputs": [
    {
     "data": {
      "text/plain": [
       "(3740, 39)"
      ]
     },
     "execution_count": 10,
     "metadata": {},
     "output_type": "execute_result"
    }
   ],
   "source": [
    "raw_data_fbref = raw_data_fbref[raw_data_fbref['MP'] != 0]\n",
    "raw_data_fbref.shape"
   ]
  },
  {
   "cell_type": "markdown",
   "id": "485a4163",
   "metadata": {},
   "source": [
    "- Goalkeepers are rarely injured, so we can drop them as collecting data in this group will not yield the demand proportion"
   ]
  },
  {
   "cell_type": "code",
   "execution_count": 11,
   "id": "f5436d98",
   "metadata": {},
   "outputs": [
    {
     "data": {
      "text/plain": [
       "(3399, 39)"
      ]
     },
     "execution_count": 11,
     "metadata": {},
     "output_type": "execute_result"
    }
   ],
   "source": [
    "raw_data_fbref = raw_data_fbref[raw_data_fbref['Position'] != ' GK']\n",
    "raw_data_fbref.shape"
   ]
  },
  {
   "cell_type": "markdown",
   "id": "a3d903c1-60b6-471e-82ec-1d1d5779dc42",
   "metadata": {},
   "source": [
    "**Remove unnecessary columns**"
   ]
  },
  {
   "cell_type": "code",
   "execution_count": 12,
   "id": "8123cc01-05e8-4b5d-a524-64b469a247f8",
   "metadata": {
    "tags": []
   },
   "outputs": [
    {
     "data": {
      "text/plain": [
       "array(['Matches', nan], dtype=object)"
      ]
     },
     "execution_count": 12,
     "metadata": {},
     "output_type": "execute_result"
    }
   ],
   "source": [
    "raw_data_fbref['Matches'].unique()"
   ]
  },
  {
   "cell_type": "markdown",
   "id": "9fbb1a33-69a5-4a81-a0c8-9f4140469507",
   "metadata": {},
   "source": [
    "Column `Matches` only has Matches value. In fact, on website this is a hyperlink to another match so dropping this column is necessary"
   ]
  },
  {
   "cell_type": "code",
   "execution_count": 13,
   "id": "4f71ac64-1343-4119-82a1-232827413356",
   "metadata": {
    "tags": []
   },
   "outputs": [
    {
     "data": {
      "text/plain": [
       "Index(['Name', 'Position', 'PreferredFoot', 'Season', 'Age', 'Squad',\n",
       "       'Country', 'Comp', 'LgRank', 'MP', 'Starts', 'Min', '90s', 'Gls', 'Ast',\n",
       "       'G+A', 'G-PK', 'PK', 'PKatt', 'CrdY', 'CrdR', 'xG', 'npxG', 'xAG',\n",
       "       'npxG+xAG', 'PrgC', 'PrgP', 'PrgR', 'Gls/90', 'Ast/90', 'G+A/90',\n",
       "       'G-PK/90', 'G+A-PK/90', 'xG/90', 'xAG/90', 'xG+xAG/90', 'npxG/90',\n",
       "       'npxG+xAG/90'],\n",
       "      dtype='object')"
      ]
     },
     "execution_count": 13,
     "metadata": {},
     "output_type": "execute_result"
    }
   ],
   "source": [
    "raw_data_fbref = raw_data_fbref.drop(['Matches'],axis = 1)\n",
    "raw_data_fbref.columns"
   ]
  },
  {
   "cell_type": "markdown",
   "id": "405c3334-b432-4ef9-b329-84b881fafef7",
   "metadata": {},
   "source": [
    "**Reformating features and Adjusting data types**"
   ]
  },
  {
   "cell_type": "markdown",
   "id": "7c93863e",
   "metadata": {},
   "source": [
    "- Overall, data type of most fields is correct except for minutes played `Min`, which should be integer instead of object. Here we're going to remove the comma in each value."
   ]
  },
  {
   "cell_type": "code",
   "execution_count": 14,
   "id": "994f6f21",
   "metadata": {
    "tags": []
   },
   "outputs": [],
   "source": [
    "def format_min(min):\n",
    "     if pd.notna(min):\n",
    "        return int(min.replace(',', ''))\n",
    "     else:\n",
    "        return min\n",
    "    \n",
    "raw_data_fbref['Min'] = raw_data_fbref['Min'].apply(format_min)"
   ]
  },
  {
   "cell_type": "markdown",
   "id": "9088d65b-31fe-4cda-a57c-cbb93d002dd5",
   "metadata": {},
   "source": [
    "- Additional players personal infos, and fundamental statistics such as `MP`, `Gls`, `Ast`, `G+A`, etc., need to be converted to integers. However, a challenge arises because these columns contain NaN values, which are represented as floating-point numbers, often indicating missing data. To facilitate the conversion of these columns to integers, the transformation from NaN to zero must be performed prior to converting the remaining values."
   ]
  },
  {
   "cell_type": "code",
   "execution_count": 15,
   "id": "ba83e4ce-b691-4519-aa9e-7c7571c401e6",
   "metadata": {
    "tags": []
   },
   "outputs": [
    {
     "data": {
      "text/plain": [
       "Name              object\n",
       "Position          object\n",
       "PreferredFoot     object\n",
       "Season            object\n",
       "Age                int64\n",
       "Squad             object\n",
       "Country           object\n",
       "Comp              object\n",
       "LgRank            object\n",
       "MP                 int64\n",
       "Starts             int64\n",
       "Min                int64\n",
       "90s              float64\n",
       "Gls                int64\n",
       "Ast                int64\n",
       "G+A                int64\n",
       "G-PK               int64\n",
       "PK                 int64\n",
       "PKatt              int64\n",
       "CrdY               int64\n",
       "CrdR               int64\n",
       "xG               float64\n",
       "npxG             float64\n",
       "xAG              float64\n",
       "npxG+xAG         float64\n",
       "PrgC               int64\n",
       "PrgP               int64\n",
       "PrgR               int64\n",
       "Gls/90           float64\n",
       "Ast/90           float64\n",
       "G+A/90           float64\n",
       "G-PK/90          float64\n",
       "G+A-PK/90        float64\n",
       "xG/90            float64\n",
       "xAG/90           float64\n",
       "xG+xAG/90        float64\n",
       "npxG/90          float64\n",
       "npxG+xAG/90      float64\n",
       "dtype: object"
      ]
     },
     "execution_count": 15,
     "metadata": {},
     "output_type": "execute_result"
    }
   ],
   "source": [
    "int_cols = ['Age', 'MP', 'Starts', 'Min', 'Gls', 'Ast', 'G+A', \n",
    "            'G-PK', 'PK', 'PKatt', 'CrdY', 'CrdR', \n",
    "            'PrgC', 'PrgP', 'PrgR']\n",
    "\n",
    "raw_data_fbref[int_cols] = raw_data_fbref[int_cols].fillna(0).astype(int)\n",
    "raw_data_fbref.dtypes"
   ]
  },
  {
   "cell_type": "markdown",
   "id": "2ce0cdf6-fecd-4377-bc21-ac57ffc6599a",
   "metadata": {},
   "source": [
    "- Extract the the teams' places in `LgRank` columns."
   ]
  },
  {
   "cell_type": "code",
   "execution_count": 16,
   "id": "46980219-034a-4372-ad5a-cffeccf4a641",
   "metadata": {
    "tags": []
   },
   "outputs": [
    {
     "data": {
      "text/plain": [
       "array([ 4, 17,  9, 10,  2,  1, 11,  5, 13, 16,  6,  7, 14,  8,  3, 19, 12,\n",
       "       15, 18, 20, 26, 28, 23, 22, 24, 21, 25])"
      ]
     },
     "execution_count": 16,
     "metadata": {},
     "output_type": "execute_result"
    }
   ],
   "source": [
    "raw_data_fbref['LgRank'] = raw_data_fbref['LgRank'].str.extract('(\\d+)').astype(int)\n",
    "raw_data_fbref['LgRank'].unique()"
   ]
  },
  {
   "cell_type": "markdown",
   "id": "da23a702-9574-419b-9e95-306f15dcb079",
   "metadata": {},
   "source": [
    "- Remove redundant letters in values of `Country` column, which in fact is the national flags, causing by crawling process."
   ]
  },
  {
   "cell_type": "code",
   "execution_count": 17,
   "id": "21e61bd2",
   "metadata": {
    "scrolled": true,
    "tags": []
   },
   "outputs": [
    {
     "data": {
      "text/plain": [
       "Country\n",
       "eng ENG    2372\n",
       "fr FRA      169\n",
       "de GER      143\n",
       "es ESP      121\n",
       "nl NED      110\n",
       "it ITA      104\n",
       "be BEL       78\n",
       "pt POR       61\n",
       "sct SCO      37\n",
       "br BRA       34\n",
       "ar ARG       29\n",
       "dk DEN       24\n",
       "ua UKR       14\n",
       "at AUT       13\n",
       "se SWE       12\n",
       "cz CZE       11\n",
       "us USA       10\n",
       "ch SUI        9\n",
       "no NOR        7\n",
       "co COL        7\n",
       "jp JPN        6\n",
       "tr TUR        6\n",
       "uy URU        5\n",
       "pl POL        3\n",
       "ec ECU        3\n",
       "mx MEX        3\n",
       "hr CRO        2\n",
       "ru RUS        1\n",
       "rs SRB        1\n",
       "sa KSA        1\n",
       "gr GRE        1\n",
       "kr KOR        1\n",
       "za RSA        1\n",
       "Name: count, dtype: int64"
      ]
     },
     "execution_count": 17,
     "metadata": {},
     "output_type": "execute_result"
    }
   ],
   "source": [
    "# Countries names format and their frequency\n",
    "count = raw_data_fbref[\"Country\"].value_counts()\n",
    "count"
   ]
  },
  {
   "cell_type": "code",
   "execution_count": 18,
   "id": "1584f344",
   "metadata": {
    "scrolled": true,
    "tags": []
   },
   "outputs": [
    {
     "data": {
      "text/plain": [
       "Country\n",
       "ENG    2372\n",
       "FRA     169\n",
       "GER     143\n",
       "ESP     121\n",
       "NED     110\n",
       "ITA     104\n",
       "BEL      78\n",
       "POR      61\n",
       "SCO      37\n",
       "BRA      34\n",
       "ARG      29\n",
       "DEN      24\n",
       "UKR      14\n",
       "AUT      13\n",
       "SWE      12\n",
       "CZE      11\n",
       "USA      10\n",
       "SUI       9\n",
       "NOR       7\n",
       "COL       7\n",
       "JPN       6\n",
       "TUR       6\n",
       "URU       5\n",
       "POL       3\n",
       "ECU       3\n",
       "MEX       3\n",
       "CRO       2\n",
       "RUS       1\n",
       "SRB       1\n",
       "KSA       1\n",
       "GRE       1\n",
       "KOR       1\n",
       "RSA       1\n",
       "Name: count, dtype: int64"
      ]
     },
     "execution_count": 18,
     "metadata": {},
     "output_type": "execute_result"
    }
   ],
   "source": [
    "# get rid of the first word of countries name\n",
    "raw_data_fbref['Country'] = raw_data_fbref['Country'].str.split().str[1]\n",
    "count = raw_data_fbref[\"Country\"].value_counts()\n",
    "count"
   ]
  },
  {
   "cell_type": "markdown",
   "id": "6406579f-dd25-4fd0-9a3b-687089909f46",
   "metadata": {},
   "source": [
    "- Data of players currently playing in premier league may include their previous records from other leagues in which `Season` format is different. It is neccessary to adjust this for later stages."
   ]
  },
  {
   "cell_type": "code",
   "execution_count": 19,
   "id": "8a94e2e9",
   "metadata": {
    "scrolled": true,
    "tags": []
   },
   "outputs": [
    {
     "name": "stdout",
     "output_type": "stream",
     "text": [
      "Season\n",
      "2022-2023    468\n",
      "2021-2022    454\n",
      "2020-2021    442\n",
      "2019-2020    430\n",
      "2023-2024    429\n",
      "2018-2019    359\n",
      "2017-2018    317\n",
      "2016-2017    242\n",
      "2015-2016    126\n",
      "2014-2015     41\n",
      "2017          14\n",
      "2018          14\n",
      "2019          13\n",
      "2021          12\n",
      "2016          12\n",
      "2022          10\n",
      "2020           8\n",
      "2015           4\n",
      "2023           4\n",
      "Name: count, dtype: int64\n",
      "total: 3399\n"
     ]
    }
   ],
   "source": [
    "season_count = raw_data_fbref['Season'].value_counts()\n",
    "print(season_count)\n",
    "print(f\"total: {season_count.sum()}\")"
   ]
  },
  {
   "cell_type": "code",
   "execution_count": 20,
   "id": "613824ad",
   "metadata": {
    "tags": []
   },
   "outputs": [],
   "source": [
    "def format_season(season):\n",
    "    if pd.notna(season) and '-' in season:\n",
    "        return season\n",
    "    elif pd.notna(season):\n",
    "        return f\"{season}-{int(season) + 1}\"\n",
    "    else:\n",
    "        return season\n",
    "raw_data_fbref['Season'] = raw_data_fbref['Season'].apply(format_season)"
   ]
  },
  {
   "cell_type": "code",
   "execution_count": 21,
   "id": "c258a1de",
   "metadata": {
    "tags": []
   },
   "outputs": [
    {
     "name": "stdout",
     "output_type": "stream",
     "text": [
      "Season\n",
      "2022-2023    478\n",
      "2021-2022    466\n",
      "2020-2021    450\n",
      "2019-2020    443\n",
      "2023-2024    433\n",
      "2018-2019    373\n",
      "2017-2018    331\n",
      "2016-2017    254\n",
      "2015-2016    130\n",
      "2014-2015     41\n",
      "Name: count, dtype: int64\n",
      "total: 3399\n"
     ]
    }
   ],
   "source": [
    "season_count = raw_data_fbref['Season'].value_counts()\n",
    "print(season_count)\n",
    "print(f\"total: {season_count.sum()}\")"
   ]
  },
  {
   "cell_type": "markdown",
   "id": "b2d8b8a0-54d3-4997-a01f-5dce3c2257f9",
   "metadata": {},
   "source": [
    "- Remove prefix number, and normalize league name in `Comp` column using `unicode` library."
   ]
  },
  {
   "cell_type": "code",
   "execution_count": 22,
   "id": "cd605696-57ad-461c-bfaf-e13d0fb0f05a",
   "metadata": {
    "tags": []
   },
   "outputs": [
    {
     "data": {
      "text/plain": [
       "Comp\n",
       "Premier League        1583\n",
       "Championship           421\n",
       "Jr. PL2 -- Div. 1      190\n",
       "Ligue 1                143\n",
       "Bundesliga             140\n",
       "Serie A                133\n",
       "La Liga                112\n",
       "Eredivisie              86\n",
       "Jr. PL2 -- Div. 2       74\n",
       "League One              72\n",
       "Primeira Liga           61\n",
       "First Division A        57\n",
       "Premiership             33\n",
       "Primera Div             29\n",
       "Ligue 2                 26\n",
       "League Two              25\n",
       "Eerste Divisie          24\n",
       "Superliga               24\n",
       "Jr. PL2                 18\n",
       "Pro League A            12\n",
       "Jr. U19 Bundesliga      11\n",
       "First League            11\n",
       "Allsvenskan             10\n",
       "Segunda Division         9\n",
       "Super Lg                 9\n",
       "MLS                      8\n",
       "Serie B                  8\n",
       "Primera A                7\n",
       "National League          7\n",
       "Super Lig                6\n",
       "J1 League                5\n",
       "Primera Division         5\n",
       "Pro League               5\n",
       "Eliteserien              4\n",
       "First Division B         4\n",
       "Liga                     3\n",
       "Tippeligaen              3\n",
       "Ekstraklasa              3\n",
       "Liga MX                  3\n",
       "HNL                      2\n",
       "Superettan               2\n",
       "Jr. U17 Bundesliga       2\n",
       "USL                      2\n",
       "J2 League                1\n",
       "SuperLiga                1\n",
       "Super League             1\n",
       "Conf Premier             1\n",
       "K League                 1\n",
       "Premier Division         1\n",
       "Pro League B             1\n",
       "Name: count, dtype: int64"
      ]
     },
     "execution_count": 22,
     "metadata": {},
     "output_type": "execute_result"
    }
   ],
   "source": [
    "raw_data_fbref['Comp'] = raw_data_fbref['Comp'].apply(unidecode)\n",
    "raw_data_fbref['Comp'] = raw_data_fbref['Comp'].str.replace(r'^(\\d+\\.?\\s*)+', '', regex=True)\n",
    "comp_counts = raw_data_fbref['Comp'].value_counts()\n",
    "comp_counts"
   ]
  },
  {
   "cell_type": "markdown",
   "id": "0eeddf41-7aa7-43d4-a528-d8ab1b44e63f",
   "metadata": {},
   "source": [
    "- Each player may hold multiple positions on the field based on the coach's tactics. However, for the sake of simplicity in this project, we will focus on their main position."
   ]
  },
  {
   "cell_type": "code",
   "execution_count": 23,
   "id": "8e25b67b-ad39-4245-aa0d-cbcd351fa72d",
   "metadata": {
    "tags": []
   },
   "outputs": [
    {
     "data": {
      "text/plain": [
       "Position\n",
       " FW-MF                313\n",
       " MF (CM-DM)           278\n",
       " DF (CB)              257\n",
       " FW-MF (AM)           232\n",
       " FW                   220\n",
       "                     ... \n",
       " DF (FB)                9\n",
       " DF-MF (DM-FB)          9\n",
       " MF (CM-DM, left)       7\n",
       " DF-MF (DM, right)      7\n",
       " FW-MF (WM, left)       6\n",
       "Name: count, Length: 76, dtype: int64"
      ]
     },
     "execution_count": 23,
     "metadata": {},
     "output_type": "execute_result"
    }
   ],
   "source": [
    "position_count = raw_data_fbref['Position'].value_counts()\n",
    "position_count"
   ]
  },
  {
   "cell_type": "markdown",
   "id": "b38b885b-4c32-462a-9410-94a55c6bd0ee",
   "metadata": {},
   "source": [
    "We will take the first (main) position of each player."
   ]
  },
  {
   "cell_type": "code",
   "execution_count": 24,
   "id": "aacacc38-d0be-4f25-a680-6299980a2818",
   "metadata": {
    "tags": []
   },
   "outputs": [
    {
     "data": {
      "text/plain": [
       "Position\n",
       "DF    1496\n",
       "FW    1118\n",
       "MF     785\n",
       "Name: count, dtype: int64"
      ]
     },
     "execution_count": 24,
     "metadata": {},
     "output_type": "execute_result"
    }
   ],
   "source": [
    "raw_data_fbref['Position'] = raw_data_fbref['Position'].str.replace('-', ' ').str.split().str[0]\n",
    "position_count = raw_data_fbref['Position'].value_counts()\n",
    "position_count"
   ]
  },
  {
   "cell_type": "markdown",
   "id": "e7272f6e-bac8-4b10-8394-26e8cc833ba5",
   "metadata": {},
   "source": [
    "**Handling missing values**\n",
    "\n",
    "First we will have a look at the missing ratio of each columns:"
   ]
  },
  {
   "cell_type": "code",
   "execution_count": 25,
   "id": "11448d0d-397e-45ec-860f-879577c48f13",
   "metadata": {
    "tags": []
   },
   "outputs": [
    {
     "data": {
      "text/plain": [
       "Name              0.000000\n",
       "Position          0.000000\n",
       "PreferredFoot     0.000000\n",
       "Season            0.000000\n",
       "Age               0.000000\n",
       "Squad             0.000000\n",
       "Country           0.000000\n",
       "Comp              0.000000\n",
       "LgRank            0.000000\n",
       "MP                0.000000\n",
       "Starts            0.000000\n",
       "Min               0.000000\n",
       "90s               0.000000\n",
       "Gls               0.000000\n",
       "Ast               0.000000\n",
       "G+A               0.000000\n",
       "G-PK              0.000000\n",
       "PK                0.000000\n",
       "PKatt             0.000000\n",
       "CrdY              0.000000\n",
       "CrdR              0.000000\n",
       "xG               29.008532\n",
       "npxG             29.008532\n",
       "xAG              29.008532\n",
       "npxG+xAG         29.008532\n",
       "PrgC              0.000000\n",
       "PrgP              0.000000\n",
       "PrgR              0.000000\n",
       "Gls/90            0.000000\n",
       "Ast/90            0.558988\n",
       "G+A/90            0.558988\n",
       "G-PK/90           0.000000\n",
       "G+A-PK/90         0.558988\n",
       "xG/90            29.008532\n",
       "xAG/90           29.008532\n",
       "xG+xAG/90        29.008532\n",
       "npxG/90          29.008532\n",
       "npxG+xAG/90      29.008532\n",
       "dtype: float64"
      ]
     },
     "execution_count": 25,
     "metadata": {},
     "output_type": "execute_result"
    }
   ],
   "source": [
    "missing_ratio = raw_data_fbref.isnull().mean() * 100\n",
    "missing_ratio"
   ]
  },
  {
   "cell_type": "markdown",
   "id": "91bd9c17-ef2f-481e-a715-f9fcf70e3bb5",
   "metadata": {},
   "source": [
    "The missing values in the columns can be categorized into two groups. The first group consists of columns with a low missing ratio, even less than 1%. The second group includes columns with a substantial number of missing values, approximately around 30%.\n",
    "\n",
    "- First step, we consider removing the rows that contains more than 50% NaN values."
   ]
  },
  {
   "cell_type": "code",
   "execution_count": 26,
   "id": "2e3534a6-19e1-44f8-9ad2-5c6323298918",
   "metadata": {
    "tags": []
   },
   "outputs": [
    {
     "data": {
      "text/plain": [
       "(3399, 38)"
      ]
     },
     "execution_count": 26,
     "metadata": {},
     "output_type": "execute_result"
    }
   ],
   "source": [
    "raw_data_fbref = raw_data_fbref.dropna(thresh=(raw_data_fbref.shape[1] * 0.5))\n",
    "raw_data_fbref.shape"
   ]
  },
  {
   "cell_type": "markdown",
   "id": "2b6df388-dbe1-4fa8-a419-ae0ede172e4d",
   "metadata": {},
   "source": [
    "- Despite certain columns having a high missing ratio, we opt to retain them for future analysis given their significance. As this pertains to football statistics, a more equitable approach involves filling the empty cells with mean values derived from players occupying similar positions on the field."
   ]
  },
  {
   "cell_type": "code",
   "execution_count": 27,
   "id": "c796c621-a006-43df-8a0e-a94db0c7ad27",
   "metadata": {
    "tags": []
   },
   "outputs": [],
   "source": [
    "missing_cols = missing_ratio[missing_ratio > 0].index\n",
    "raw_data_fbref[missing_cols] = raw_data_fbref.groupby('Position')[missing_cols].transform(lambda x: x.fillna(x.mean()))"
   ]
  },
  {
   "cell_type": "code",
   "execution_count": 28,
   "id": "65cdfef5-4276-4fcb-ae46-d9f0df72a97d",
   "metadata": {
    "tags": []
   },
   "outputs": [
    {
     "name": "stdout",
     "output_type": "stream",
     "text": [
      "The data is now good!\n"
     ]
    }
   ],
   "source": [
    "missing_ratio = raw_data_fbref.isnull().mean() * 100\n",
    "if (missing_ratio == 0).all():\n",
    "    print(\"The data is now good!\")\n",
    "else:\n",
    "    print(\"Still having missing values, please recheck!\")"
   ]
  },
  {
   "cell_type": "markdown",
   "id": "618fb7ea-e255-4390-89db-4b5951d21229",
   "metadata": {},
   "source": [
    "**Processed data**"
   ]
  },
  {
   "cell_type": "code",
   "execution_count": 29,
   "id": "92de25cf-ffdb-45bb-8c04-d09461d2d8ce",
   "metadata": {
    "tags": []
   },
   "outputs": [
    {
     "data": {
      "text/html": [
       "<div>\n",
       "<style scoped>\n",
       "    .dataframe tbody tr th:only-of-type {\n",
       "        vertical-align: middle;\n",
       "    }\n",
       "\n",
       "    .dataframe tbody tr th {\n",
       "        vertical-align: top;\n",
       "    }\n",
       "\n",
       "    .dataframe thead th {\n",
       "        text-align: right;\n",
       "    }\n",
       "</style>\n",
       "<table border=\"1\" class=\"dataframe\">\n",
       "  <thead>\n",
       "    <tr style=\"text-align: right;\">\n",
       "      <th></th>\n",
       "      <th>Name</th>\n",
       "      <th>Position</th>\n",
       "      <th>PreferredFoot</th>\n",
       "      <th>Season</th>\n",
       "      <th>Age</th>\n",
       "      <th>Squad</th>\n",
       "      <th>Country</th>\n",
       "      <th>Comp</th>\n",
       "      <th>LgRank</th>\n",
       "      <th>MP</th>\n",
       "      <th>Starts</th>\n",
       "      <th>Min</th>\n",
       "      <th>90s</th>\n",
       "      <th>Gls</th>\n",
       "      <th>Ast</th>\n",
       "      <th>G+A</th>\n",
       "      <th>G-PK</th>\n",
       "      <th>PK</th>\n",
       "      <th>PKatt</th>\n",
       "      <th>CrdY</th>\n",
       "      <th>CrdR</th>\n",
       "      <th>xG</th>\n",
       "      <th>npxG</th>\n",
       "      <th>xAG</th>\n",
       "      <th>npxG+xAG</th>\n",
       "      <th>PrgC</th>\n",
       "      <th>PrgP</th>\n",
       "      <th>PrgR</th>\n",
       "      <th>Gls/90</th>\n",
       "      <th>Ast/90</th>\n",
       "      <th>G+A/90</th>\n",
       "      <th>G-PK/90</th>\n",
       "      <th>G+A-PK/90</th>\n",
       "      <th>xG/90</th>\n",
       "      <th>xAG/90</th>\n",
       "      <th>xG+xAG/90</th>\n",
       "      <th>npxG/90</th>\n",
       "      <th>npxG+xAG/90</th>\n",
       "    </tr>\n",
       "  </thead>\n",
       "  <tbody>\n",
       "    <tr>\n",
       "      <th>0</th>\n",
       "      <td>William Saliba</td>\n",
       "      <td>DF</td>\n",
       "      <td>Right</td>\n",
       "      <td>2018-2019</td>\n",
       "      <td>17</td>\n",
       "      <td>Saint-Étienne</td>\n",
       "      <td>FRA</td>\n",
       "      <td>Ligue 1</td>\n",
       "      <td>4</td>\n",
       "      <td>16</td>\n",
       "      <td>13</td>\n",
       "      <td>1277</td>\n",
       "      <td>14.2</td>\n",
       "      <td>0</td>\n",
       "      <td>0</td>\n",
       "      <td>0</td>\n",
       "      <td>0</td>\n",
       "      <td>0</td>\n",
       "      <td>0</td>\n",
       "      <td>1</td>\n",
       "      <td>0</td>\n",
       "      <td>0.300000</td>\n",
       "      <td>0.300000</td>\n",
       "      <td>0.000000</td>\n",
       "      <td>0.300000</td>\n",
       "      <td>7</td>\n",
       "      <td>21</td>\n",
       "      <td>4</td>\n",
       "      <td>0.00</td>\n",
       "      <td>0.0</td>\n",
       "      <td>0.00</td>\n",
       "      <td>0.00</td>\n",
       "      <td>0.00</td>\n",
       "      <td>0.020000</td>\n",
       "      <td>0.000000</td>\n",
       "      <td>0.020000</td>\n",
       "      <td>0.020000</td>\n",
       "      <td>0.020000</td>\n",
       "    </tr>\n",
       "    <tr>\n",
       "      <th>1</th>\n",
       "      <td>William Saliba</td>\n",
       "      <td>DF</td>\n",
       "      <td>Right</td>\n",
       "      <td>2019-2020</td>\n",
       "      <td>18</td>\n",
       "      <td>Saint-Étienne</td>\n",
       "      <td>FRA</td>\n",
       "      <td>Ligue 1</td>\n",
       "      <td>17</td>\n",
       "      <td>12</td>\n",
       "      <td>11</td>\n",
       "      <td>992</td>\n",
       "      <td>11.0</td>\n",
       "      <td>0</td>\n",
       "      <td>0</td>\n",
       "      <td>0</td>\n",
       "      <td>0</td>\n",
       "      <td>0</td>\n",
       "      <td>0</td>\n",
       "      <td>0</td>\n",
       "      <td>0</td>\n",
       "      <td>0.200000</td>\n",
       "      <td>0.200000</td>\n",
       "      <td>0.100000</td>\n",
       "      <td>0.300000</td>\n",
       "      <td>20</td>\n",
       "      <td>33</td>\n",
       "      <td>7</td>\n",
       "      <td>0.00</td>\n",
       "      <td>0.0</td>\n",
       "      <td>0.00</td>\n",
       "      <td>0.00</td>\n",
       "      <td>0.00</td>\n",
       "      <td>0.020000</td>\n",
       "      <td>0.010000</td>\n",
       "      <td>0.030000</td>\n",
       "      <td>0.020000</td>\n",
       "      <td>0.030000</td>\n",
       "    </tr>\n",
       "    <tr>\n",
       "      <th>2</th>\n",
       "      <td>William Saliba</td>\n",
       "      <td>DF</td>\n",
       "      <td>Right</td>\n",
       "      <td>2020-2021</td>\n",
       "      <td>19</td>\n",
       "      <td>Nice</td>\n",
       "      <td>FRA</td>\n",
       "      <td>Ligue 1</td>\n",
       "      <td>9</td>\n",
       "      <td>20</td>\n",
       "      <td>20</td>\n",
       "      <td>1800</td>\n",
       "      <td>20.0</td>\n",
       "      <td>1</td>\n",
       "      <td>0</td>\n",
       "      <td>1</td>\n",
       "      <td>1</td>\n",
       "      <td>0</td>\n",
       "      <td>0</td>\n",
       "      <td>2</td>\n",
       "      <td>0</td>\n",
       "      <td>0.800000</td>\n",
       "      <td>0.800000</td>\n",
       "      <td>0.000000</td>\n",
       "      <td>0.900000</td>\n",
       "      <td>36</td>\n",
       "      <td>106</td>\n",
       "      <td>3</td>\n",
       "      <td>0.05</td>\n",
       "      <td>0.0</td>\n",
       "      <td>0.05</td>\n",
       "      <td>0.05</td>\n",
       "      <td>0.05</td>\n",
       "      <td>0.040000</td>\n",
       "      <td>0.000000</td>\n",
       "      <td>0.040000</td>\n",
       "      <td>0.040000</td>\n",
       "      <td>0.040000</td>\n",
       "    </tr>\n",
       "    <tr>\n",
       "      <th>3</th>\n",
       "      <td>William Saliba</td>\n",
       "      <td>DF</td>\n",
       "      <td>Right</td>\n",
       "      <td>2020-2021</td>\n",
       "      <td>19</td>\n",
       "      <td>Arsenal</td>\n",
       "      <td>ENG</td>\n",
       "      <td>Jr. PL2 -- Div. 1</td>\n",
       "      <td>10</td>\n",
       "      <td>6</td>\n",
       "      <td>6</td>\n",
       "      <td>526</td>\n",
       "      <td>5.8</td>\n",
       "      <td>0</td>\n",
       "      <td>0</td>\n",
       "      <td>0</td>\n",
       "      <td>0</td>\n",
       "      <td>0</td>\n",
       "      <td>0</td>\n",
       "      <td>1</td>\n",
       "      <td>0</td>\n",
       "      <td>1.103445</td>\n",
       "      <td>1.072249</td>\n",
       "      <td>1.269282</td>\n",
       "      <td>2.340478</td>\n",
       "      <td>0</td>\n",
       "      <td>0</td>\n",
       "      <td>0</td>\n",
       "      <td>0.00</td>\n",
       "      <td>0.0</td>\n",
       "      <td>0.00</td>\n",
       "      <td>0.00</td>\n",
       "      <td>0.00</td>\n",
       "      <td>0.058096</td>\n",
       "      <td>0.079837</td>\n",
       "      <td>0.137923</td>\n",
       "      <td>0.056746</td>\n",
       "      <td>0.136612</td>\n",
       "    </tr>\n",
       "    <tr>\n",
       "      <th>4</th>\n",
       "      <td>William Saliba</td>\n",
       "      <td>DF</td>\n",
       "      <td>Right</td>\n",
       "      <td>2021-2022</td>\n",
       "      <td>20</td>\n",
       "      <td>Marseille</td>\n",
       "      <td>FRA</td>\n",
       "      <td>Ligue 1</td>\n",
       "      <td>2</td>\n",
       "      <td>36</td>\n",
       "      <td>36</td>\n",
       "      <td>3240</td>\n",
       "      <td>36.0</td>\n",
       "      <td>0</td>\n",
       "      <td>0</td>\n",
       "      <td>0</td>\n",
       "      <td>0</td>\n",
       "      <td>0</td>\n",
       "      <td>0</td>\n",
       "      <td>5</td>\n",
       "      <td>0</td>\n",
       "      <td>1.700000</td>\n",
       "      <td>1.700000</td>\n",
       "      <td>0.400000</td>\n",
       "      <td>2.100000</td>\n",
       "      <td>50</td>\n",
       "      <td>220</td>\n",
       "      <td>14</td>\n",
       "      <td>0.00</td>\n",
       "      <td>0.0</td>\n",
       "      <td>0.00</td>\n",
       "      <td>0.00</td>\n",
       "      <td>0.00</td>\n",
       "      <td>0.050000</td>\n",
       "      <td>0.010000</td>\n",
       "      <td>0.060000</td>\n",
       "      <td>0.050000</td>\n",
       "      <td>0.060000</td>\n",
       "    </tr>\n",
       "  </tbody>\n",
       "</table>\n",
       "</div>"
      ],
      "text/plain": [
       "             Name Position PreferredFoot     Season  Age          Squad  \\\n",
       "0  William Saliba       DF         Right  2018-2019   17  Saint-Étienne   \n",
       "1  William Saliba       DF         Right  2019-2020   18  Saint-Étienne   \n",
       "2  William Saliba       DF         Right  2020-2021   19           Nice   \n",
       "3  William Saliba       DF         Right  2020-2021   19        Arsenal   \n",
       "4  William Saliba       DF         Right  2021-2022   20      Marseille   \n",
       "\n",
       "  Country               Comp  LgRank  MP  Starts   Min   90s  Gls  Ast  G+A  \\\n",
       "0     FRA            Ligue 1       4  16      13  1277  14.2    0    0    0   \n",
       "1     FRA            Ligue 1      17  12      11   992  11.0    0    0    0   \n",
       "2     FRA            Ligue 1       9  20      20  1800  20.0    1    0    1   \n",
       "3     ENG  Jr. PL2 -- Div. 1      10   6       6   526   5.8    0    0    0   \n",
       "4     FRA            Ligue 1       2  36      36  3240  36.0    0    0    0   \n",
       "\n",
       "   G-PK  PK  PKatt  CrdY  CrdR        xG      npxG       xAG  npxG+xAG  PrgC  \\\n",
       "0     0   0      0     1     0  0.300000  0.300000  0.000000  0.300000     7   \n",
       "1     0   0      0     0     0  0.200000  0.200000  0.100000  0.300000    20   \n",
       "2     1   0      0     2     0  0.800000  0.800000  0.000000  0.900000    36   \n",
       "3     0   0      0     1     0  1.103445  1.072249  1.269282  2.340478     0   \n",
       "4     0   0      0     5     0  1.700000  1.700000  0.400000  2.100000    50   \n",
       "\n",
       "   PrgP  PrgR  Gls/90  Ast/90  G+A/90  G-PK/90  G+A-PK/90     xG/90    xAG/90  \\\n",
       "0    21     4    0.00     0.0    0.00     0.00       0.00  0.020000  0.000000   \n",
       "1    33     7    0.00     0.0    0.00     0.00       0.00  0.020000  0.010000   \n",
       "2   106     3    0.05     0.0    0.05     0.05       0.05  0.040000  0.000000   \n",
       "3     0     0    0.00     0.0    0.00     0.00       0.00  0.058096  0.079837   \n",
       "4   220    14    0.00     0.0    0.00     0.00       0.00  0.050000  0.010000   \n",
       "\n",
       "   xG+xAG/90   npxG/90  npxG+xAG/90  \n",
       "0   0.020000  0.020000     0.020000  \n",
       "1   0.030000  0.020000     0.030000  \n",
       "2   0.040000  0.040000     0.040000  \n",
       "3   0.137923  0.056746     0.136612  \n",
       "4   0.060000  0.050000     0.060000  "
      ]
     },
     "execution_count": 29,
     "metadata": {},
     "output_type": "execute_result"
    }
   ],
   "source": [
    "processed_data_fbref = raw_data_fbref\n",
    "processed_data_fbref.head()"
   ]
  },
  {
   "cell_type": "markdown",
   "id": "78c2dfd5",
   "metadata": {},
   "source": [
    "### **2.2. Transfermarkt data**"
   ]
  },
  {
   "cell_type": "markdown",
   "id": "7a23eb49-163b-4e3a-9513-4408532df891",
   "metadata": {},
   "source": [
    "#### **Raw data inspect**"
   ]
  },
  {
   "cell_type": "code",
   "execution_count": 30,
   "id": "8d3efdb8",
   "metadata": {
    "tags": []
   },
   "outputs": [
    {
     "data": {
      "text/html": [
       "<div>\n",
       "<style scoped>\n",
       "    .dataframe tbody tr th:only-of-type {\n",
       "        vertical-align: middle;\n",
       "    }\n",
       "\n",
       "    .dataframe tbody tr th {\n",
       "        vertical-align: top;\n",
       "    }\n",
       "\n",
       "    .dataframe thead th {\n",
       "        text-align: right;\n",
       "    }\n",
       "</style>\n",
       "<table border=\"1\" class=\"dataframe\">\n",
       "  <thead>\n",
       "    <tr style=\"text-align: right;\">\n",
       "      <th></th>\n",
       "      <th>Name</th>\n",
       "      <th>Season</th>\n",
       "      <th>Injury</th>\n",
       "      <th>from</th>\n",
       "      <th>until</th>\n",
       "      <th>Days</th>\n",
       "      <th>Games missed</th>\n",
       "    </tr>\n",
       "  </thead>\n",
       "  <tbody>\n",
       "    <tr>\n",
       "      <th>0</th>\n",
       "      <td>Ederson</td>\n",
       "      <td>20/21</td>\n",
       "      <td>Virus</td>\n",
       "      <td>Dec 27, 2020</td>\n",
       "      <td>Jan 12, 2021</td>\n",
       "      <td>16 days</td>\n",
       "      <td>3</td>\n",
       "    </tr>\n",
       "    <tr>\n",
       "      <th>1</th>\n",
       "      <td>Ederson</td>\n",
       "      <td>19/20</td>\n",
       "      <td>Ill</td>\n",
       "      <td>Dec 30, 2019</td>\n",
       "      <td>Jan 7, 2020</td>\n",
       "      <td>8 days</td>\n",
       "      <td>3</td>\n",
       "    </tr>\n",
       "    <tr>\n",
       "      <th>2</th>\n",
       "      <td>Ederson</td>\n",
       "      <td>19/20</td>\n",
       "      <td>Ill</td>\n",
       "      <td>Dec 8, 2019</td>\n",
       "      <td>Dec 14, 2019</td>\n",
       "      <td>6 days</td>\n",
       "      <td>1</td>\n",
       "    </tr>\n",
       "    <tr>\n",
       "      <th>3</th>\n",
       "      <td>Ederson</td>\n",
       "      <td>19/20</td>\n",
       "      <td>muscular problems</td>\n",
       "      <td>Nov 6, 2019</td>\n",
       "      <td>Nov 22, 2019</td>\n",
       "      <td>16 days</td>\n",
       "      <td>4</td>\n",
       "    </tr>\n",
       "    <tr>\n",
       "      <th>4</th>\n",
       "      <td>Ederson</td>\n",
       "      <td>17/18</td>\n",
       "      <td>Facial injury</td>\n",
       "      <td>Sep 10, 2017</td>\n",
       "      <td>Sep 12, 2017</td>\n",
       "      <td>2 days</td>\n",
       "      <td>-</td>\n",
       "    </tr>\n",
       "  </tbody>\n",
       "</table>\n",
       "</div>"
      ],
      "text/plain": [
       "      Name Season             Injury          from         until     Days  \\\n",
       "0  Ederson  20/21              Virus  Dec 27, 2020  Jan 12, 2021  16 days   \n",
       "1  Ederson  19/20                Ill  Dec 30, 2019   Jan 7, 2020   8 days   \n",
       "2  Ederson  19/20                Ill   Dec 8, 2019  Dec 14, 2019   6 days   \n",
       "3  Ederson  19/20  muscular problems   Nov 6, 2019  Nov 22, 2019  16 days   \n",
       "4  Ederson  17/18      Facial injury  Sep 10, 2017  Sep 12, 2017   2 days   \n",
       "\n",
       "  Games missed  \n",
       "0            3  \n",
       "1            3  \n",
       "2            1  \n",
       "3            4  \n",
       "4            -  "
      ]
     },
     "execution_count": 30,
     "metadata": {},
     "output_type": "execute_result"
    }
   ],
   "source": [
    "raw_data_trans = pd.read_csv(\"../../data/raw/raw_data_trans.csv\")\n",
    "raw_data_trans.head()"
   ]
  },
  {
   "cell_type": "markdown",
   "id": "ca24d5fa-bcaf-44a0-a920-53cc6a012d32",
   "metadata": {},
   "source": [
    "It seems that, for this data table, the data is relatively clean, and there are no columns containing junk data. Therefore, removing columns is not yet necessary at the current time. However, some reformation must be done for synchronization with the previous data."
   ]
  },
  {
   "cell_type": "markdown",
   "id": "15c3fef6-08b8-4d86-951b-b4068eb77299",
   "metadata": {},
   "source": [
    "**Checking data shape**"
   ]
  },
  {
   "cell_type": "code",
   "execution_count": 31,
   "id": "8c440bbf-e280-41fd-b824-0f2cdfb8dd02",
   "metadata": {
    "tags": []
   },
   "outputs": [
    {
     "data": {
      "text/plain": [
       "(3233, 7)"
      ]
     },
     "execution_count": 31,
     "metadata": {},
     "output_type": "execute_result"
    }
   ],
   "source": [
    "trans_shape = raw_data_trans.shape\n",
    "trans_shape"
   ]
  },
  {
   "cell_type": "code",
   "execution_count": 32,
   "id": "0068d5d2-7af4-485f-884d-cbe509af5995",
   "metadata": {
    "tags": []
   },
   "outputs": [
    {
     "name": "stdout",
     "output_type": "stream",
     "text": [
      "Current shape: (3944, 39)\n",
      "Data is good!\n"
     ]
    }
   ],
   "source": [
    "# testing if data include enough 1000 items\n",
    "print(f\"Current shape: {fbref_shape}\")\n",
    "\n",
    "if fbref_shape[0] > 1000:\n",
    "    print(f\"Data is good!\")\n",
    "else:\n",
    "    print(f\"Raw data is absolutely small. Please recheck!\")"
   ]
  },
  {
   "cell_type": "markdown",
   "id": "c94db6cc-7c24-4a3a-a85b-d5aea380939f",
   "metadata": {},
   "source": [
    "**Checking duplicated rows**"
   ]
  },
  {
   "cell_type": "code",
   "execution_count": 33,
   "id": "f1a6337a-7ed6-4390-bec2-97774b1b0528",
   "metadata": {
    "tags": []
   },
   "outputs": [],
   "source": [
    "index = raw_data_trans.index\n",
    "detect_dup_series = index.duplicated(keep='first')\n",
    "num_duplicated_rows = detect_dup_series.sum()"
   ]
  },
  {
   "cell_type": "code",
   "execution_count": 34,
   "id": "2b1bffbf-c121-451c-abf0-3e2d73fe3b0f",
   "metadata": {
    "tags": []
   },
   "outputs": [
    {
     "name": "stdout",
     "output_type": "stream",
     "text": [
      "Raw data have no duplicated rows.!\n"
     ]
    }
   ],
   "source": [
    "# checking containing duplicated rows\n",
    "if num_duplicated_rows == 0:\n",
    "    print(f\"Raw data have no duplicated rows.!\")\n",
    "else:\n",
    "    if num_duplicated_rows > 1:\n",
    "        ext = \"lines\"\n",
    "    else:\n",
    "        ext = \"line\"\n",
    "    print(f\"Raw data have {num_duplicated_rows} duplicated \" + ext + \". Please de-deduplicate the data.!\")"
   ]
  },
  {
   "cell_type": "markdown",
   "id": "af7b0a9a-0ba7-467a-83dc-f33945887ee0",
   "metadata": {},
   "source": [
    "**Column informations**"
   ]
  },
  {
   "cell_type": "code",
   "execution_count": 35,
   "id": "2dad0388-8a30-4c6f-ab95-b9c387e378ae",
   "metadata": {
    "tags": []
   },
   "outputs": [
    {
     "name": "stdout",
     "output_type": "stream",
     "text": [
      "<class 'pandas.core.frame.DataFrame'>\n",
      "RangeIndex: 3233 entries, 0 to 3232\n",
      "Data columns (total 7 columns):\n",
      " #   Column        Non-Null Count  Dtype \n",
      "---  ------        --------------  ----- \n",
      " 0   Name          3233 non-null   object\n",
      " 1   Season        3233 non-null   object\n",
      " 2   Injury        3233 non-null   object\n",
      " 3   from          3233 non-null   object\n",
      " 4   until         3233 non-null   object\n",
      " 5   Days          3233 non-null   object\n",
      " 6   Games missed  3233 non-null   object\n",
      "dtypes: object(7)\n",
      "memory usage: 176.9+ KB\n"
     ]
    }
   ],
   "source": [
    "raw_data_trans.info()"
   ]
  },
  {
   "cell_type": "markdown",
   "id": "7717e86c-913d-4bcf-9e28-9ef9ce92d315",
   "metadata": {},
   "source": [
    "The dataset appears to be well-maintained with no discernible issues, and there is no necessity to eliminate any columns or rows."
   ]
  },
  {
   "cell_type": "markdown",
   "id": "9b2836d6-c536-4a1b-975e-419966fdb905",
   "metadata": {},
   "source": [
    "**Field meanings**"
   ]
  },
  {
   "cell_type": "markdown",
   "id": "ef997efa-45d8-4dcf-9260-3608d6af8045",
   "metadata": {},
   "source": [
    "| Field           | Description                                                  |\n",
    "|-----------------|--------------------------------------------------------------|\n",
    "| **Name**        | The name of the player.                                      |\n",
    "| **Season**      | The season during which the injury occurred.                 |\n",
    "| **Injury**      | The type or nature of the injury sustained by the player.    |\n",
    "| **From**        | The date when the player suffered the injury.                |\n",
    "| **Until**       | The date when the player recovered from the injury.          |\n",
    "| **Days**        | The duration of the injury in days.                          |\n",
    "| **Games missed**| The number of games the player missed due to the injury.     |\n"
   ]
  },
  {
   "cell_type": "markdown",
   "id": "3676838a",
   "metadata": {},
   "source": [
    "**Reformating features and Adjusting data types**"
   ]
  },
  {
   "cell_type": "markdown",
   "id": "c04d63c2",
   "metadata": {},
   "source": [
    "- We need to change `Season` format to match the one of fbref data for later stage."
   ]
  },
  {
   "cell_type": "code",
   "execution_count": 36,
   "id": "aa48345e",
   "metadata": {
    "tags": []
   },
   "outputs": [
    {
     "name": "stdout",
     "output_type": "stream",
     "text": [
      "Season\n",
      "20/21    598\n",
      "21/22    508\n",
      "19/20    474\n",
      "18/19    460\n",
      "22/23    414\n",
      "17/18    201\n",
      "23/24    165\n",
      "16/17    156\n",
      "15/16    116\n",
      "14/15     85\n",
      "13/14     56\n",
      "Name: count, dtype: int64\n",
      "Total: 3233\n"
     ]
    }
   ],
   "source": [
    "seas_count = raw_data_trans['Season'].value_counts()\n",
    "print(seas_count)\n",
    "print(f\"Total: {seas_count.sum()}\")"
   ]
  },
  {
   "cell_type": "code",
   "execution_count": 37,
   "id": "7473b3c2",
   "metadata": {
    "tags": []
   },
   "outputs": [
    {
     "name": "stdout",
     "output_type": "stream",
     "text": [
      "Season\n",
      "2020-2021    598\n",
      "2021-2022    508\n",
      "2019-2020    474\n",
      "2018-2019    460\n",
      "2022-2023    414\n",
      "2017-2018    201\n",
      "2023-2024    165\n",
      "2016-2017    156\n",
      "2015-2016    116\n",
      "2014-2015     85\n",
      "2013-2014     56\n",
      "Name: count, dtype: int64\n",
      "Total: 3233\n"
     ]
    }
   ],
   "source": [
    "def format_trans_season (season):\n",
    "    if pd.notna(season):\n",
    "        year = season.split('/')\n",
    "        return f\"20{year[0]}-20{year[1]}\"\n",
    "    else:\n",
    "        return season\n",
    "raw_data_trans['Season'] = raw_data_trans['Season'].apply(format_trans_season)\n",
    "seas_count = raw_data_trans['Season'].value_counts()\n",
    "print(seas_count)\n",
    "print(f\"Total: {seas_count.sum()}\")"
   ]
  },
  {
   "cell_type": "markdown",
   "id": "e3f07520",
   "metadata": {},
   "source": [
    "- Adjusting `Days` format to int, and removing unnecessary 'days' string."
   ]
  },
  {
   "cell_type": "code",
   "execution_count": 38,
   "id": "c13b5c1c",
   "metadata": {
    "scrolled": true,
    "tags": []
   },
   "outputs": [
    {
     "data": {
      "text/plain": [
       "dtype('int64')"
      ]
     },
     "execution_count": 38,
     "metadata": {},
     "output_type": "execute_result"
    }
   ],
   "source": [
    "raw_data_trans  = raw_data_trans.copy()\n",
    "raw_data_trans['Days'] = raw_data_trans['Days'].str.split().str[0].astype('int64')\n",
    "raw_data_trans['Days'].dtypes"
   ]
  },
  {
   "cell_type": "markdown",
   "id": "751ec9fa-b798-4e8f-b525-d2bcb5c6d1ce",
   "metadata": {},
   "source": [
    "- We will adjust the date object into simpler format."
   ]
  },
  {
   "cell_type": "code",
   "execution_count": 39,
   "id": "103df8b1-8eb3-4eb1-9d15-83abbeaaee56",
   "metadata": {
    "tags": []
   },
   "outputs": [
    {
     "data": {
      "text/html": [
       "<div>\n",
       "<style scoped>\n",
       "    .dataframe tbody tr th:only-of-type {\n",
       "        vertical-align: middle;\n",
       "    }\n",
       "\n",
       "    .dataframe tbody tr th {\n",
       "        vertical-align: top;\n",
       "    }\n",
       "\n",
       "    .dataframe thead th {\n",
       "        text-align: right;\n",
       "    }\n",
       "</style>\n",
       "<table border=\"1\" class=\"dataframe\">\n",
       "  <thead>\n",
       "    <tr style=\"text-align: right;\">\n",
       "      <th></th>\n",
       "      <th>from</th>\n",
       "      <th>until</th>\n",
       "    </tr>\n",
       "  </thead>\n",
       "  <tbody>\n",
       "    <tr>\n",
       "      <th>0</th>\n",
       "      <td>2020-12-27</td>\n",
       "      <td>2021-01-12</td>\n",
       "    </tr>\n",
       "    <tr>\n",
       "      <th>1</th>\n",
       "      <td>2019-12-30</td>\n",
       "      <td>2020-01-07</td>\n",
       "    </tr>\n",
       "    <tr>\n",
       "      <th>2</th>\n",
       "      <td>2019-12-08</td>\n",
       "      <td>2019-12-14</td>\n",
       "    </tr>\n",
       "    <tr>\n",
       "      <th>3</th>\n",
       "      <td>2019-11-06</td>\n",
       "      <td>2019-11-22</td>\n",
       "    </tr>\n",
       "    <tr>\n",
       "      <th>4</th>\n",
       "      <td>2017-09-10</td>\n",
       "      <td>2017-09-12</td>\n",
       "    </tr>\n",
       "  </tbody>\n",
       "</table>\n",
       "</div>"
      ],
      "text/plain": [
       "        from      until\n",
       "0 2020-12-27 2021-01-12\n",
       "1 2019-12-30 2020-01-07\n",
       "2 2019-12-08 2019-12-14\n",
       "3 2019-11-06 2019-11-22\n",
       "4 2017-09-10 2017-09-12"
      ]
     },
     "execution_count": 39,
     "metadata": {},
     "output_type": "execute_result"
    }
   ],
   "source": [
    "raw_data_trans['from'] = pd.to_datetime(raw_data_trans['from'], errors='coerce')\n",
    "raw_data_trans['until'] = pd.to_datetime(raw_data_trans['until'], errors='coerce')\n",
    "raw_data_trans[['from', 'until']].head()"
   ]
  },
  {
   "cell_type": "markdown",
   "id": "cb29c689-78e6-4e65-ad87-ebcab4531ef0",
   "metadata": {},
   "source": [
    "- The format of the `Games missed` column appears to be incorrect. Let's examine its values first."
   ]
  },
  {
   "cell_type": "code",
   "execution_count": 40,
   "id": "75f79e11-1397-4869-a4c5-08e6b1df0431",
   "metadata": {
    "tags": []
   },
   "outputs": [
    {
     "data": {
      "text/plain": [
       "Games missed\n",
       "1      654\n",
       "2      480\n",
       "3      360\n",
       "-      266\n",
       "4      220\n",
       "      ... \n",
       "104      1\n",
       "62       1\n",
       "54       1\n",
       "82       1\n",
       "91       1\n",
       "Name: count, Length: 66, dtype: int64"
      ]
     },
     "execution_count": 40,
     "metadata": {},
     "output_type": "execute_result"
    }
   ],
   "source": [
    "missed_games_count = raw_data_trans['Games missed'].value_counts()\n",
    "missed_games_count"
   ]
  },
  {
   "cell_type": "markdown",
   "id": "81cf84a3-e088-410f-aec5-0c0333d1f4fa",
   "metadata": {},
   "source": [
    "It appears that the data uses some characters to represent zero games missed. To address this, we should replace these characters with 0 and then convert the column to the correct data type."
   ]
  },
  {
   "cell_type": "code",
   "execution_count": 41,
   "id": "f0a0d58a-e207-49fe-b337-022fa9c750d6",
   "metadata": {
    "tags": []
   },
   "outputs": [
    {
     "data": {
      "text/plain": [
       "0        3\n",
       "1        3\n",
       "2        1\n",
       "3        4\n",
       "4        0\n",
       "        ..\n",
       "3228     1\n",
       "3229     1\n",
       "3230     8\n",
       "3231     4\n",
       "3232    16\n",
       "Name: Games missed, Length: 3233, dtype: int64"
      ]
     },
     "execution_count": 41,
     "metadata": {},
     "output_type": "execute_result"
    }
   ],
   "source": [
    "raw_data_trans['Games missed'] = pd.to_numeric(raw_data_trans['Games missed'].replace('[^\\d]', '0', regex=True))\n",
    "raw_data_trans['Games missed']"
   ]
  },
  {
   "cell_type": "markdown",
   "id": "462198d4-7040-4005-87c4-671c6d9d1b92",
   "metadata": {},
   "source": [
    "**Handling missing values**\n",
    "\n",
    "First we will have a look at the missing ratio of each columns:"
   ]
  },
  {
   "cell_type": "code",
   "execution_count": 42,
   "id": "46c521c4-008b-430e-9784-2163f227ca52",
   "metadata": {
    "tags": []
   },
   "outputs": [
    {
     "data": {
      "text/plain": [
       "Name            0.000000\n",
       "Season          0.000000\n",
       "Injury          0.000000\n",
       "from            0.000000\n",
       "until           1.948655\n",
       "Days            0.000000\n",
       "Games missed    0.000000\n",
       "dtype: float64"
      ]
     },
     "execution_count": 42,
     "metadata": {},
     "output_type": "execute_result"
    }
   ],
   "source": [
    "missing_ratio = raw_data_trans.isnull().mean() * 100\n",
    "missing_ratio"
   ]
  },
  {
   "cell_type": "markdown",
   "id": "dca09caf-4a3e-45be-b701-6e15c130907b",
   "metadata": {},
   "source": [
    "Only one column exhibits missing values, possibly as a result of the reformation process. Given the relatively small proportion and the potential hindrance in subsequent data processing, we have decided to remove the rows with missing values in this column."
   ]
  },
  {
   "cell_type": "code",
   "execution_count": 43,
   "id": "c2415377-0bc2-4ebd-ad87-5a9208a89352",
   "metadata": {
    "tags": []
   },
   "outputs": [],
   "source": [
    "raw_data_trans = raw_data_trans.dropna(subset=['until'])"
   ]
  },
  {
   "cell_type": "code",
   "execution_count": 44,
   "id": "0d0795a3-50b1-40bf-89a7-9a0ede801258",
   "metadata": {
    "tags": []
   },
   "outputs": [
    {
     "name": "stdout",
     "output_type": "stream",
     "text": [
      "The data is now good!\n"
     ]
    }
   ],
   "source": [
    "missing_ratio = raw_data_trans.isnull().mean() * 100\n",
    "if (missing_ratio == 0).all():\n",
    "    print(\"The data is now good!\")\n",
    "else:\n",
    "    print(\"Still having missing values, please recheck!\")"
   ]
  },
  {
   "cell_type": "markdown",
   "id": "6e73b809-4579-418e-8036-172f7a7920dc",
   "metadata": {},
   "source": [
    "**Processed data**"
   ]
  },
  {
   "cell_type": "code",
   "execution_count": 45,
   "id": "8396e3c2",
   "metadata": {
    "tags": []
   },
   "outputs": [
    {
     "data": {
      "text/html": [
       "<div>\n",
       "<style scoped>\n",
       "    .dataframe tbody tr th:only-of-type {\n",
       "        vertical-align: middle;\n",
       "    }\n",
       "\n",
       "    .dataframe tbody tr th {\n",
       "        vertical-align: top;\n",
       "    }\n",
       "\n",
       "    .dataframe thead th {\n",
       "        text-align: right;\n",
       "    }\n",
       "</style>\n",
       "<table border=\"1\" class=\"dataframe\">\n",
       "  <thead>\n",
       "    <tr style=\"text-align: right;\">\n",
       "      <th></th>\n",
       "      <th>Name</th>\n",
       "      <th>Season</th>\n",
       "      <th>Injury</th>\n",
       "      <th>from</th>\n",
       "      <th>until</th>\n",
       "      <th>Days</th>\n",
       "      <th>Games missed</th>\n",
       "    </tr>\n",
       "  </thead>\n",
       "  <tbody>\n",
       "    <tr>\n",
       "      <th>0</th>\n",
       "      <td>Ederson</td>\n",
       "      <td>2020-2021</td>\n",
       "      <td>Virus</td>\n",
       "      <td>2020-12-27</td>\n",
       "      <td>2021-01-12</td>\n",
       "      <td>16</td>\n",
       "      <td>3</td>\n",
       "    </tr>\n",
       "    <tr>\n",
       "      <th>1</th>\n",
       "      <td>Ederson</td>\n",
       "      <td>2019-2020</td>\n",
       "      <td>Ill</td>\n",
       "      <td>2019-12-30</td>\n",
       "      <td>2020-01-07</td>\n",
       "      <td>8</td>\n",
       "      <td>3</td>\n",
       "    </tr>\n",
       "    <tr>\n",
       "      <th>2</th>\n",
       "      <td>Ederson</td>\n",
       "      <td>2019-2020</td>\n",
       "      <td>Ill</td>\n",
       "      <td>2019-12-08</td>\n",
       "      <td>2019-12-14</td>\n",
       "      <td>6</td>\n",
       "      <td>1</td>\n",
       "    </tr>\n",
       "    <tr>\n",
       "      <th>3</th>\n",
       "      <td>Ederson</td>\n",
       "      <td>2019-2020</td>\n",
       "      <td>muscular problems</td>\n",
       "      <td>2019-11-06</td>\n",
       "      <td>2019-11-22</td>\n",
       "      <td>16</td>\n",
       "      <td>4</td>\n",
       "    </tr>\n",
       "    <tr>\n",
       "      <th>4</th>\n",
       "      <td>Ederson</td>\n",
       "      <td>2017-2018</td>\n",
       "      <td>Facial injury</td>\n",
       "      <td>2017-09-10</td>\n",
       "      <td>2017-09-12</td>\n",
       "      <td>2</td>\n",
       "      <td>0</td>\n",
       "    </tr>\n",
       "  </tbody>\n",
       "</table>\n",
       "</div>"
      ],
      "text/plain": [
       "      Name     Season             Injury       from      until  Days  \\\n",
       "0  Ederson  2020-2021              Virus 2020-12-27 2021-01-12    16   \n",
       "1  Ederson  2019-2020                Ill 2019-12-30 2020-01-07     8   \n",
       "2  Ederson  2019-2020                Ill 2019-12-08 2019-12-14     6   \n",
       "3  Ederson  2019-2020  muscular problems 2019-11-06 2019-11-22    16   \n",
       "4  Ederson  2017-2018      Facial injury 2017-09-10 2017-09-12     2   \n",
       "\n",
       "   Games missed  \n",
       "0             3  \n",
       "1             3  \n",
       "2             1  \n",
       "3             4  \n",
       "4             0  "
      ]
     },
     "execution_count": 45,
     "metadata": {},
     "output_type": "execute_result"
    }
   ],
   "source": [
    "processed_data_trans = raw_data_trans\n",
    "processed_data_trans.head()"
   ]
  },
  {
   "cell_type": "markdown",
   "id": "a885881e",
   "metadata": {},
   "source": [
    "## 3. Merging data"
   ]
  },
  {
   "cell_type": "markdown",
   "id": "4fc96106",
   "metadata": {},
   "source": [
    "**Merging 2 dataframes can help to attach additional informations for later stage**"
   ]
  },
  {
   "cell_type": "markdown",
   "id": "465abdef",
   "metadata": {},
   "source": [
    "There is a challenge where the names of players in two dataframes may not always match. Therefore, we require the assistance of a package called `fuzzywuzzy` to assess the similarity between two strings for merging purposes."
   ]
  },
  {
   "cell_type": "code",
   "execution_count": 46,
   "id": "0f46c7c5",
   "metadata": {
    "tags": []
   },
   "outputs": [],
   "source": [
    "# create a dictionary for matching names of 2 Name columns of 2 dataframes\n",
    "name_matches = {}\n",
    "fbref_name = processed_data_fbref['Name'].unique()\n",
    "trans_name = list(processed_data_trans['Name'].unique())\n",
    "\n",
    "for name in fbref_name:\n",
    "    if trans_name:\n",
    "        best_match, score = process.extractOne(name, trans_name,scorer = fuzz.token_set_ratio)\n",
    "        if score > 90:\n",
    "            name_matches[name] = best_match\n",
    "            trans_name.remove(best_match)\n",
    "        else:\n",
    "            name_matches[name] = name\n",
    "    else:\n",
    "        name_matches[name] = name\n",
    "\n",
    "\n",
    "processed_data_fbref['Name'] = processed_data_fbref['Name'].map(name_matches)\n",
    "\n",
    "# Merge based on both 'Name' and 'Season'\n",
    "merged_df = pd.merge(processed_data_fbref, processed_data_trans , left_on=['Name', 'Season'], right_on=['Name', 'Season'], how='left')"
   ]
  },
  {
   "cell_type": "code",
   "execution_count": 47,
   "id": "396e7471",
   "metadata": {
    "tags": []
   },
   "outputs": [
    {
     "data": {
      "text/plain": [
       "William Saliba            William Saliba\n",
       "Declan Rice                  Declan Rice\n",
       "Bukayo Saka                  Bukayo Saka\n",
       "Ben White                      Ben White\n",
       "Martin Ødegaard          Martin Ødegaard\n",
       "                             ...        \n",
       "Jacob Bruun Larsen    Jacob Bruun Larsen\n",
       "Nathan Redmond            Nathan Redmond\n",
       "Jack Cork                      Jack Cork\n",
       "Michael Obafemi          Michael Obafemi\n",
       "Hjalmar Ekdal              Hjalmar Ekdal\n",
       "Length: 389, dtype: object"
      ]
     },
     "execution_count": 47,
     "metadata": {},
     "output_type": "execute_result"
    }
   ],
   "source": [
    "# matching names found\n",
    "pd.Series(name_matches)"
   ]
  },
  {
   "cell_type": "code",
   "execution_count": 48,
   "id": "904ee389",
   "metadata": {
    "tags": []
   },
   "outputs": [
    {
     "data": {
      "text/html": [
       "<div>\n",
       "<style scoped>\n",
       "    .dataframe tbody tr th:only-of-type {\n",
       "        vertical-align: middle;\n",
       "    }\n",
       "\n",
       "    .dataframe tbody tr th {\n",
       "        vertical-align: top;\n",
       "    }\n",
       "\n",
       "    .dataframe thead th {\n",
       "        text-align: right;\n",
       "    }\n",
       "</style>\n",
       "<table border=\"1\" class=\"dataframe\">\n",
       "  <thead>\n",
       "    <tr style=\"text-align: right;\">\n",
       "      <th></th>\n",
       "      <th>Name</th>\n",
       "      <th>Position</th>\n",
       "      <th>PreferredFoot</th>\n",
       "      <th>Season</th>\n",
       "      <th>Age</th>\n",
       "      <th>Squad</th>\n",
       "      <th>Country</th>\n",
       "      <th>Comp</th>\n",
       "      <th>LgRank</th>\n",
       "      <th>MP</th>\n",
       "      <th>Starts</th>\n",
       "      <th>Min</th>\n",
       "      <th>90s</th>\n",
       "      <th>Gls</th>\n",
       "      <th>Ast</th>\n",
       "      <th>G+A</th>\n",
       "      <th>G-PK</th>\n",
       "      <th>PK</th>\n",
       "      <th>PKatt</th>\n",
       "      <th>CrdY</th>\n",
       "      <th>CrdR</th>\n",
       "      <th>xG</th>\n",
       "      <th>npxG</th>\n",
       "      <th>xAG</th>\n",
       "      <th>npxG+xAG</th>\n",
       "      <th>PrgC</th>\n",
       "      <th>PrgP</th>\n",
       "      <th>PrgR</th>\n",
       "      <th>Gls/90</th>\n",
       "      <th>Ast/90</th>\n",
       "      <th>G+A/90</th>\n",
       "      <th>G-PK/90</th>\n",
       "      <th>G+A-PK/90</th>\n",
       "      <th>xG/90</th>\n",
       "      <th>xAG/90</th>\n",
       "      <th>xG+xAG/90</th>\n",
       "      <th>npxG/90</th>\n",
       "      <th>npxG+xAG/90</th>\n",
       "      <th>Injury</th>\n",
       "      <th>from</th>\n",
       "      <th>until</th>\n",
       "      <th>Days</th>\n",
       "      <th>Games missed</th>\n",
       "    </tr>\n",
       "  </thead>\n",
       "  <tbody>\n",
       "    <tr>\n",
       "      <th>0</th>\n",
       "      <td>William Saliba</td>\n",
       "      <td>DF</td>\n",
       "      <td>Right</td>\n",
       "      <td>2018-2019</td>\n",
       "      <td>17</td>\n",
       "      <td>Saint-Étienne</td>\n",
       "      <td>FRA</td>\n",
       "      <td>Ligue 1</td>\n",
       "      <td>4</td>\n",
       "      <td>16</td>\n",
       "      <td>13</td>\n",
       "      <td>1277</td>\n",
       "      <td>14.2</td>\n",
       "      <td>0</td>\n",
       "      <td>0</td>\n",
       "      <td>0</td>\n",
       "      <td>0</td>\n",
       "      <td>0</td>\n",
       "      <td>0</td>\n",
       "      <td>1</td>\n",
       "      <td>0</td>\n",
       "      <td>0.300000</td>\n",
       "      <td>0.300000</td>\n",
       "      <td>0.000000</td>\n",
       "      <td>0.300000</td>\n",
       "      <td>7</td>\n",
       "      <td>21</td>\n",
       "      <td>4</td>\n",
       "      <td>0.00</td>\n",
       "      <td>0.00</td>\n",
       "      <td>0.00</td>\n",
       "      <td>0.00</td>\n",
       "      <td>0.00</td>\n",
       "      <td>0.020000</td>\n",
       "      <td>0.000000</td>\n",
       "      <td>0.020000</td>\n",
       "      <td>0.020000</td>\n",
       "      <td>0.020000</td>\n",
       "      <td>Hamstring injury</td>\n",
       "      <td>2019-05-23</td>\n",
       "      <td>2019-09-28</td>\n",
       "      <td>128.0</td>\n",
       "      <td>22.0</td>\n",
       "    </tr>\n",
       "    <tr>\n",
       "      <th>1</th>\n",
       "      <td>William Saliba</td>\n",
       "      <td>DF</td>\n",
       "      <td>Right</td>\n",
       "      <td>2019-2020</td>\n",
       "      <td>18</td>\n",
       "      <td>Saint-Étienne</td>\n",
       "      <td>FRA</td>\n",
       "      <td>Ligue 1</td>\n",
       "      <td>17</td>\n",
       "      <td>12</td>\n",
       "      <td>11</td>\n",
       "      <td>992</td>\n",
       "      <td>11.0</td>\n",
       "      <td>0</td>\n",
       "      <td>0</td>\n",
       "      <td>0</td>\n",
       "      <td>0</td>\n",
       "      <td>0</td>\n",
       "      <td>0</td>\n",
       "      <td>0</td>\n",
       "      <td>0</td>\n",
       "      <td>0.200000</td>\n",
       "      <td>0.200000</td>\n",
       "      <td>0.100000</td>\n",
       "      <td>0.300000</td>\n",
       "      <td>20</td>\n",
       "      <td>33</td>\n",
       "      <td>7</td>\n",
       "      <td>0.00</td>\n",
       "      <td>0.00</td>\n",
       "      <td>0.00</td>\n",
       "      <td>0.00</td>\n",
       "      <td>0.00</td>\n",
       "      <td>0.020000</td>\n",
       "      <td>0.010000</td>\n",
       "      <td>0.030000</td>\n",
       "      <td>0.020000</td>\n",
       "      <td>0.030000</td>\n",
       "      <td>Metatarsal fracture</td>\n",
       "      <td>2019-11-04</td>\n",
       "      <td>2020-01-20</td>\n",
       "      <td>77.0</td>\n",
       "      <td>19.0</td>\n",
       "    </tr>\n",
       "    <tr>\n",
       "      <th>2</th>\n",
       "      <td>William Saliba</td>\n",
       "      <td>DF</td>\n",
       "      <td>Right</td>\n",
       "      <td>2020-2021</td>\n",
       "      <td>19</td>\n",
       "      <td>Nice</td>\n",
       "      <td>FRA</td>\n",
       "      <td>Ligue 1</td>\n",
       "      <td>9</td>\n",
       "      <td>20</td>\n",
       "      <td>20</td>\n",
       "      <td>1800</td>\n",
       "      <td>20.0</td>\n",
       "      <td>1</td>\n",
       "      <td>0</td>\n",
       "      <td>1</td>\n",
       "      <td>1</td>\n",
       "      <td>0</td>\n",
       "      <td>0</td>\n",
       "      <td>2</td>\n",
       "      <td>0</td>\n",
       "      <td>0.800000</td>\n",
       "      <td>0.800000</td>\n",
       "      <td>0.000000</td>\n",
       "      <td>0.900000</td>\n",
       "      <td>36</td>\n",
       "      <td>106</td>\n",
       "      <td>3</td>\n",
       "      <td>0.05</td>\n",
       "      <td>0.00</td>\n",
       "      <td>0.05</td>\n",
       "      <td>0.05</td>\n",
       "      <td>0.05</td>\n",
       "      <td>0.040000</td>\n",
       "      <td>0.000000</td>\n",
       "      <td>0.040000</td>\n",
       "      <td>0.040000</td>\n",
       "      <td>0.040000</td>\n",
       "      <td>NaN</td>\n",
       "      <td>NaT</td>\n",
       "      <td>NaT</td>\n",
       "      <td>NaN</td>\n",
       "      <td>NaN</td>\n",
       "    </tr>\n",
       "    <tr>\n",
       "      <th>3</th>\n",
       "      <td>William Saliba</td>\n",
       "      <td>DF</td>\n",
       "      <td>Right</td>\n",
       "      <td>2020-2021</td>\n",
       "      <td>19</td>\n",
       "      <td>Arsenal</td>\n",
       "      <td>ENG</td>\n",
       "      <td>Jr. PL2 -- Div. 1</td>\n",
       "      <td>10</td>\n",
       "      <td>6</td>\n",
       "      <td>6</td>\n",
       "      <td>526</td>\n",
       "      <td>5.8</td>\n",
       "      <td>0</td>\n",
       "      <td>0</td>\n",
       "      <td>0</td>\n",
       "      <td>0</td>\n",
       "      <td>0</td>\n",
       "      <td>0</td>\n",
       "      <td>1</td>\n",
       "      <td>0</td>\n",
       "      <td>1.103445</td>\n",
       "      <td>1.072249</td>\n",
       "      <td>1.269282</td>\n",
       "      <td>2.340478</td>\n",
       "      <td>0</td>\n",
       "      <td>0</td>\n",
       "      <td>0</td>\n",
       "      <td>0.00</td>\n",
       "      <td>0.00</td>\n",
       "      <td>0.00</td>\n",
       "      <td>0.00</td>\n",
       "      <td>0.00</td>\n",
       "      <td>0.058096</td>\n",
       "      <td>0.079837</td>\n",
       "      <td>0.137923</td>\n",
       "      <td>0.056746</td>\n",
       "      <td>0.136612</td>\n",
       "      <td>NaN</td>\n",
       "      <td>NaT</td>\n",
       "      <td>NaT</td>\n",
       "      <td>NaN</td>\n",
       "      <td>NaN</td>\n",
       "    </tr>\n",
       "    <tr>\n",
       "      <th>4</th>\n",
       "      <td>William Saliba</td>\n",
       "      <td>DF</td>\n",
       "      <td>Right</td>\n",
       "      <td>2021-2022</td>\n",
       "      <td>20</td>\n",
       "      <td>Marseille</td>\n",
       "      <td>FRA</td>\n",
       "      <td>Ligue 1</td>\n",
       "      <td>2</td>\n",
       "      <td>36</td>\n",
       "      <td>36</td>\n",
       "      <td>3240</td>\n",
       "      <td>36.0</td>\n",
       "      <td>0</td>\n",
       "      <td>0</td>\n",
       "      <td>0</td>\n",
       "      <td>0</td>\n",
       "      <td>0</td>\n",
       "      <td>0</td>\n",
       "      <td>5</td>\n",
       "      <td>0</td>\n",
       "      <td>1.700000</td>\n",
       "      <td>1.700000</td>\n",
       "      <td>0.400000</td>\n",
       "      <td>2.100000</td>\n",
       "      <td>50</td>\n",
       "      <td>220</td>\n",
       "      <td>14</td>\n",
       "      <td>0.00</td>\n",
       "      <td>0.00</td>\n",
       "      <td>0.00</td>\n",
       "      <td>0.00</td>\n",
       "      <td>0.00</td>\n",
       "      <td>0.050000</td>\n",
       "      <td>0.010000</td>\n",
       "      <td>0.060000</td>\n",
       "      <td>0.050000</td>\n",
       "      <td>0.060000</td>\n",
       "      <td>NaN</td>\n",
       "      <td>NaT</td>\n",
       "      <td>NaT</td>\n",
       "      <td>NaN</td>\n",
       "      <td>NaN</td>\n",
       "    </tr>\n",
       "    <tr>\n",
       "      <th>...</th>\n",
       "      <td>...</td>\n",
       "      <td>...</td>\n",
       "      <td>...</td>\n",
       "      <td>...</td>\n",
       "      <td>...</td>\n",
       "      <td>...</td>\n",
       "      <td>...</td>\n",
       "      <td>...</td>\n",
       "      <td>...</td>\n",
       "      <td>...</td>\n",
       "      <td>...</td>\n",
       "      <td>...</td>\n",
       "      <td>...</td>\n",
       "      <td>...</td>\n",
       "      <td>...</td>\n",
       "      <td>...</td>\n",
       "      <td>...</td>\n",
       "      <td>...</td>\n",
       "      <td>...</td>\n",
       "      <td>...</td>\n",
       "      <td>...</td>\n",
       "      <td>...</td>\n",
       "      <td>...</td>\n",
       "      <td>...</td>\n",
       "      <td>...</td>\n",
       "      <td>...</td>\n",
       "      <td>...</td>\n",
       "      <td>...</td>\n",
       "      <td>...</td>\n",
       "      <td>...</td>\n",
       "      <td>...</td>\n",
       "      <td>...</td>\n",
       "      <td>...</td>\n",
       "      <td>...</td>\n",
       "      <td>...</td>\n",
       "      <td>...</td>\n",
       "      <td>...</td>\n",
       "      <td>...</td>\n",
       "      <td>...</td>\n",
       "      <td>...</td>\n",
       "      <td>...</td>\n",
       "      <td>...</td>\n",
       "      <td>...</td>\n",
       "    </tr>\n",
       "    <tr>\n",
       "      <th>4566</th>\n",
       "      <td>Hjalmar Ekdal</td>\n",
       "      <td>DF</td>\n",
       "      <td>Right</td>\n",
       "      <td>2019-2020</td>\n",
       "      <td>20</td>\n",
       "      <td>Frej</td>\n",
       "      <td>SWE</td>\n",
       "      <td>Superettan</td>\n",
       "      <td>14</td>\n",
       "      <td>30</td>\n",
       "      <td>30</td>\n",
       "      <td>2700</td>\n",
       "      <td>30.0</td>\n",
       "      <td>2</td>\n",
       "      <td>0</td>\n",
       "      <td>2</td>\n",
       "      <td>2</td>\n",
       "      <td>0</td>\n",
       "      <td>0</td>\n",
       "      <td>2</td>\n",
       "      <td>0</td>\n",
       "      <td>1.103445</td>\n",
       "      <td>1.072249</td>\n",
       "      <td>1.269282</td>\n",
       "      <td>2.340478</td>\n",
       "      <td>0</td>\n",
       "      <td>0</td>\n",
       "      <td>0</td>\n",
       "      <td>0.07</td>\n",
       "      <td>0.00</td>\n",
       "      <td>0.07</td>\n",
       "      <td>0.07</td>\n",
       "      <td>0.07</td>\n",
       "      <td>0.058096</td>\n",
       "      <td>0.079837</td>\n",
       "      <td>0.137923</td>\n",
       "      <td>0.056746</td>\n",
       "      <td>0.136612</td>\n",
       "      <td>NaN</td>\n",
       "      <td>NaT</td>\n",
       "      <td>NaT</td>\n",
       "      <td>NaN</td>\n",
       "      <td>NaN</td>\n",
       "    </tr>\n",
       "    <tr>\n",
       "      <th>4567</th>\n",
       "      <td>Hjalmar Ekdal</td>\n",
       "      <td>DF</td>\n",
       "      <td>Right</td>\n",
       "      <td>2020-2021</td>\n",
       "      <td>21</td>\n",
       "      <td>Sirius</td>\n",
       "      <td>SWE</td>\n",
       "      <td>Allsvenskan</td>\n",
       "      <td>10</td>\n",
       "      <td>26</td>\n",
       "      <td>22</td>\n",
       "      <td>1946</td>\n",
       "      <td>21.6</td>\n",
       "      <td>0</td>\n",
       "      <td>0</td>\n",
       "      <td>0</td>\n",
       "      <td>0</td>\n",
       "      <td>0</td>\n",
       "      <td>0</td>\n",
       "      <td>4</td>\n",
       "      <td>0</td>\n",
       "      <td>1.103445</td>\n",
       "      <td>1.072249</td>\n",
       "      <td>1.269282</td>\n",
       "      <td>2.340478</td>\n",
       "      <td>0</td>\n",
       "      <td>0</td>\n",
       "      <td>0</td>\n",
       "      <td>0.00</td>\n",
       "      <td>0.00</td>\n",
       "      <td>0.00</td>\n",
       "      <td>0.00</td>\n",
       "      <td>0.00</td>\n",
       "      <td>0.058096</td>\n",
       "      <td>0.079837</td>\n",
       "      <td>0.137923</td>\n",
       "      <td>0.056746</td>\n",
       "      <td>0.136612</td>\n",
       "      <td>NaN</td>\n",
       "      <td>NaT</td>\n",
       "      <td>NaT</td>\n",
       "      <td>NaN</td>\n",
       "      <td>NaN</td>\n",
       "    </tr>\n",
       "    <tr>\n",
       "      <th>4568</th>\n",
       "      <td>Hjalmar Ekdal</td>\n",
       "      <td>DF</td>\n",
       "      <td>Right</td>\n",
       "      <td>2021-2022</td>\n",
       "      <td>22</td>\n",
       "      <td>Djurgården</td>\n",
       "      <td>SWE</td>\n",
       "      <td>Allsvenskan</td>\n",
       "      <td>3</td>\n",
       "      <td>26</td>\n",
       "      <td>25</td>\n",
       "      <td>2234</td>\n",
       "      <td>24.8</td>\n",
       "      <td>4</td>\n",
       "      <td>0</td>\n",
       "      <td>4</td>\n",
       "      <td>4</td>\n",
       "      <td>0</td>\n",
       "      <td>0</td>\n",
       "      <td>3</td>\n",
       "      <td>0</td>\n",
       "      <td>1.103445</td>\n",
       "      <td>1.072249</td>\n",
       "      <td>1.269282</td>\n",
       "      <td>2.340478</td>\n",
       "      <td>0</td>\n",
       "      <td>0</td>\n",
       "      <td>0</td>\n",
       "      <td>0.16</td>\n",
       "      <td>0.00</td>\n",
       "      <td>0.16</td>\n",
       "      <td>0.16</td>\n",
       "      <td>0.16</td>\n",
       "      <td>0.058096</td>\n",
       "      <td>0.079837</td>\n",
       "      <td>0.137923</td>\n",
       "      <td>0.056746</td>\n",
       "      <td>0.136612</td>\n",
       "      <td>NaN</td>\n",
       "      <td>NaT</td>\n",
       "      <td>NaT</td>\n",
       "      <td>NaN</td>\n",
       "      <td>NaN</td>\n",
       "    </tr>\n",
       "    <tr>\n",
       "      <th>4569</th>\n",
       "      <td>Hjalmar Ekdal</td>\n",
       "      <td>DF</td>\n",
       "      <td>Right</td>\n",
       "      <td>2022-2023</td>\n",
       "      <td>23</td>\n",
       "      <td>Djurgården</td>\n",
       "      <td>SWE</td>\n",
       "      <td>Allsvenskan</td>\n",
       "      <td>2</td>\n",
       "      <td>24</td>\n",
       "      <td>23</td>\n",
       "      <td>2023</td>\n",
       "      <td>22.5</td>\n",
       "      <td>3</td>\n",
       "      <td>0</td>\n",
       "      <td>3</td>\n",
       "      <td>3</td>\n",
       "      <td>0</td>\n",
       "      <td>0</td>\n",
       "      <td>2</td>\n",
       "      <td>0</td>\n",
       "      <td>1.103445</td>\n",
       "      <td>1.072249</td>\n",
       "      <td>1.269282</td>\n",
       "      <td>2.340478</td>\n",
       "      <td>0</td>\n",
       "      <td>0</td>\n",
       "      <td>0</td>\n",
       "      <td>0.13</td>\n",
       "      <td>0.00</td>\n",
       "      <td>0.13</td>\n",
       "      <td>0.13</td>\n",
       "      <td>0.13</td>\n",
       "      <td>0.058096</td>\n",
       "      <td>0.079837</td>\n",
       "      <td>0.137923</td>\n",
       "      <td>0.056746</td>\n",
       "      <td>0.136612</td>\n",
       "      <td>NaN</td>\n",
       "      <td>NaT</td>\n",
       "      <td>NaT</td>\n",
       "      <td>NaN</td>\n",
       "      <td>NaN</td>\n",
       "    </tr>\n",
       "    <tr>\n",
       "      <th>4570</th>\n",
       "      <td>Hjalmar Ekdal</td>\n",
       "      <td>DF</td>\n",
       "      <td>Right</td>\n",
       "      <td>2022-2023</td>\n",
       "      <td>23</td>\n",
       "      <td>Burnley</td>\n",
       "      <td>ENG</td>\n",
       "      <td>Championship</td>\n",
       "      <td>1</td>\n",
       "      <td>9</td>\n",
       "      <td>9</td>\n",
       "      <td>767</td>\n",
       "      <td>8.5</td>\n",
       "      <td>1</td>\n",
       "      <td>1</td>\n",
       "      <td>2</td>\n",
       "      <td>1</td>\n",
       "      <td>0</td>\n",
       "      <td>0</td>\n",
       "      <td>1</td>\n",
       "      <td>0</td>\n",
       "      <td>0.500000</td>\n",
       "      <td>0.500000</td>\n",
       "      <td>0.500000</td>\n",
       "      <td>1.000000</td>\n",
       "      <td>10</td>\n",
       "      <td>42</td>\n",
       "      <td>0</td>\n",
       "      <td>0.12</td>\n",
       "      <td>0.12</td>\n",
       "      <td>0.23</td>\n",
       "      <td>0.12</td>\n",
       "      <td>0.23</td>\n",
       "      <td>0.060000</td>\n",
       "      <td>0.050000</td>\n",
       "      <td>0.120000</td>\n",
       "      <td>0.060000</td>\n",
       "      <td>0.120000</td>\n",
       "      <td>NaN</td>\n",
       "      <td>NaT</td>\n",
       "      <td>NaT</td>\n",
       "      <td>NaN</td>\n",
       "      <td>NaN</td>\n",
       "    </tr>\n",
       "  </tbody>\n",
       "</table>\n",
       "<p>4571 rows × 43 columns</p>\n",
       "</div>"
      ],
      "text/plain": [
       "                Name Position PreferredFoot     Season  Age          Squad  \\\n",
       "0     William Saliba       DF         Right  2018-2019   17  Saint-Étienne   \n",
       "1     William Saliba       DF         Right  2019-2020   18  Saint-Étienne   \n",
       "2     William Saliba       DF         Right  2020-2021   19           Nice   \n",
       "3     William Saliba       DF         Right  2020-2021   19        Arsenal   \n",
       "4     William Saliba       DF         Right  2021-2022   20      Marseille   \n",
       "...              ...      ...           ...        ...  ...            ...   \n",
       "4566   Hjalmar Ekdal       DF         Right  2019-2020   20           Frej   \n",
       "4567   Hjalmar Ekdal       DF         Right  2020-2021   21         Sirius   \n",
       "4568   Hjalmar Ekdal       DF         Right  2021-2022   22     Djurgården   \n",
       "4569   Hjalmar Ekdal       DF         Right  2022-2023   23     Djurgården   \n",
       "4570   Hjalmar Ekdal       DF         Right  2022-2023   23        Burnley   \n",
       "\n",
       "     Country               Comp  LgRank  MP  Starts   Min   90s  Gls  Ast  \\\n",
       "0        FRA            Ligue 1       4  16      13  1277  14.2    0    0   \n",
       "1        FRA            Ligue 1      17  12      11   992  11.0    0    0   \n",
       "2        FRA            Ligue 1       9  20      20  1800  20.0    1    0   \n",
       "3        ENG  Jr. PL2 -- Div. 1      10   6       6   526   5.8    0    0   \n",
       "4        FRA            Ligue 1       2  36      36  3240  36.0    0    0   \n",
       "...      ...                ...     ...  ..     ...   ...   ...  ...  ...   \n",
       "4566     SWE         Superettan      14  30      30  2700  30.0    2    0   \n",
       "4567     SWE        Allsvenskan      10  26      22  1946  21.6    0    0   \n",
       "4568     SWE        Allsvenskan       3  26      25  2234  24.8    4    0   \n",
       "4569     SWE        Allsvenskan       2  24      23  2023  22.5    3    0   \n",
       "4570     ENG       Championship       1   9       9   767   8.5    1    1   \n",
       "\n",
       "      G+A  G-PK  PK  PKatt  CrdY  CrdR        xG      npxG       xAG  \\\n",
       "0       0     0   0      0     1     0  0.300000  0.300000  0.000000   \n",
       "1       0     0   0      0     0     0  0.200000  0.200000  0.100000   \n",
       "2       1     1   0      0     2     0  0.800000  0.800000  0.000000   \n",
       "3       0     0   0      0     1     0  1.103445  1.072249  1.269282   \n",
       "4       0     0   0      0     5     0  1.700000  1.700000  0.400000   \n",
       "...   ...   ...  ..    ...   ...   ...       ...       ...       ...   \n",
       "4566    2     2   0      0     2     0  1.103445  1.072249  1.269282   \n",
       "4567    0     0   0      0     4     0  1.103445  1.072249  1.269282   \n",
       "4568    4     4   0      0     3     0  1.103445  1.072249  1.269282   \n",
       "4569    3     3   0      0     2     0  1.103445  1.072249  1.269282   \n",
       "4570    2     1   0      0     1     0  0.500000  0.500000  0.500000   \n",
       "\n",
       "      npxG+xAG  PrgC  PrgP  PrgR  Gls/90  Ast/90  G+A/90  G-PK/90  G+A-PK/90  \\\n",
       "0     0.300000     7    21     4    0.00    0.00    0.00     0.00       0.00   \n",
       "1     0.300000    20    33     7    0.00    0.00    0.00     0.00       0.00   \n",
       "2     0.900000    36   106     3    0.05    0.00    0.05     0.05       0.05   \n",
       "3     2.340478     0     0     0    0.00    0.00    0.00     0.00       0.00   \n",
       "4     2.100000    50   220    14    0.00    0.00    0.00     0.00       0.00   \n",
       "...        ...   ...   ...   ...     ...     ...     ...      ...        ...   \n",
       "4566  2.340478     0     0     0    0.07    0.00    0.07     0.07       0.07   \n",
       "4567  2.340478     0     0     0    0.00    0.00    0.00     0.00       0.00   \n",
       "4568  2.340478     0     0     0    0.16    0.00    0.16     0.16       0.16   \n",
       "4569  2.340478     0     0     0    0.13    0.00    0.13     0.13       0.13   \n",
       "4570  1.000000    10    42     0    0.12    0.12    0.23     0.12       0.23   \n",
       "\n",
       "         xG/90    xAG/90  xG+xAG/90   npxG/90  npxG+xAG/90  \\\n",
       "0     0.020000  0.000000   0.020000  0.020000     0.020000   \n",
       "1     0.020000  0.010000   0.030000  0.020000     0.030000   \n",
       "2     0.040000  0.000000   0.040000  0.040000     0.040000   \n",
       "3     0.058096  0.079837   0.137923  0.056746     0.136612   \n",
       "4     0.050000  0.010000   0.060000  0.050000     0.060000   \n",
       "...        ...       ...        ...       ...          ...   \n",
       "4566  0.058096  0.079837   0.137923  0.056746     0.136612   \n",
       "4567  0.058096  0.079837   0.137923  0.056746     0.136612   \n",
       "4568  0.058096  0.079837   0.137923  0.056746     0.136612   \n",
       "4569  0.058096  0.079837   0.137923  0.056746     0.136612   \n",
       "4570  0.060000  0.050000   0.120000  0.060000     0.120000   \n",
       "\n",
       "                   Injury       from      until   Days  Games missed  \n",
       "0        Hamstring injury 2019-05-23 2019-09-28  128.0          22.0  \n",
       "1     Metatarsal fracture 2019-11-04 2020-01-20   77.0          19.0  \n",
       "2                     NaN        NaT        NaT    NaN           NaN  \n",
       "3                     NaN        NaT        NaT    NaN           NaN  \n",
       "4                     NaN        NaT        NaT    NaN           NaN  \n",
       "...                   ...        ...        ...    ...           ...  \n",
       "4566                  NaN        NaT        NaT    NaN           NaN  \n",
       "4567                  NaN        NaT        NaT    NaN           NaN  \n",
       "4568                  NaN        NaT        NaT    NaN           NaN  \n",
       "4569                  NaN        NaT        NaT    NaN           NaN  \n",
       "4570                  NaN        NaT        NaT    NaN           NaN  \n",
       "\n",
       "[4571 rows x 43 columns]"
      ]
     },
     "execution_count": 48,
     "metadata": {},
     "output_type": "execute_result"
    }
   ],
   "source": [
    "merged_df"
   ]
  },
  {
   "cell_type": "markdown",
   "id": "15082173",
   "metadata": {},
   "source": [
    "**Check if merging is correct**"
   ]
  },
  {
   "cell_type": "code",
   "execution_count": 49,
   "id": "10d6f6f3",
   "metadata": {
    "tags": []
   },
   "outputs": [],
   "source": [
    "assert len(processed_data_fbref['Name'].unique()) == len(name_matches.keys())\n",
    "assert len(merged_df['Season'].unique()) == len(processed_data_fbref['Season'].unique())"
   ]
  },
  {
   "cell_type": "markdown",
   "id": "4df1adf5-50a6-45f2-85d4-747a8c3a95c0",
   "metadata": {},
   "source": [
    "## 4. Save processed data"
   ]
  },
  {
   "cell_type": "code",
   "execution_count": 50,
   "id": "7e602729-5d10-4cd5-a21d-942095ef4fa1",
   "metadata": {
    "tags": []
   },
   "outputs": [],
   "source": [
    "# save data to processed data folder\n",
    "merged_df.to_csv('../../data/processed/processed_fb_data.csv', index=False, encoding='utf-8')"
   ]
  }
 ],
 "metadata": {
  "kernelspec": {
   "display_name": "Python 3 (ipykernel)",
   "language": "python",
   "name": "python3"
  },
  "language_info": {
   "codemirror_mode": {
    "name": "ipython",
    "version": 3
   },
   "file_extension": ".py",
   "mimetype": "text/x-python",
   "name": "python",
   "nbconvert_exporter": "python",
   "pygments_lexer": "ipython3",
   "version": "3.9.18"
  }
 },
 "nbformat": 4,
 "nbformat_minor": 5
}
