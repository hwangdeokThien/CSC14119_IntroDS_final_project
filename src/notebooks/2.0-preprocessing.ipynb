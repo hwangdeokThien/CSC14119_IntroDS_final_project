{
 "cells": [
  {
   "cell_type": "markdown",
   "id": "c343930b",
   "metadata": {},
   "source": [
    "<div style=\"text-align: center; background-color: #0A6EBD; font-family: 'Trebuchet MS', Arial, sans-serif; color: white; padding: 20px; font-size: 40px; font-weight: bold; border-radius: 0 0 0 0; box-shadow: 0px 6px 8px rgba(0, 0, 0, 0.2);\">\n",
    "    FIT-HCMUS, VNU-HCM \n",
    "    <br>\n",
    "    Introduction To Data Science \n",
    "    <br>\n",
    "    Final project 📌\n",
    "</div>"
   ]
  },
  {
   "cell_type": "markdown",
   "id": "5d553587",
   "metadata": {},
   "source": [
    "<div style=\"text-align: center; background-color: #5A96E3; font-family: 'Trebuchet MS', Arial, sans-serif; color: white; padding: 20px; font-size: 40px; font-weight: bold; border-radius: 0 0 0 0; box-shadow: 0px 6px 8px rgba(0, 0, 0, 0.2);\">\n",
    "  Stage 02 - Preprocessing 📌\n",
    "</div>"
   ]
  },
  {
   "cell_type": "markdown",
   "id": "693f38ec",
   "metadata": {},
   "source": [
    "## **1. Set up enviroment**"
   ]
  },
  {
   "cell_type": "code",
   "execution_count": 2,
   "id": "cf08e431",
   "metadata": {
    "tags": []
   },
   "outputs": [],
   "source": [
    "# !pip install unidecode\n",
    "# !pip install fuzzywuzzy\n",
    "import pandas as pd\n",
    "import numpy as np\n",
    "import re\n",
    "import warnings\n",
    "from unidecode import unidecode\n",
    "from fuzzywuzzy import fuzz\n",
    "from fuzzywuzzy import process\n",
    "\n",
    "warnings.filterwarnings(\"ignore\")\n",
    "pd.set_option('display.max_columns', None)"
   ]
  },
  {
   "cell_type": "markdown",
   "id": "09ffff30",
   "metadata": {},
   "source": [
    "## **2. Reading and cleaning data**"
   ]
  },
  {
   "cell_type": "markdown",
   "id": "c8067f19",
   "metadata": {},
   "source": [
    "### **2.1. Fbref data**"
   ]
  },
  {
   "cell_type": "markdown",
   "id": "3b107ebf-12f0-48d9-bd96-8c2327b29360",
   "metadata": {},
   "source": [
    "#### **Raw data inspect**"
   ]
  },
  {
   "cell_type": "code",
   "execution_count": 3,
   "id": "a4e13b09",
   "metadata": {
    "tags": []
   },
   "outputs": [
    {
     "data": {
      "text/html": [
       "<div>\n",
       "<style scoped>\n",
       "    .dataframe tbody tr th:only-of-type {\n",
       "        vertical-align: middle;\n",
       "    }\n",
       "\n",
       "    .dataframe tbody tr th {\n",
       "        vertical-align: top;\n",
       "    }\n",
       "\n",
       "    .dataframe thead th {\n",
       "        text-align: right;\n",
       "    }\n",
       "</style>\n",
       "<table border=\"1\" class=\"dataframe\">\n",
       "  <thead>\n",
       "    <tr style=\"text-align: right;\">\n",
       "      <th></th>\n",
       "      <th>Name</th>\n",
       "      <th>Season</th>\n",
       "      <th>Age</th>\n",
       "      <th>Squad</th>\n",
       "      <th>Country</th>\n",
       "      <th>Comp</th>\n",
       "      <th>LgRank</th>\n",
       "      <th>MP</th>\n",
       "      <th>Starts</th>\n",
       "      <th>Min</th>\n",
       "      <th>90s</th>\n",
       "      <th>Gls</th>\n",
       "      <th>Ast</th>\n",
       "      <th>G+A</th>\n",
       "      <th>G-PK</th>\n",
       "      <th>PK</th>\n",
       "      <th>PKatt</th>\n",
       "      <th>CrdY</th>\n",
       "      <th>CrdR</th>\n",
       "      <th>xG</th>\n",
       "      <th>npxG</th>\n",
       "      <th>xAG</th>\n",
       "      <th>npxG+xAG</th>\n",
       "      <th>PrgC</th>\n",
       "      <th>PrgP</th>\n",
       "      <th>PrgR</th>\n",
       "      <th>Gls.1</th>\n",
       "      <th>Ast.1</th>\n",
       "      <th>G+A.1</th>\n",
       "      <th>G-PK.1</th>\n",
       "      <th>G+A-PK</th>\n",
       "      <th>xG.1</th>\n",
       "      <th>xAG.1</th>\n",
       "      <th>xG+xAG</th>\n",
       "      <th>npxG.1</th>\n",
       "      <th>npxG+xAG.1</th>\n",
       "      <th>Matches</th>\n",
       "    </tr>\n",
       "  </thead>\n",
       "  <tbody>\n",
       "    <tr>\n",
       "      <th>0</th>\n",
       "      <td>William Saliba</td>\n",
       "      <td>2018-2019</td>\n",
       "      <td>17.0</td>\n",
       "      <td>Saint-Étienne</td>\n",
       "      <td>fr FRA</td>\n",
       "      <td>1. Ligue 1</td>\n",
       "      <td>4th</td>\n",
       "      <td>16.0</td>\n",
       "      <td>13.0</td>\n",
       "      <td>1,277</td>\n",
       "      <td>14.2</td>\n",
       "      <td>0.0</td>\n",
       "      <td>0.0</td>\n",
       "      <td>0.0</td>\n",
       "      <td>0.0</td>\n",
       "      <td>0.0</td>\n",
       "      <td>0.0</td>\n",
       "      <td>1.0</td>\n",
       "      <td>0.0</td>\n",
       "      <td>0.3</td>\n",
       "      <td>0.3</td>\n",
       "      <td>0.0</td>\n",
       "      <td>0.3</td>\n",
       "      <td>7.0</td>\n",
       "      <td>21.0</td>\n",
       "      <td>4.0</td>\n",
       "      <td>0.00</td>\n",
       "      <td>0.0</td>\n",
       "      <td>0.00</td>\n",
       "      <td>0.00</td>\n",
       "      <td>0.00</td>\n",
       "      <td>0.02</td>\n",
       "      <td>0.00</td>\n",
       "      <td>0.02</td>\n",
       "      <td>0.02</td>\n",
       "      <td>0.02</td>\n",
       "      <td>Matches</td>\n",
       "    </tr>\n",
       "    <tr>\n",
       "      <th>1</th>\n",
       "      <td>William Saliba</td>\n",
       "      <td>2019-2020</td>\n",
       "      <td>18.0</td>\n",
       "      <td>Saint-Étienne</td>\n",
       "      <td>fr FRA</td>\n",
       "      <td>1. Ligue 1</td>\n",
       "      <td>17th</td>\n",
       "      <td>12.0</td>\n",
       "      <td>11.0</td>\n",
       "      <td>992</td>\n",
       "      <td>11.0</td>\n",
       "      <td>0.0</td>\n",
       "      <td>0.0</td>\n",
       "      <td>0.0</td>\n",
       "      <td>0.0</td>\n",
       "      <td>0.0</td>\n",
       "      <td>0.0</td>\n",
       "      <td>0.0</td>\n",
       "      <td>0.0</td>\n",
       "      <td>0.2</td>\n",
       "      <td>0.2</td>\n",
       "      <td>0.1</td>\n",
       "      <td>0.3</td>\n",
       "      <td>20.0</td>\n",
       "      <td>33.0</td>\n",
       "      <td>7.0</td>\n",
       "      <td>0.00</td>\n",
       "      <td>0.0</td>\n",
       "      <td>0.00</td>\n",
       "      <td>0.00</td>\n",
       "      <td>0.00</td>\n",
       "      <td>0.02</td>\n",
       "      <td>0.01</td>\n",
       "      <td>0.03</td>\n",
       "      <td>0.02</td>\n",
       "      <td>0.03</td>\n",
       "      <td>Matches</td>\n",
       "    </tr>\n",
       "    <tr>\n",
       "      <th>2</th>\n",
       "      <td>William Saliba</td>\n",
       "      <td>2020-2021</td>\n",
       "      <td>19.0</td>\n",
       "      <td>Nice</td>\n",
       "      <td>fr FRA</td>\n",
       "      <td>1. Ligue 1</td>\n",
       "      <td>9th</td>\n",
       "      <td>20.0</td>\n",
       "      <td>20.0</td>\n",
       "      <td>1,800</td>\n",
       "      <td>20.0</td>\n",
       "      <td>1.0</td>\n",
       "      <td>0.0</td>\n",
       "      <td>1.0</td>\n",
       "      <td>1.0</td>\n",
       "      <td>0.0</td>\n",
       "      <td>0.0</td>\n",
       "      <td>2.0</td>\n",
       "      <td>0.0</td>\n",
       "      <td>0.8</td>\n",
       "      <td>0.8</td>\n",
       "      <td>0.0</td>\n",
       "      <td>0.9</td>\n",
       "      <td>36.0</td>\n",
       "      <td>106.0</td>\n",
       "      <td>3.0</td>\n",
       "      <td>0.05</td>\n",
       "      <td>0.0</td>\n",
       "      <td>0.05</td>\n",
       "      <td>0.05</td>\n",
       "      <td>0.05</td>\n",
       "      <td>0.04</td>\n",
       "      <td>0.00</td>\n",
       "      <td>0.04</td>\n",
       "      <td>0.04</td>\n",
       "      <td>0.04</td>\n",
       "      <td>Matches</td>\n",
       "    </tr>\n",
       "    <tr>\n",
       "      <th>3</th>\n",
       "      <td>William Saliba</td>\n",
       "      <td>2020-2021</td>\n",
       "      <td>19.0</td>\n",
       "      <td>Arsenal</td>\n",
       "      <td>eng ENG</td>\n",
       "      <td>Jr. PL2 — Div. 1</td>\n",
       "      <td>10th</td>\n",
       "      <td>6.0</td>\n",
       "      <td>6.0</td>\n",
       "      <td>526</td>\n",
       "      <td>5.8</td>\n",
       "      <td>0.0</td>\n",
       "      <td>0.0</td>\n",
       "      <td>0.0</td>\n",
       "      <td>0.0</td>\n",
       "      <td>0.0</td>\n",
       "      <td>0.0</td>\n",
       "      <td>1.0</td>\n",
       "      <td>0.0</td>\n",
       "      <td>NaN</td>\n",
       "      <td>NaN</td>\n",
       "      <td>NaN</td>\n",
       "      <td>NaN</td>\n",
       "      <td>NaN</td>\n",
       "      <td>NaN</td>\n",
       "      <td>NaN</td>\n",
       "      <td>0.00</td>\n",
       "      <td>0.0</td>\n",
       "      <td>0.00</td>\n",
       "      <td>0.00</td>\n",
       "      <td>0.00</td>\n",
       "      <td>NaN</td>\n",
       "      <td>NaN</td>\n",
       "      <td>NaN</td>\n",
       "      <td>NaN</td>\n",
       "      <td>NaN</td>\n",
       "      <td>Matches</td>\n",
       "    </tr>\n",
       "    <tr>\n",
       "      <th>4</th>\n",
       "      <td>William Saliba</td>\n",
       "      <td>2021-2022</td>\n",
       "      <td>20.0</td>\n",
       "      <td>Marseille</td>\n",
       "      <td>fr FRA</td>\n",
       "      <td>1. Ligue 1</td>\n",
       "      <td>2nd</td>\n",
       "      <td>36.0</td>\n",
       "      <td>36.0</td>\n",
       "      <td>3,240</td>\n",
       "      <td>36.0</td>\n",
       "      <td>0.0</td>\n",
       "      <td>0.0</td>\n",
       "      <td>0.0</td>\n",
       "      <td>0.0</td>\n",
       "      <td>0.0</td>\n",
       "      <td>0.0</td>\n",
       "      <td>5.0</td>\n",
       "      <td>0.0</td>\n",
       "      <td>1.7</td>\n",
       "      <td>1.7</td>\n",
       "      <td>0.4</td>\n",
       "      <td>2.1</td>\n",
       "      <td>50.0</td>\n",
       "      <td>220.0</td>\n",
       "      <td>14.0</td>\n",
       "      <td>0.00</td>\n",
       "      <td>0.0</td>\n",
       "      <td>0.00</td>\n",
       "      <td>0.00</td>\n",
       "      <td>0.00</td>\n",
       "      <td>0.05</td>\n",
       "      <td>0.01</td>\n",
       "      <td>0.06</td>\n",
       "      <td>0.05</td>\n",
       "      <td>0.06</td>\n",
       "      <td>Matches</td>\n",
       "    </tr>\n",
       "  </tbody>\n",
       "</table>\n",
       "</div>"
      ],
      "text/plain": [
       "             Name     Season   Age          Squad  Country              Comp  \\\n",
       "0  William Saliba  2018-2019  17.0  Saint-Étienne   fr FRA        1. Ligue 1   \n",
       "1  William Saliba  2019-2020  18.0  Saint-Étienne   fr FRA        1. Ligue 1   \n",
       "2  William Saliba  2020-2021  19.0           Nice   fr FRA        1. Ligue 1   \n",
       "3  William Saliba  2020-2021  19.0        Arsenal  eng ENG  Jr. PL2 — Div. 1   \n",
       "4  William Saliba  2021-2022  20.0      Marseille   fr FRA        1. Ligue 1   \n",
       "\n",
       "  LgRank    MP  Starts    Min   90s  Gls  Ast  G+A  G-PK   PK  PKatt  CrdY  \\\n",
       "0    4th  16.0    13.0  1,277  14.2  0.0  0.0  0.0   0.0  0.0    0.0   1.0   \n",
       "1   17th  12.0    11.0    992  11.0  0.0  0.0  0.0   0.0  0.0    0.0   0.0   \n",
       "2    9th  20.0    20.0  1,800  20.0  1.0  0.0  1.0   1.0  0.0    0.0   2.0   \n",
       "3   10th   6.0     6.0    526   5.8  0.0  0.0  0.0   0.0  0.0    0.0   1.0   \n",
       "4    2nd  36.0    36.0  3,240  36.0  0.0  0.0  0.0   0.0  0.0    0.0   5.0   \n",
       "\n",
       "   CrdR   xG  npxG  xAG  npxG+xAG  PrgC   PrgP  PrgR  Gls.1  Ast.1  G+A.1  \\\n",
       "0   0.0  0.3   0.3  0.0       0.3   7.0   21.0   4.0   0.00    0.0   0.00   \n",
       "1   0.0  0.2   0.2  0.1       0.3  20.0   33.0   7.0   0.00    0.0   0.00   \n",
       "2   0.0  0.8   0.8  0.0       0.9  36.0  106.0   3.0   0.05    0.0   0.05   \n",
       "3   0.0  NaN   NaN  NaN       NaN   NaN    NaN   NaN   0.00    0.0   0.00   \n",
       "4   0.0  1.7   1.7  0.4       2.1  50.0  220.0  14.0   0.00    0.0   0.00   \n",
       "\n",
       "   G-PK.1  G+A-PK  xG.1  xAG.1  xG+xAG  npxG.1  npxG+xAG.1  Matches  \n",
       "0    0.00    0.00  0.02   0.00    0.02    0.02        0.02  Matches  \n",
       "1    0.00    0.00  0.02   0.01    0.03    0.02        0.03  Matches  \n",
       "2    0.05    0.05  0.04   0.00    0.04    0.04        0.04  Matches  \n",
       "3    0.00    0.00   NaN    NaN     NaN     NaN         NaN  Matches  \n",
       "4    0.00    0.00  0.05   0.01    0.06    0.05        0.06  Matches  "
      ]
     },
     "execution_count": 3,
     "metadata": {},
     "output_type": "execute_result"
    }
   ],
   "source": [
    "raw_data_fbref = pd.read_csv(\"../../data/raw/raw_data_fbref.csv\")\n",
    "raw_data_fbref.head()"
   ]
  },
  {
   "cell_type": "markdown",
   "id": "3141d9ff-eb16-44e1-a5b6-2f0d34721dd6",
   "metadata": {},
   "source": [
    "**Checking data shape**"
   ]
  },
  {
   "cell_type": "code",
   "execution_count": 4,
   "id": "4314f719-0b2a-4092-9677-758890f3d230",
   "metadata": {
    "tags": []
   },
   "outputs": [],
   "source": [
    "fbref_shape = raw_data_fbref.shape"
   ]
  },
  {
   "cell_type": "code",
   "execution_count": 5,
   "id": "b9236de8-341b-4d74-9366-05b15713d2c3",
   "metadata": {
    "tags": []
   },
   "outputs": [
    {
     "name": "stdout",
     "output_type": "stream",
     "text": [
      "Current shape: (4687, 37)\n",
      "Data is good!\n"
     ]
    }
   ],
   "source": [
    "# testing if data include enough 1000 items\n",
    "print(f\"Current shape: {fbref_shape}\")\n",
    "\n",
    "if fbref_shape[0] > 1000:\n",
    "    print(f\"Data is good!\")\n",
    "else:\n",
    "    print(f\"Raw data is absolutely small. Please recheck!\")"
   ]
  },
  {
   "cell_type": "markdown",
   "id": "1056da5b-fd3f-4b45-8b5b-22189bdfd191",
   "metadata": {},
   "source": [
    "**Checking duplicated rows**"
   ]
  },
  {
   "cell_type": "code",
   "execution_count": 6,
   "id": "27a86e20-8be0-4717-97ef-0c65d83fa5de",
   "metadata": {
    "tags": []
   },
   "outputs": [],
   "source": [
    "index = raw_data_fbref.index\n",
    "detect_dup_series = index.duplicated(keep='first')\n",
    "num_duplicated_rows = detect_dup_series.sum()"
   ]
  },
  {
   "cell_type": "code",
   "execution_count": 7,
   "id": "9366cfc8-e0cc-4ff9-bae9-cccfe453901b",
   "metadata": {
    "tags": []
   },
   "outputs": [
    {
     "name": "stdout",
     "output_type": "stream",
     "text": [
      "Raw data have no duplicated rows.!\n"
     ]
    }
   ],
   "source": [
    "# checking containing duplicated rows\n",
    "if num_duplicated_rows == 0:\n",
    "    print(f\"Raw data have no duplicated rows.!\")\n",
    "else:\n",
    "    if num_duplicated_rows > 1:\n",
    "        ext = \"lines\"\n",
    "    else:\n",
    "        ext = \"line\"\n",
    "    print(f\"Raw data have {num_duplicated_rows} duplicated \" + ext + \". Please de-deduplicate the data.!\")"
   ]
  },
  {
   "cell_type": "markdown",
   "id": "f6700196-6573-41f5-875f-bc87425274ed",
   "metadata": {},
   "source": [
    "**Column information**"
   ]
  },
  {
   "cell_type": "code",
   "execution_count": 8,
   "id": "d68353db-646d-4a95-a842-ac41dee2fb87",
   "metadata": {
    "tags": []
   },
   "outputs": [
    {
     "name": "stdout",
     "output_type": "stream",
     "text": [
      "<class 'pandas.core.frame.DataFrame'>\n",
      "RangeIndex: 4687 entries, 0 to 4686\n",
      "Data columns (total 37 columns):\n",
      " #   Column      Non-Null Count  Dtype  \n",
      "---  ------      --------------  -----  \n",
      " 0   Name        4687 non-null   object \n",
      " 1   Season      4665 non-null   object \n",
      " 2   Age         4665 non-null   float64\n",
      " 3   Squad       4665 non-null   object \n",
      " 4   Country     4665 non-null   object \n",
      " 5   Comp        4665 non-null   object \n",
      " 6   LgRank      4665 non-null   object \n",
      " 7   MP          4665 non-null   float64\n",
      " 8   Starts      4661 non-null   float64\n",
      " 9   Min         4414 non-null   object \n",
      " 10  90s         4415 non-null   float64\n",
      " 11  Gls         4413 non-null   float64\n",
      " 12  Ast         4383 non-null   float64\n",
      " 13  G+A         4383 non-null   float64\n",
      " 14  G-PK        4411 non-null   float64\n",
      " 15  PK          4411 non-null   float64\n",
      " 16  PKatt       4411 non-null   float64\n",
      " 17  CrdY        4413 non-null   float64\n",
      " 18  CrdR        4411 non-null   float64\n",
      " 19  xG          3046 non-null   float64\n",
      " 20  npxG        3046 non-null   float64\n",
      " 21  xAG         3046 non-null   float64\n",
      " 22  npxG+xAG    3046 non-null   float64\n",
      " 23  PrgC        3046 non-null   float64\n",
      " 24  PrgP        3046 non-null   float64\n",
      " 25  PrgR        3046 non-null   float64\n",
      " 26  Gls.1       4412 non-null   float64\n",
      " 27  Ast.1       4382 non-null   float64\n",
      " 28  G+A.1       4382 non-null   float64\n",
      " 29  G-PK.1      4410 non-null   float64\n",
      " 30  G+A-PK      4381 non-null   float64\n",
      " 31  xG.1        3046 non-null   float64\n",
      " 32  xAG.1       3046 non-null   float64\n",
      " 33  xG+xAG      3046 non-null   float64\n",
      " 34  npxG.1      3046 non-null   float64\n",
      " 35  npxG+xAG.1  3046 non-null   float64\n",
      " 36  Matches     4663 non-null   object \n",
      "dtypes: float64(29), object(8)\n",
      "memory usage: 1.3+ MB\n"
     ]
    }
   ],
   "source": [
    "raw_data_fbref.info()"
   ]
  },
  {
   "cell_type": "markdown",
   "id": "8d5073ff-3ab6-4983-ac4f-53a1589ca410",
   "metadata": {},
   "source": [
    "It seems there might be an issue with displaying the column names correctly due to duplicates. We'll modify the column names to ensure they present suitable meanings."
   ]
  },
  {
   "cell_type": "code",
   "execution_count": 9,
   "id": "c2052e7d-e018-47c9-ad68-f75948bce81a",
   "metadata": {
    "tags": []
   },
   "outputs": [
    {
     "data": {
      "text/plain": [
       "Index(['Name', 'Season', 'Age', 'Squad', 'Country', 'Comp', 'LgRank', 'MP',\n",
       "       'Starts', 'Min', '90s', 'Gls', 'Ast', 'G+A', 'G-PK', 'PK', 'PKatt',\n",
       "       'CrdY', 'CrdR', 'xG', 'npxG', 'xAG', 'npxG+xAG', 'PrgC', 'PrgP', 'PrgR',\n",
       "       'Gls/90', 'Ast/90', 'G+A/90', 'G-PK/90', 'G+A-PK/90', 'xG/90', 'xAG/90',\n",
       "       'xG+xAG/90', 'npxG/90', 'npxG+xAG/90', 'Matches'],\n",
       "      dtype='object')"
      ]
     },
     "execution_count": 9,
     "metadata": {},
     "output_type": "execute_result"
    }
   ],
   "source": [
    "new_cols_name = ['Name', 'Season', 'Age', 'Squad', 'Country', 'Comp', 'LgRank', 'MP',\n",
    "                 'Starts', 'Min', '90s', 'Gls', 'Ast', 'G+A', 'G-PK', 'PK', 'PKatt',\n",
    "                 'CrdY', 'CrdR', 'xG', 'npxG', 'xAG', 'npxG+xAG', 'PrgC', 'PrgP', 'PrgR',\n",
    "                 'Gls/90', 'Ast/90', 'G+A/90', 'G-PK/90', 'G+A-PK/90', 'xG/90', \n",
    "                 'xAG/90', 'xG+xAG/90', 'npxG/90', 'npxG+xAG/90', 'Matches']\n",
    "\n",
    "column_name_mapping = dict(zip(raw_data_fbref.columns, new_cols_name))\n",
    "raw_data_fbref.rename(columns=column_name_mapping, inplace=True)\n",
    "\n",
    "raw_data_fbref.columns"
   ]
  },
  {
   "cell_type": "markdown",
   "id": "cccceb34-386c-48f7-9667-10d573f60703",
   "metadata": {},
   "source": [
    "**Field meanings**"
   ]
  },
  {
   "cell_type": "markdown",
   "id": "0fae15c7-e2a6-45c8-bef1-22055a924b53",
   "metadata": {},
   "source": [
    "| Field            | Description                                                                                                       |\n",
    "|------------------|-------------------------------------------------------------------------------------------------------------------|\n",
    "| **Season**       | Season                                                                                                            |\n",
    "| **Age**          | Age at season start                                                                                               |\n",
    "| **Country**      | Name of the country                                                                                               |\n",
    "| **Comp**         | Competition                                                                                                       |\n",
    "| **LgRank**       | Squad finish in competition                                                                                      |\n",
    "| **MP**           | Matches Played                                                                                                    |\n",
    "| **Starts**       | Games that player in starting lineup                                                                                           |\n",
    "| **Min**          | Minutes played                                                                                                    |\n",
    "| **90s**          | 90s Played (Minutes played divided by 90)                                                                        |\n",
    "| **Gls**          | Goals scored or allowed                                                                                           |\n",
    "| **Ast**          | Assists                                                                                                           |\n",
    "| **G+A**          | Goals + Assists                                                                                                   |\n",
    "| **G-PK**         | Non-Penalty Goals                                                                                                 |\n",
    "| **PK**           | Penalty Kicks Made                                                                                                |\n",
    "| **PKatt**        | Penalty Kicks Attempted                                                                                           |\n",
    "| **CrdY**         | Yellow Cards                                                                                                     |\n",
    "| **CrdR**         | Red Cards                                                                                                        |\n",
    "| **xG**           | Expected Goals (xG totals include penalty kicks, excluding penalty shootouts)                                   |\n",
    "| **npxG**         | Non-Penalty Expected Goals                                                                                        |\n",
    "| **xAG**          | Expected Assisted Goals                                                                                           |\n",
    "| **npxG+xAG**     | Non-Penalty Expected Goals plus Assisted Goals                                                                    |\n",
    "| **PrgC**         | Progressive Carries (Carries that move the ball towards the opponent's goal line)                                |\n",
    "| **PrgP**         | Progressive Passes (Completed passes that move the ball towards the opponent's goal line)                       |\n",
    "| **PrgR**         | Progressive Passes Received (Completed passes that move the ball towards the opponent's goal line)              |\n",
    "| **Gls/90**        | Goals per 90 minutes (Minimum 30 minutes played per squad game to qualify as a leader)                            |\n",
    "| **Ast/90**        | Assists per 90 minutes (Minimum 30 minutes played per squad game to qualify as a leader)                          |\n",
    "| **G+A/90**        | Goals and Assists per 90 minutes (Minimum 30 minutes played per squad game to qualify as a leader)                 |\n",
    "| **G-PK/90**       | Non-Penalty Goals per 90 minutes (Minimum 30 minutes played per squad game to qualify as a leader)                 |\n",
    "| **G+A-PK/90**       | Non-Penalty Goals plus Assists per 90 minutes (Minimum 30 minutes played per squad game to qualify as a leader)    |\n",
    "| **xG/90**         | Expected Goals per 90 minutes (Minimum 30 minutes played per squad game to qualify as a leader)                   |\n",
    "| **xAG/90**        | Expected Assisted Goals per 90 minutes (Minimum 30 minutes played per squad game to qualify as a leader)          |\n",
    "| **xG+xAG/90**       | Expected Goals plus Assisted Goals per 90 minutes (Minimum 30 minutes played per squad game to qualify as a leader)|\n",
    "| **npxG/90**       | Non-Penalty Expected Goals per 90 minutes (Minimum 30 minutes played per squad game to qualify as a leader)        |\n",
    "| **npxG+xAG/90**   | Non-Penalty Expected Goals plus Assisted Goals per 90 minutes (Minimum 30 minutes played per squad game)           |\n"
   ]
  },
  {
   "cell_type": "markdown",
   "id": "e64b3f43-fb01-421f-af11-0823bb5a641d",
   "metadata": {},
   "source": [
    "**Removing missing season**\n",
    "\n",
    "In certain football leagues, players may miss a season due to various reasons such as injuries, non-participation, suspensions, transfers, and more. This results in rows with incomplete information in the dataset. Therefore, we are contemplating the removal of these rows."
   ]
  },
  {
   "cell_type": "code",
   "execution_count": 10,
   "id": "68a8d597-f5bc-4852-afdf-fe3e87678c1c",
   "metadata": {
    "tags": []
   },
   "outputs": [
    {
     "data": {
      "text/plain": [
       "(4665, 37)"
      ]
     },
     "execution_count": 10,
     "metadata": {},
     "output_type": "execute_result"
    }
   ],
   "source": [
    "raw_data_fbref.dropna(subset=['Season'], inplace=True)\n",
    "raw_data_fbref.shape"
   ]
  },
  {
   "cell_type": "markdown",
   "id": "a3d903c1-60b6-471e-82ec-1d1d5779dc42",
   "metadata": {},
   "source": [
    "**Remove unnecessary columns**"
   ]
  },
  {
   "cell_type": "code",
   "execution_count": 11,
   "id": "8123cc01-05e8-4b5d-a524-64b469a247f8",
   "metadata": {
    "tags": []
   },
   "outputs": [
    {
     "data": {
      "text/plain": [
       "array(['Matches', nan], dtype=object)"
      ]
     },
     "execution_count": 11,
     "metadata": {},
     "output_type": "execute_result"
    }
   ],
   "source": [
    "raw_data_fbref['Matches'].unique()"
   ]
  },
  {
   "cell_type": "markdown",
   "id": "9fbb1a33-69a5-4a81-a0c8-9f4140469507",
   "metadata": {},
   "source": [
    "Column `Matches` only has Matches value. In fact, on website this is a hyperlink to another match so dropping this column is necessary"
   ]
  },
  {
   "cell_type": "code",
   "execution_count": 12,
   "id": "4f71ac64-1343-4119-82a1-232827413356",
   "metadata": {
    "tags": []
   },
   "outputs": [
    {
     "data": {
      "text/plain": [
       "Index(['Name', 'Season', 'Age', 'Squad', 'Country', 'Comp', 'LgRank', 'MP',\n",
       "       'Starts', 'Min', '90s', 'Gls', 'Ast', 'G+A', 'G-PK', 'PK', 'PKatt',\n",
       "       'CrdY', 'CrdR', 'xG', 'npxG', 'xAG', 'npxG+xAG', 'PrgC', 'PrgP', 'PrgR',\n",
       "       'Gls/90', 'Ast/90', 'G+A/90', 'G-PK/90', 'G+A-PK/90', 'xG/90', 'xAG/90',\n",
       "       'xG+xAG/90', 'npxG/90', 'npxG+xAG/90'],\n",
       "      dtype='object')"
      ]
     },
     "execution_count": 12,
     "metadata": {},
     "output_type": "execute_result"
    }
   ],
   "source": [
    "raw_data_fbref = raw_data_fbref.drop(['Matches'],axis = 1)\n",
    "raw_data_fbref.columns"
   ]
  },
  {
   "cell_type": "markdown",
   "id": "405c3334-b432-4ef9-b329-84b881fafef7",
   "metadata": {},
   "source": [
    "**Reformating features and Adjusting data types**"
   ]
  },
  {
   "cell_type": "markdown",
   "id": "7c93863e",
   "metadata": {},
   "source": [
    "- Overall, data type of most fields is correct except for minutes played `Min`, which should be integer instead of object. Here we're going to remove the comma in each value."
   ]
  },
  {
   "cell_type": "code",
   "execution_count": 13,
   "id": "994f6f21",
   "metadata": {
    "tags": []
   },
   "outputs": [],
   "source": [
    "def format_min(min):\n",
    "     if pd.notna(min):\n",
    "        return int(min.replace(',', ''))\n",
    "     else:\n",
    "        return min\n",
    "    \n",
    "raw_data_fbref['Min'] = raw_data_fbref['Min'].apply(format_min)"
   ]
  },
  {
   "cell_type": "markdown",
   "id": "9088d65b-31fe-4cda-a57c-cbb93d002dd5",
   "metadata": {},
   "source": [
    "- Additional players personal infos, and fundamental statistics such as `MP`, `Gls`, `Ast`, `G+A`, etc., need to be converted to integers. However, a challenge arises because these columns contain NaN values, which are represented as floating-point numbers, often indicating missing data. To facilitate the conversion of these columns to integers, the transformation from NaN to zero must be performed prior to converting the remaining values."
   ]
  },
  {
   "cell_type": "code",
   "execution_count": 14,
   "id": "ba83e4ce-b691-4519-aa9e-7c7571c401e6",
   "metadata": {
    "tags": []
   },
   "outputs": [
    {
     "data": {
      "text/plain": [
       "Name            object\n",
       "Season          object\n",
       "Age              int64\n",
       "Squad           object\n",
       "Country         object\n",
       "Comp            object\n",
       "LgRank          object\n",
       "MP               int64\n",
       "Starts           int64\n",
       "Min            float64\n",
       "90s            float64\n",
       "Gls              int64\n",
       "Ast              int64\n",
       "G+A              int64\n",
       "G-PK             int64\n",
       "PK               int64\n",
       "PKatt            int64\n",
       "CrdY             int64\n",
       "CrdR             int64\n",
       "xG             float64\n",
       "npxG           float64\n",
       "xAG            float64\n",
       "npxG+xAG       float64\n",
       "PrgC             int64\n",
       "PrgP             int64\n",
       "PrgR             int64\n",
       "Gls/90         float64\n",
       "Ast/90         float64\n",
       "G+A/90         float64\n",
       "G-PK/90        float64\n",
       "G+A-PK/90      float64\n",
       "xG/90          float64\n",
       "xAG/90         float64\n",
       "xG+xAG/90      float64\n",
       "npxG/90        float64\n",
       "npxG+xAG/90    float64\n",
       "dtype: object"
      ]
     },
     "execution_count": 14,
     "metadata": {},
     "output_type": "execute_result"
    }
   ],
   "source": [
    "int_cols = ['Age', 'MP', 'Starts', 'Gls', 'Ast', 'G+A', \n",
    "            'G-PK', 'PK', 'PKatt', 'CrdY', 'CrdR', \n",
    "            'PrgC', 'PrgP', 'PrgR']\n",
    "\n",
    "raw_data_fbref[int_cols] = raw_data_fbref[int_cols].fillna(0).astype(int)\n",
    "raw_data_fbref.dtypes"
   ]
  },
  {
   "cell_type": "markdown",
   "id": "2ce0cdf6-fecd-4377-bc21-ac57ffc6599a",
   "metadata": {},
   "source": [
    "- Extract the the teams' places in `LgRank` columns."
   ]
  },
  {
   "cell_type": "code",
   "execution_count": 15,
   "id": "46980219-034a-4372-ad5a-cffeccf4a641",
   "metadata": {
    "tags": []
   },
   "outputs": [
    {
     "data": {
      "text/plain": [
       "array([ 4, 17,  9, 10,  2,  1, 11,  5, 13, 16,  6,  7, 14,  8,  3, 19, 12,\n",
       "       15, 22, 24, 20, 18, 21, 23, 26, 28, 25])"
      ]
     },
     "execution_count": 15,
     "metadata": {},
     "output_type": "execute_result"
    }
   ],
   "source": [
    "raw_data_fbref['LgRank'] = raw_data_fbref['LgRank'].str.extract('(\\d+)').astype(int)\n",
    "raw_data_fbref['LgRank'].unique()"
   ]
  },
  {
   "cell_type": "markdown",
   "id": "da23a702-9574-419b-9e95-306f15dcb079",
   "metadata": {},
   "source": [
    "- Remove redundant letters in values of `Country` column, which in fact is the national flags, causing by crawling process."
   ]
  },
  {
   "cell_type": "code",
   "execution_count": 16,
   "id": "21e61bd2",
   "metadata": {
    "scrolled": true,
    "tags": []
   },
   "outputs": [
    {
     "data": {
      "text/plain": [
       "Country\n",
       "eng ENG    3267\n",
       "fr FRA      200\n",
       "de GER      188\n",
       "es ESP      179\n",
       "it ITA      159\n",
       "nl NED      128\n",
       "be BEL      101\n",
       "pt POR       81\n",
       "sct SCO      55\n",
       "br BRA       49\n",
       "dk DEN       38\n",
       "ar ARG       37\n",
       "us USA       23\n",
       "ua UKR       20\n",
       "at AUT       19\n",
       "se SWE       16\n",
       "cz CZE       13\n",
       "ch SUI       12\n",
       "tr TUR       11\n",
       "gr GRE       11\n",
       "co COL       10\n",
       "no NOR        9\n",
       "jp JPN        8\n",
       "uy URU        5\n",
       "rs SRB        4\n",
       "hr CRO        4\n",
       "py PAR        4\n",
       "ec ECU        3\n",
       "pl POL        3\n",
       "mx MEX        3\n",
       "sa KSA        2\n",
       "ru RUS        1\n",
       "kr KOR        1\n",
       "za RSA        1\n",
       "Name: count, dtype: int64"
      ]
     },
     "execution_count": 16,
     "metadata": {},
     "output_type": "execute_result"
    }
   ],
   "source": [
    "# Countries names format and their frequency\n",
    "count = raw_data_fbref[\"Country\"].value_counts()\n",
    "count"
   ]
  },
  {
   "cell_type": "code",
   "execution_count": 17,
   "id": "1584f344",
   "metadata": {
    "scrolled": true,
    "tags": []
   },
   "outputs": [
    {
     "data": {
      "text/plain": [
       "Country\n",
       "ENG    3267\n",
       "FRA     200\n",
       "GER     188\n",
       "ESP     179\n",
       "ITA     159\n",
       "NED     128\n",
       "BEL     101\n",
       "POR      81\n",
       "SCO      55\n",
       "BRA      49\n",
       "DEN      38\n",
       "ARG      37\n",
       "USA      23\n",
       "UKR      20\n",
       "AUT      19\n",
       "SWE      16\n",
       "CZE      13\n",
       "SUI      12\n",
       "TUR      11\n",
       "GRE      11\n",
       "COL      10\n",
       "NOR       9\n",
       "JPN       8\n",
       "URU       5\n",
       "SRB       4\n",
       "CRO       4\n",
       "PAR       4\n",
       "ECU       3\n",
       "POL       3\n",
       "MEX       3\n",
       "KSA       2\n",
       "RUS       1\n",
       "KOR       1\n",
       "RSA       1\n",
       "Name: count, dtype: int64"
      ]
     },
     "execution_count": 17,
     "metadata": {},
     "output_type": "execute_result"
    }
   ],
   "source": [
    "# get rid of the first word of countries name\n",
    "raw_data_fbref['Country'] = raw_data_fbref['Country'].str.split().str[1]\n",
    "count = raw_data_fbref[\"Country\"].value_counts()\n",
    "count"
   ]
  },
  {
   "cell_type": "markdown",
   "id": "6406579f-dd25-4fd0-9a3b-687089909f46",
   "metadata": {},
   "source": [
    "- Data of players currently playing in premier league may include their previous records from other leagues in which `Season` format is different. It is neccessary to adjust this for later stages."
   ]
  },
  {
   "cell_type": "code",
   "execution_count": 18,
   "id": "8a94e2e9",
   "metadata": {
    "scrolled": true,
    "tags": []
   },
   "outputs": [
    {
     "name": "stdout",
     "output_type": "stream",
     "text": [
      "Season\n",
      "2022-2023    674\n",
      "2023-2024    640\n",
      "2021-2022    627\n",
      "2020-2021    585\n",
      "2019-2020    549\n",
      "2018-2019    473\n",
      "2017-2018    416\n",
      "2016-2017    325\n",
      "2015-2016    173\n",
      "2014-2015     63\n",
      "2021          21\n",
      "2017          19\n",
      "2016          18\n",
      "2022          18\n",
      "2019          17\n",
      "2018          16\n",
      "2020          15\n",
      "2023          10\n",
      "2015           6\n",
      "Name: count, dtype: int64\n",
      "total: 4665\n"
     ]
    }
   ],
   "source": [
    "season_count = raw_data_fbref['Season'].value_counts()\n",
    "print(season_count)\n",
    "print(f\"total: {season_count.sum()}\")"
   ]
  },
  {
   "cell_type": "code",
   "execution_count": 19,
   "id": "613824ad",
   "metadata": {
    "tags": []
   },
   "outputs": [],
   "source": [
    "def format_season(season):\n",
    "    if pd.notna(season) and '-' in season:\n",
    "        return season\n",
    "    elif pd.notna(season):\n",
    "        return f\"{season}-{int(season) + 1}\"\n",
    "    else:\n",
    "        return season\n",
    "raw_data_fbref['Season'] = raw_data_fbref['Season'].apply(format_season)"
   ]
  },
  {
   "cell_type": "code",
   "execution_count": 20,
   "id": "c258a1de",
   "metadata": {
    "tags": []
   },
   "outputs": [
    {
     "name": "stdout",
     "output_type": "stream",
     "text": [
      "Season\n",
      "2022-2023    692\n",
      "2023-2024    650\n",
      "2021-2022    648\n",
      "2020-2021    600\n",
      "2019-2020    566\n",
      "2018-2019    489\n",
      "2017-2018    435\n",
      "2016-2017    343\n",
      "2015-2016    179\n",
      "2014-2015     63\n",
      "Name: count, dtype: int64\n",
      "total: 4665\n"
     ]
    }
   ],
   "source": [
    "season_count = raw_data_fbref['Season'].value_counts()\n",
    "print(season_count)\n",
    "print(f\"total: {season_count.sum()}\")"
   ]
  },
  {
   "cell_type": "markdown",
   "id": "b2d8b8a0-54d3-4997-a01f-5dce3c2257f9",
   "metadata": {},
   "source": [
    "- Remove prefix number, and normalize league name in `Comp` column using `unicode` library."
   ]
  },
  {
   "cell_type": "code",
   "execution_count": 21,
   "id": "cd605696-57ad-461c-bfaf-e13d0fb0f05a",
   "metadata": {
    "tags": []
   },
   "outputs": [
    {
     "data": {
      "text/plain": [
       "Comp\n",
       "Premier League        2131\n",
       "Championship           566\n",
       "Jr. PL2 -- Div. 1      283\n",
       "Serie A                197\n",
       "Bundesliga             187\n",
       "Ligue 1                172\n",
       "La Liga                161\n",
       "Jr. PL2 -- Div. 2      115\n",
       "League One             108\n",
       "Eredivisie             100\n",
       "Primeira Liga           81\n",
       "First Division A        76\n",
       "Premiership             49\n",
       "League Two              44\n",
       "Primera Div             41\n",
       "Superliga               38\n",
       "Jr. PL2                 35\n",
       "Eerste Divisie          28\n",
       "Ligue 2                 28\n",
       "MLS                     19\n",
       "Segunda Division        18\n",
       "Pro League A            14\n",
       "Serie B                 14\n",
       "First League            13\n",
       "Jr. U19 Bundesliga      13\n",
       "Allsvenskan             13\n",
       "Super Lg                12\n",
       "Super Lig               11\n",
       "Super League            11\n",
       "National League         11\n",
       "Primera A               10\n",
       "J1 League                7\n",
       "Pro League               7\n",
       "Tippeligaen              5\n",
       "Primera Division         5\n",
       "SuperLiga                4\n",
       "First Division B         4\n",
       "USL                      4\n",
       "HNL                      4\n",
       "Liga                     4\n",
       "Eliteserien              4\n",
       "Liga MX                  3\n",
       "Ekstraklasa              3\n",
       "Jr. U17 Bundesliga       3\n",
       "Superettan               3\n",
       "Pro League B             2\n",
       "J2 League                1\n",
       "K League                 1\n",
       "Conf Premier             1\n",
       "Premier Division         1\n",
       "Name: count, dtype: int64"
      ]
     },
     "execution_count": 21,
     "metadata": {},
     "output_type": "execute_result"
    }
   ],
   "source": [
    "raw_data_fbref['Comp'] = raw_data_fbref['Comp'].apply(unidecode)\n",
    "raw_data_fbref['Comp'] = raw_data_fbref['Comp'].str.replace(r'^(\\d+\\.?\\s*)+', '', regex=True)\n",
    "comp_counts = raw_data_fbref['Comp'].value_counts()\n",
    "comp_counts"
   ]
  },
  {
   "cell_type": "markdown",
   "id": "618fb7ea-e255-4390-89db-4b5951d21229",
   "metadata": {},
   "source": [
    "**Processed data**"
   ]
  },
  {
   "cell_type": "code",
   "execution_count": 22,
   "id": "92de25cf-ffdb-45bb-8c04-d09461d2d8ce",
   "metadata": {
    "tags": []
   },
   "outputs": [
    {
     "data": {
      "text/html": [
       "<div>\n",
       "<style scoped>\n",
       "    .dataframe tbody tr th:only-of-type {\n",
       "        vertical-align: middle;\n",
       "    }\n",
       "\n",
       "    .dataframe tbody tr th {\n",
       "        vertical-align: top;\n",
       "    }\n",
       "\n",
       "    .dataframe thead th {\n",
       "        text-align: right;\n",
       "    }\n",
       "</style>\n",
       "<table border=\"1\" class=\"dataframe\">\n",
       "  <thead>\n",
       "    <tr style=\"text-align: right;\">\n",
       "      <th></th>\n",
       "      <th>Name</th>\n",
       "      <th>Season</th>\n",
       "      <th>Age</th>\n",
       "      <th>Squad</th>\n",
       "      <th>Country</th>\n",
       "      <th>Comp</th>\n",
       "      <th>LgRank</th>\n",
       "      <th>MP</th>\n",
       "      <th>Starts</th>\n",
       "      <th>Min</th>\n",
       "      <th>90s</th>\n",
       "      <th>Gls</th>\n",
       "      <th>Ast</th>\n",
       "      <th>G+A</th>\n",
       "      <th>G-PK</th>\n",
       "      <th>PK</th>\n",
       "      <th>PKatt</th>\n",
       "      <th>CrdY</th>\n",
       "      <th>CrdR</th>\n",
       "      <th>xG</th>\n",
       "      <th>npxG</th>\n",
       "      <th>xAG</th>\n",
       "      <th>npxG+xAG</th>\n",
       "      <th>PrgC</th>\n",
       "      <th>PrgP</th>\n",
       "      <th>PrgR</th>\n",
       "      <th>Gls/90</th>\n",
       "      <th>Ast/90</th>\n",
       "      <th>G+A/90</th>\n",
       "      <th>G-PK/90</th>\n",
       "      <th>G+A-PK/90</th>\n",
       "      <th>xG/90</th>\n",
       "      <th>xAG/90</th>\n",
       "      <th>xG+xAG/90</th>\n",
       "      <th>npxG/90</th>\n",
       "      <th>npxG+xAG/90</th>\n",
       "    </tr>\n",
       "  </thead>\n",
       "  <tbody>\n",
       "    <tr>\n",
       "      <th>0</th>\n",
       "      <td>William Saliba</td>\n",
       "      <td>2018-2019</td>\n",
       "      <td>17</td>\n",
       "      <td>Saint-Étienne</td>\n",
       "      <td>FRA</td>\n",
       "      <td>Ligue 1</td>\n",
       "      <td>4</td>\n",
       "      <td>16</td>\n",
       "      <td>13</td>\n",
       "      <td>1277.0</td>\n",
       "      <td>14.2</td>\n",
       "      <td>0</td>\n",
       "      <td>0</td>\n",
       "      <td>0</td>\n",
       "      <td>0</td>\n",
       "      <td>0</td>\n",
       "      <td>0</td>\n",
       "      <td>1</td>\n",
       "      <td>0</td>\n",
       "      <td>0.3</td>\n",
       "      <td>0.3</td>\n",
       "      <td>0.0</td>\n",
       "      <td>0.3</td>\n",
       "      <td>7</td>\n",
       "      <td>21</td>\n",
       "      <td>4</td>\n",
       "      <td>0.00</td>\n",
       "      <td>0.0</td>\n",
       "      <td>0.00</td>\n",
       "      <td>0.00</td>\n",
       "      <td>0.00</td>\n",
       "      <td>0.02</td>\n",
       "      <td>0.00</td>\n",
       "      <td>0.02</td>\n",
       "      <td>0.02</td>\n",
       "      <td>0.02</td>\n",
       "    </tr>\n",
       "    <tr>\n",
       "      <th>1</th>\n",
       "      <td>William Saliba</td>\n",
       "      <td>2019-2020</td>\n",
       "      <td>18</td>\n",
       "      <td>Saint-Étienne</td>\n",
       "      <td>FRA</td>\n",
       "      <td>Ligue 1</td>\n",
       "      <td>17</td>\n",
       "      <td>12</td>\n",
       "      <td>11</td>\n",
       "      <td>992.0</td>\n",
       "      <td>11.0</td>\n",
       "      <td>0</td>\n",
       "      <td>0</td>\n",
       "      <td>0</td>\n",
       "      <td>0</td>\n",
       "      <td>0</td>\n",
       "      <td>0</td>\n",
       "      <td>0</td>\n",
       "      <td>0</td>\n",
       "      <td>0.2</td>\n",
       "      <td>0.2</td>\n",
       "      <td>0.1</td>\n",
       "      <td>0.3</td>\n",
       "      <td>20</td>\n",
       "      <td>33</td>\n",
       "      <td>7</td>\n",
       "      <td>0.00</td>\n",
       "      <td>0.0</td>\n",
       "      <td>0.00</td>\n",
       "      <td>0.00</td>\n",
       "      <td>0.00</td>\n",
       "      <td>0.02</td>\n",
       "      <td>0.01</td>\n",
       "      <td>0.03</td>\n",
       "      <td>0.02</td>\n",
       "      <td>0.03</td>\n",
       "    </tr>\n",
       "    <tr>\n",
       "      <th>2</th>\n",
       "      <td>William Saliba</td>\n",
       "      <td>2020-2021</td>\n",
       "      <td>19</td>\n",
       "      <td>Nice</td>\n",
       "      <td>FRA</td>\n",
       "      <td>Ligue 1</td>\n",
       "      <td>9</td>\n",
       "      <td>20</td>\n",
       "      <td>20</td>\n",
       "      <td>1800.0</td>\n",
       "      <td>20.0</td>\n",
       "      <td>1</td>\n",
       "      <td>0</td>\n",
       "      <td>1</td>\n",
       "      <td>1</td>\n",
       "      <td>0</td>\n",
       "      <td>0</td>\n",
       "      <td>2</td>\n",
       "      <td>0</td>\n",
       "      <td>0.8</td>\n",
       "      <td>0.8</td>\n",
       "      <td>0.0</td>\n",
       "      <td>0.9</td>\n",
       "      <td>36</td>\n",
       "      <td>106</td>\n",
       "      <td>3</td>\n",
       "      <td>0.05</td>\n",
       "      <td>0.0</td>\n",
       "      <td>0.05</td>\n",
       "      <td>0.05</td>\n",
       "      <td>0.05</td>\n",
       "      <td>0.04</td>\n",
       "      <td>0.00</td>\n",
       "      <td>0.04</td>\n",
       "      <td>0.04</td>\n",
       "      <td>0.04</td>\n",
       "    </tr>\n",
       "    <tr>\n",
       "      <th>3</th>\n",
       "      <td>William Saliba</td>\n",
       "      <td>2020-2021</td>\n",
       "      <td>19</td>\n",
       "      <td>Arsenal</td>\n",
       "      <td>ENG</td>\n",
       "      <td>Jr. PL2 -- Div. 1</td>\n",
       "      <td>10</td>\n",
       "      <td>6</td>\n",
       "      <td>6</td>\n",
       "      <td>526.0</td>\n",
       "      <td>5.8</td>\n",
       "      <td>0</td>\n",
       "      <td>0</td>\n",
       "      <td>0</td>\n",
       "      <td>0</td>\n",
       "      <td>0</td>\n",
       "      <td>0</td>\n",
       "      <td>1</td>\n",
       "      <td>0</td>\n",
       "      <td>NaN</td>\n",
       "      <td>NaN</td>\n",
       "      <td>NaN</td>\n",
       "      <td>NaN</td>\n",
       "      <td>0</td>\n",
       "      <td>0</td>\n",
       "      <td>0</td>\n",
       "      <td>0.00</td>\n",
       "      <td>0.0</td>\n",
       "      <td>0.00</td>\n",
       "      <td>0.00</td>\n",
       "      <td>0.00</td>\n",
       "      <td>NaN</td>\n",
       "      <td>NaN</td>\n",
       "      <td>NaN</td>\n",
       "      <td>NaN</td>\n",
       "      <td>NaN</td>\n",
       "    </tr>\n",
       "    <tr>\n",
       "      <th>4</th>\n",
       "      <td>William Saliba</td>\n",
       "      <td>2021-2022</td>\n",
       "      <td>20</td>\n",
       "      <td>Marseille</td>\n",
       "      <td>FRA</td>\n",
       "      <td>Ligue 1</td>\n",
       "      <td>2</td>\n",
       "      <td>36</td>\n",
       "      <td>36</td>\n",
       "      <td>3240.0</td>\n",
       "      <td>36.0</td>\n",
       "      <td>0</td>\n",
       "      <td>0</td>\n",
       "      <td>0</td>\n",
       "      <td>0</td>\n",
       "      <td>0</td>\n",
       "      <td>0</td>\n",
       "      <td>5</td>\n",
       "      <td>0</td>\n",
       "      <td>1.7</td>\n",
       "      <td>1.7</td>\n",
       "      <td>0.4</td>\n",
       "      <td>2.1</td>\n",
       "      <td>50</td>\n",
       "      <td>220</td>\n",
       "      <td>14</td>\n",
       "      <td>0.00</td>\n",
       "      <td>0.0</td>\n",
       "      <td>0.00</td>\n",
       "      <td>0.00</td>\n",
       "      <td>0.00</td>\n",
       "      <td>0.05</td>\n",
       "      <td>0.01</td>\n",
       "      <td>0.06</td>\n",
       "      <td>0.05</td>\n",
       "      <td>0.06</td>\n",
       "    </tr>\n",
       "  </tbody>\n",
       "</table>\n",
       "</div>"
      ],
      "text/plain": [
       "             Name     Season  Age          Squad Country               Comp  \\\n",
       "0  William Saliba  2018-2019   17  Saint-Étienne     FRA            Ligue 1   \n",
       "1  William Saliba  2019-2020   18  Saint-Étienne     FRA            Ligue 1   \n",
       "2  William Saliba  2020-2021   19           Nice     FRA            Ligue 1   \n",
       "3  William Saliba  2020-2021   19        Arsenal     ENG  Jr. PL2 -- Div. 1   \n",
       "4  William Saliba  2021-2022   20      Marseille     FRA            Ligue 1   \n",
       "\n",
       "   LgRank  MP  Starts     Min   90s  Gls  Ast  G+A  G-PK  PK  PKatt  CrdY  \\\n",
       "0       4  16      13  1277.0  14.2    0    0    0     0   0      0     1   \n",
       "1      17  12      11   992.0  11.0    0    0    0     0   0      0     0   \n",
       "2       9  20      20  1800.0  20.0    1    0    1     1   0      0     2   \n",
       "3      10   6       6   526.0   5.8    0    0    0     0   0      0     1   \n",
       "4       2  36      36  3240.0  36.0    0    0    0     0   0      0     5   \n",
       "\n",
       "   CrdR   xG  npxG  xAG  npxG+xAG  PrgC  PrgP  PrgR  Gls/90  Ast/90  G+A/90  \\\n",
       "0     0  0.3   0.3  0.0       0.3     7    21     4    0.00     0.0    0.00   \n",
       "1     0  0.2   0.2  0.1       0.3    20    33     7    0.00     0.0    0.00   \n",
       "2     0  0.8   0.8  0.0       0.9    36   106     3    0.05     0.0    0.05   \n",
       "3     0  NaN   NaN  NaN       NaN     0     0     0    0.00     0.0    0.00   \n",
       "4     0  1.7   1.7  0.4       2.1    50   220    14    0.00     0.0    0.00   \n",
       "\n",
       "   G-PK/90  G+A-PK/90  xG/90  xAG/90  xG+xAG/90  npxG/90  npxG+xAG/90  \n",
       "0     0.00       0.00   0.02    0.00       0.02     0.02         0.02  \n",
       "1     0.00       0.00   0.02    0.01       0.03     0.02         0.03  \n",
       "2     0.05       0.05   0.04    0.00       0.04     0.04         0.04  \n",
       "3     0.00       0.00    NaN     NaN        NaN      NaN          NaN  \n",
       "4     0.00       0.00   0.05    0.01       0.06     0.05         0.06  "
      ]
     },
     "execution_count": 22,
     "metadata": {},
     "output_type": "execute_result"
    }
   ],
   "source": [
    "processed_data_fbref = raw_data_fbref\n",
    "processed_data_fbref.head()"
   ]
  },
  {
   "cell_type": "markdown",
   "id": "78c2dfd5",
   "metadata": {},
   "source": [
    "### **2.2. Transfermarkt data**"
   ]
  },
  {
   "cell_type": "markdown",
   "id": "7a23eb49-163b-4e3a-9513-4408532df891",
   "metadata": {},
   "source": [
    "#### **Raw data inspect**"
   ]
  },
  {
   "cell_type": "code",
   "execution_count": 24,
   "id": "8d3efdb8",
   "metadata": {
    "tags": []
   },
   "outputs": [
    {
     "data": {
      "text/html": [
       "<div>\n",
       "<style scoped>\n",
       "    .dataframe tbody tr th:only-of-type {\n",
       "        vertical-align: middle;\n",
       "    }\n",
       "\n",
       "    .dataframe tbody tr th {\n",
       "        vertical-align: top;\n",
       "    }\n",
       "\n",
       "    .dataframe thead th {\n",
       "        text-align: right;\n",
       "    }\n",
       "</style>\n",
       "<table border=\"1\" class=\"dataframe\">\n",
       "  <thead>\n",
       "    <tr style=\"text-align: right;\">\n",
       "      <th></th>\n",
       "      <th>Name</th>\n",
       "      <th>Season</th>\n",
       "      <th>Injury</th>\n",
       "      <th>from</th>\n",
       "      <th>until</th>\n",
       "      <th>Days</th>\n",
       "      <th>Games missed</th>\n",
       "    </tr>\n",
       "  </thead>\n",
       "  <tbody>\n",
       "    <tr>\n",
       "      <th>0</th>\n",
       "      <td>Ederson</td>\n",
       "      <td>20/21</td>\n",
       "      <td>Virus</td>\n",
       "      <td>Dec 27, 2020</td>\n",
       "      <td>Jan 12, 2021</td>\n",
       "      <td>16 days</td>\n",
       "      <td>3</td>\n",
       "    </tr>\n",
       "    <tr>\n",
       "      <th>1</th>\n",
       "      <td>Ederson</td>\n",
       "      <td>19/20</td>\n",
       "      <td>Ill</td>\n",
       "      <td>Dec 30, 2019</td>\n",
       "      <td>Jan 7, 2020</td>\n",
       "      <td>8 days</td>\n",
       "      <td>3</td>\n",
       "    </tr>\n",
       "    <tr>\n",
       "      <th>2</th>\n",
       "      <td>Ederson</td>\n",
       "      <td>19/20</td>\n",
       "      <td>Ill</td>\n",
       "      <td>Dec 8, 2019</td>\n",
       "      <td>Dec 14, 2019</td>\n",
       "      <td>6 days</td>\n",
       "      <td>1</td>\n",
       "    </tr>\n",
       "    <tr>\n",
       "      <th>3</th>\n",
       "      <td>Ederson</td>\n",
       "      <td>19/20</td>\n",
       "      <td>muscular problems</td>\n",
       "      <td>Nov 6, 2019</td>\n",
       "      <td>Nov 22, 2019</td>\n",
       "      <td>16 days</td>\n",
       "      <td>4</td>\n",
       "    </tr>\n",
       "    <tr>\n",
       "      <th>4</th>\n",
       "      <td>Ederson</td>\n",
       "      <td>17/18</td>\n",
       "      <td>Facial injury</td>\n",
       "      <td>Sep 10, 2017</td>\n",
       "      <td>Sep 12, 2017</td>\n",
       "      <td>2 days</td>\n",
       "      <td>-</td>\n",
       "    </tr>\n",
       "  </tbody>\n",
       "</table>\n",
       "</div>"
      ],
      "text/plain": [
       "      Name Season             Injury          from         until     Days  \\\n",
       "0  Ederson  20/21              Virus  Dec 27, 2020  Jan 12, 2021  16 days   \n",
       "1  Ederson  19/20                Ill  Dec 30, 2019   Jan 7, 2020   8 days   \n",
       "2  Ederson  19/20                Ill   Dec 8, 2019  Dec 14, 2019   6 days   \n",
       "3  Ederson  19/20  muscular problems   Nov 6, 2019  Nov 22, 2019  16 days   \n",
       "4  Ederson  17/18      Facial injury  Sep 10, 2017  Sep 12, 2017   2 days   \n",
       "\n",
       "  Games missed  \n",
       "0            3  \n",
       "1            3  \n",
       "2            1  \n",
       "3            4  \n",
       "4            -  "
      ]
     },
     "execution_count": 24,
     "metadata": {},
     "output_type": "execute_result"
    }
   ],
   "source": [
    "raw_data_trans = pd.read_csv(\"../../data/raw/raw_data_trans.csv\")\n",
    "raw_data_trans.head()"
   ]
  },
  {
   "cell_type": "markdown",
   "id": "ca24d5fa-bcaf-44a0-a920-53cc6a012d32",
   "metadata": {},
   "source": [
    "It seems that, for this data table, the data is relatively clean, and there are no columns containing junk data. Therefore, removing columns is not yet necessary at the current time. However, some reformation must be done for synchronization with the previous data."
   ]
  },
  {
   "cell_type": "markdown",
   "id": "15c3fef6-08b8-4d86-951b-b4068eb77299",
   "metadata": {},
   "source": [
    "**Checking data shape**"
   ]
  },
  {
   "cell_type": "code",
   "execution_count": 27,
   "id": "8c440bbf-e280-41fd-b824-0f2cdfb8dd02",
   "metadata": {
    "tags": []
   },
   "outputs": [
    {
     "data": {
      "text/plain": [
       "(3233, 7)"
      ]
     },
     "execution_count": 27,
     "metadata": {},
     "output_type": "execute_result"
    }
   ],
   "source": [
    "trans_shape = raw_data_trans.shape\n",
    "trans_shape"
   ]
  },
  {
   "cell_type": "code",
   "execution_count": 28,
   "id": "0068d5d2-7af4-485f-884d-cbe509af5995",
   "metadata": {
    "tags": []
   },
   "outputs": [
    {
     "name": "stdout",
     "output_type": "stream",
     "text": [
      "Current shape: (4687, 37)\n",
      "Data is good!\n"
     ]
    }
   ],
   "source": [
    "# testing if data include enough 1000 items\n",
    "print(f\"Current shape: {fbref_shape}\")\n",
    "\n",
    "if fbref_shape[0] > 1000:\n",
    "    print(f\"Data is good!\")\n",
    "else:\n",
    "    print(f\"Raw data is absolutely small. Please recheck!\")"
   ]
  },
  {
   "cell_type": "markdown",
   "id": "c94db6cc-7c24-4a3a-a85b-d5aea380939f",
   "metadata": {},
   "source": [
    "**Checking duplicated rows**"
   ]
  },
  {
   "cell_type": "code",
   "execution_count": 30,
   "id": "f1a6337a-7ed6-4390-bec2-97774b1b0528",
   "metadata": {
    "tags": []
   },
   "outputs": [],
   "source": [
    "index = raw_data_trans.index\n",
    "detect_dup_series = index.duplicated(keep='first')\n",
    "num_duplicated_rows = detect_dup_series.sum()"
   ]
  },
  {
   "cell_type": "code",
   "execution_count": 31,
   "id": "2b1bffbf-c121-451c-abf0-3e2d73fe3b0f",
   "metadata": {
    "tags": []
   },
   "outputs": [
    {
     "name": "stdout",
     "output_type": "stream",
     "text": [
      "Raw data have no duplicated rows.!\n"
     ]
    }
   ],
   "source": [
    "# checking containing duplicated rows\n",
    "if num_duplicated_rows == 0:\n",
    "    print(f\"Raw data have no duplicated rows.!\")\n",
    "else:\n",
    "    if num_duplicated_rows > 1:\n",
    "        ext = \"lines\"\n",
    "    else:\n",
    "        ext = \"line\"\n",
    "    print(f\"Raw data have {num_duplicated_rows} duplicated \" + ext + \". Please de-deduplicate the data.!\")"
   ]
  },
  {
   "cell_type": "markdown",
   "id": "af7b0a9a-0ba7-467a-83dc-f33945887ee0",
   "metadata": {},
   "source": [
    "**Column informations**"
   ]
  },
  {
   "cell_type": "code",
   "execution_count": 32,
   "id": "2dad0388-8a30-4c6f-ab95-b9c387e378ae",
   "metadata": {
    "tags": []
   },
   "outputs": [
    {
     "name": "stdout",
     "output_type": "stream",
     "text": [
      "<class 'pandas.core.frame.DataFrame'>\n",
      "RangeIndex: 3233 entries, 0 to 3232\n",
      "Data columns (total 7 columns):\n",
      " #   Column        Non-Null Count  Dtype \n",
      "---  ------        --------------  ----- \n",
      " 0   Name          3233 non-null   object\n",
      " 1   Season        3233 non-null   object\n",
      " 2   Injury        3233 non-null   object\n",
      " 3   from          3233 non-null   object\n",
      " 4   until         3233 non-null   object\n",
      " 5   Days          3233 non-null   object\n",
      " 6   Games missed  3233 non-null   object\n",
      "dtypes: object(7)\n",
      "memory usage: 176.9+ KB\n"
     ]
    }
   ],
   "source": [
    "raw_data_trans.info()"
   ]
  },
  {
   "cell_type": "markdown",
   "id": "7717e86c-913d-4bcf-9e28-9ef9ce92d315",
   "metadata": {},
   "source": [
    "The dataset appears to be well-maintained with no discernible issues, and there is no necessity to eliminate any columns or rows."
   ]
  },
  {
   "cell_type": "markdown",
   "id": "9b2836d6-c536-4a1b-975e-419966fdb905",
   "metadata": {},
   "source": [
    "**Field meanings**"
   ]
  },
  {
   "cell_type": "markdown",
   "id": "ef997efa-45d8-4dcf-9260-3608d6af8045",
   "metadata": {},
   "source": [
    "| Field           | Description                                                  |\n",
    "|-----------------|--------------------------------------------------------------|\n",
    "| **Name**        | The name of the player.                                      |\n",
    "| **Season**      | The season during which the injury occurred.                 |\n",
    "| **Injury**      | The type or nature of the injury sustained by the player.    |\n",
    "| **From**        | The date when the player suffered the injury.                |\n",
    "| **Until**       | The date when the player recovered from the injury.          |\n",
    "| **Days**        | The duration of the injury in days.                          |\n",
    "| **Games missed**| The number of games the player missed due to the injury.     |\n"
   ]
  },
  {
   "cell_type": "markdown",
   "id": "3676838a",
   "metadata": {},
   "source": [
    "**Reformating features and Adjusting data types**"
   ]
  },
  {
   "cell_type": "markdown",
   "id": "c04d63c2",
   "metadata": {},
   "source": [
    "- We need to change `Season` format to match the one of fbref data for later stage."
   ]
  },
  {
   "cell_type": "code",
   "execution_count": 33,
   "id": "aa48345e",
   "metadata": {
    "tags": []
   },
   "outputs": [
    {
     "name": "stdout",
     "output_type": "stream",
     "text": [
      "Season\n",
      "20/21    598\n",
      "21/22    508\n",
      "19/20    474\n",
      "18/19    460\n",
      "22/23    414\n",
      "17/18    201\n",
      "23/24    165\n",
      "16/17    156\n",
      "15/16    116\n",
      "14/15     85\n",
      "13/14     56\n",
      "Name: count, dtype: int64\n",
      "Total: 3233\n"
     ]
    }
   ],
   "source": [
    "seas_count = raw_data_trans['Season'].value_counts()\n",
    "print(seas_count)\n",
    "print(f\"Total: {seas_count.sum()}\")"
   ]
  },
  {
   "cell_type": "code",
   "execution_count": 34,
   "id": "7473b3c2",
   "metadata": {
    "tags": []
   },
   "outputs": [
    {
     "name": "stdout",
     "output_type": "stream",
     "text": [
      "Season\n",
      "2020-2021    598\n",
      "2021-2022    508\n",
      "2019-2020    474\n",
      "2018-2019    460\n",
      "2022-2023    414\n",
      "2017-2018    201\n",
      "2023-2024    165\n",
      "2016-2017    156\n",
      "2015-2016    116\n",
      "2014-2015     85\n",
      "2013-2014     56\n",
      "Name: count, dtype: int64\n",
      "Total: 3233\n"
     ]
    }
   ],
   "source": [
    "def format_trans_season (season):\n",
    "    if pd.notna(season):\n",
    "        year = season.split('/')\n",
    "        return f\"20{year[0]}-20{year[1]}\"\n",
    "    else:\n",
    "        return season\n",
    "raw_data_trans['Season'] = raw_data_trans['Season'].apply(format_trans_season)\n",
    "seas_count = raw_data_trans['Season'].value_counts()\n",
    "print(seas_count)\n",
    "print(f\"Total: {seas_count.sum()}\")"
   ]
  },
  {
   "cell_type": "markdown",
   "id": "e3f07520",
   "metadata": {},
   "source": [
    "- Adjusting `Days` format to int, and removing unnecessary 'days' string."
   ]
  },
  {
   "cell_type": "code",
   "execution_count": 35,
   "id": "c13b5c1c",
   "metadata": {
    "scrolled": true,
    "tags": []
   },
   "outputs": [
    {
     "data": {
      "text/plain": [
       "dtype('int64')"
      ]
     },
     "execution_count": 35,
     "metadata": {},
     "output_type": "execute_result"
    }
   ],
   "source": [
    "raw_data_trans  = raw_data_trans.copy()\n",
    "raw_data_trans['Days'] = raw_data_trans['Days'].str.split().str[0].astype('int64')\n",
    "raw_data_trans['Days'].dtypes"
   ]
  },
  {
   "cell_type": "markdown",
   "id": "6e73b809-4579-418e-8036-172f7a7920dc",
   "metadata": {},
   "source": [
    "**Processed data**"
   ]
  },
  {
   "cell_type": "code",
   "execution_count": 36,
   "id": "8396e3c2",
   "metadata": {
    "tags": []
   },
   "outputs": [
    {
     "data": {
      "text/html": [
       "<div>\n",
       "<style scoped>\n",
       "    .dataframe tbody tr th:only-of-type {\n",
       "        vertical-align: middle;\n",
       "    }\n",
       "\n",
       "    .dataframe tbody tr th {\n",
       "        vertical-align: top;\n",
       "    }\n",
       "\n",
       "    .dataframe thead th {\n",
       "        text-align: right;\n",
       "    }\n",
       "</style>\n",
       "<table border=\"1\" class=\"dataframe\">\n",
       "  <thead>\n",
       "    <tr style=\"text-align: right;\">\n",
       "      <th></th>\n",
       "      <th>Name</th>\n",
       "      <th>Season</th>\n",
       "      <th>Injury</th>\n",
       "      <th>from</th>\n",
       "      <th>until</th>\n",
       "      <th>Days</th>\n",
       "      <th>Games missed</th>\n",
       "    </tr>\n",
       "  </thead>\n",
       "  <tbody>\n",
       "    <tr>\n",
       "      <th>0</th>\n",
       "      <td>Ederson</td>\n",
       "      <td>2020-2021</td>\n",
       "      <td>Virus</td>\n",
       "      <td>Dec 27, 2020</td>\n",
       "      <td>Jan 12, 2021</td>\n",
       "      <td>16</td>\n",
       "      <td>3</td>\n",
       "    </tr>\n",
       "    <tr>\n",
       "      <th>1</th>\n",
       "      <td>Ederson</td>\n",
       "      <td>2019-2020</td>\n",
       "      <td>Ill</td>\n",
       "      <td>Dec 30, 2019</td>\n",
       "      <td>Jan 7, 2020</td>\n",
       "      <td>8</td>\n",
       "      <td>3</td>\n",
       "    </tr>\n",
       "    <tr>\n",
       "      <th>2</th>\n",
       "      <td>Ederson</td>\n",
       "      <td>2019-2020</td>\n",
       "      <td>Ill</td>\n",
       "      <td>Dec 8, 2019</td>\n",
       "      <td>Dec 14, 2019</td>\n",
       "      <td>6</td>\n",
       "      <td>1</td>\n",
       "    </tr>\n",
       "    <tr>\n",
       "      <th>3</th>\n",
       "      <td>Ederson</td>\n",
       "      <td>2019-2020</td>\n",
       "      <td>muscular problems</td>\n",
       "      <td>Nov 6, 2019</td>\n",
       "      <td>Nov 22, 2019</td>\n",
       "      <td>16</td>\n",
       "      <td>4</td>\n",
       "    </tr>\n",
       "    <tr>\n",
       "      <th>4</th>\n",
       "      <td>Ederson</td>\n",
       "      <td>2017-2018</td>\n",
       "      <td>Facial injury</td>\n",
       "      <td>Sep 10, 2017</td>\n",
       "      <td>Sep 12, 2017</td>\n",
       "      <td>2</td>\n",
       "      <td>-</td>\n",
       "    </tr>\n",
       "  </tbody>\n",
       "</table>\n",
       "</div>"
      ],
      "text/plain": [
       "      Name     Season             Injury          from         until  Days  \\\n",
       "0  Ederson  2020-2021              Virus  Dec 27, 2020  Jan 12, 2021    16   \n",
       "1  Ederson  2019-2020                Ill  Dec 30, 2019   Jan 7, 2020     8   \n",
       "2  Ederson  2019-2020                Ill   Dec 8, 2019  Dec 14, 2019     6   \n",
       "3  Ederson  2019-2020  muscular problems   Nov 6, 2019  Nov 22, 2019    16   \n",
       "4  Ederson  2017-2018      Facial injury  Sep 10, 2017  Sep 12, 2017     2   \n",
       "\n",
       "  Games missed  \n",
       "0            3  \n",
       "1            3  \n",
       "2            1  \n",
       "3            4  \n",
       "4            -  "
      ]
     },
     "execution_count": 36,
     "metadata": {},
     "output_type": "execute_result"
    }
   ],
   "source": [
    "processed_data_trans = raw_data_trans\n",
    "processed_data_trans.head()"
   ]
  },
  {
   "cell_type": "markdown",
   "id": "a885881e",
   "metadata": {},
   "source": [
    "## 3. Merging data"
   ]
  },
  {
   "cell_type": "markdown",
   "id": "4fc96106",
   "metadata": {},
   "source": [
    "**Merging 2 dataframes can help to attach additional informations for later stage**"
   ]
  },
  {
   "cell_type": "markdown",
   "id": "465abdef",
   "metadata": {},
   "source": [
    "There is a challenge where the names of players in two dataframes may not always match. Therefore, we require the assistance of a package called `fuzzywuzzy` to assess the similarity between two strings for merging purposes."
   ]
  },
  {
   "cell_type": "code",
   "execution_count": 37,
   "id": "0f46c7c5",
   "metadata": {
    "tags": []
   },
   "outputs": [],
   "source": [
    "# create a dictionary for matching names of 2 Name columns of 2 dataframes\n",
    "name_matches = {}\n",
    "fbref_name = processed_data_fbref['Name'].unique()\n",
    "trans_name = list(processed_data_trans['Name'].unique())\n",
    "\n",
    "for name in fbref_name:\n",
    "    if trans_name:\n",
    "        best_match, score = process.extractOne(name, trans_name,scorer = fuzz.token_set_ratio)\n",
    "        if score > 90:\n",
    "            name_matches[name] = best_match\n",
    "            trans_name.remove(best_match)\n",
    "        else:\n",
    "            name_matches[name] = name\n",
    "    else:\n",
    "        name_matches[name] = name\n",
    "\n",
    "\n",
    "processed_data_fbref['Name'] = processed_data_fbref['Name'].map(name_matches)\n",
    "\n",
    "# Merge based on both 'Name' and 'Season'\n",
    "merged_df = pd.merge(processed_data_fbref, processed_data_trans , left_on=['Name', 'Season'], right_on=['Name', 'Season'], how='left')"
   ]
  },
  {
   "cell_type": "code",
   "execution_count": 38,
   "id": "396e7471",
   "metadata": {
    "tags": []
   },
   "outputs": [
    {
     "data": {
      "text/plain": [
       "William Saliba         William Saliba\n",
       "Declan Rice               Declan Rice\n",
       "Bukayo Saka               Bukayo Saka\n",
       "Ben White                   Ben White\n",
       "Martin Ødegaard       Martin Ødegaard\n",
       "                           ...       \n",
       "Jack Cork                   Jack Cork\n",
       "Michael Obafemi       Michael Obafemi\n",
       "Hjalmar Ekdal           Hjalmar Ekdal\n",
       "Han-Noah Massengo    HanNoah Massengo\n",
       "Arijanet Muric         Arijanet Muric\n",
       "Length: 536, dtype: object"
      ]
     },
     "execution_count": 38,
     "metadata": {},
     "output_type": "execute_result"
    }
   ],
   "source": [
    "# matching names found\n",
    "pd.Series(name_matches)"
   ]
  },
  {
   "cell_type": "code",
   "execution_count": 40,
   "id": "904ee389",
   "metadata": {
    "tags": []
   },
   "outputs": [
    {
     "data": {
      "text/html": [
       "<div>\n",
       "<style scoped>\n",
       "    .dataframe tbody tr th:only-of-type {\n",
       "        vertical-align: middle;\n",
       "    }\n",
       "\n",
       "    .dataframe tbody tr th {\n",
       "        vertical-align: top;\n",
       "    }\n",
       "\n",
       "    .dataframe thead th {\n",
       "        text-align: right;\n",
       "    }\n",
       "</style>\n",
       "<table border=\"1\" class=\"dataframe\">\n",
       "  <thead>\n",
       "    <tr style=\"text-align: right;\">\n",
       "      <th></th>\n",
       "      <th>Name</th>\n",
       "      <th>Season</th>\n",
       "      <th>Age</th>\n",
       "      <th>Squad</th>\n",
       "      <th>Country</th>\n",
       "      <th>Comp</th>\n",
       "      <th>LgRank</th>\n",
       "      <th>MP</th>\n",
       "      <th>Starts</th>\n",
       "      <th>Min</th>\n",
       "      <th>90s</th>\n",
       "      <th>Gls</th>\n",
       "      <th>Ast</th>\n",
       "      <th>G+A</th>\n",
       "      <th>G-PK</th>\n",
       "      <th>PK</th>\n",
       "      <th>PKatt</th>\n",
       "      <th>CrdY</th>\n",
       "      <th>CrdR</th>\n",
       "      <th>xG</th>\n",
       "      <th>npxG</th>\n",
       "      <th>xAG</th>\n",
       "      <th>npxG+xAG</th>\n",
       "      <th>PrgC</th>\n",
       "      <th>PrgP</th>\n",
       "      <th>PrgR</th>\n",
       "      <th>Gls/90</th>\n",
       "      <th>Ast/90</th>\n",
       "      <th>G+A/90</th>\n",
       "      <th>G-PK/90</th>\n",
       "      <th>G+A-PK/90</th>\n",
       "      <th>xG/90</th>\n",
       "      <th>xAG/90</th>\n",
       "      <th>xG+xAG/90</th>\n",
       "      <th>npxG/90</th>\n",
       "      <th>npxG+xAG/90</th>\n",
       "      <th>Injury</th>\n",
       "      <th>from</th>\n",
       "      <th>until</th>\n",
       "      <th>Days</th>\n",
       "      <th>Games missed</th>\n",
       "    </tr>\n",
       "  </thead>\n",
       "  <tbody>\n",
       "    <tr>\n",
       "      <th>0</th>\n",
       "      <td>William Saliba</td>\n",
       "      <td>2018-2019</td>\n",
       "      <td>17</td>\n",
       "      <td>Saint-Étienne</td>\n",
       "      <td>FRA</td>\n",
       "      <td>Ligue 1</td>\n",
       "      <td>4</td>\n",
       "      <td>16</td>\n",
       "      <td>13</td>\n",
       "      <td>1277.0</td>\n",
       "      <td>14.2</td>\n",
       "      <td>0</td>\n",
       "      <td>0</td>\n",
       "      <td>0</td>\n",
       "      <td>0</td>\n",
       "      <td>0</td>\n",
       "      <td>0</td>\n",
       "      <td>1</td>\n",
       "      <td>0</td>\n",
       "      <td>0.3</td>\n",
       "      <td>0.3</td>\n",
       "      <td>0.0</td>\n",
       "      <td>0.3</td>\n",
       "      <td>7</td>\n",
       "      <td>21</td>\n",
       "      <td>4</td>\n",
       "      <td>0.00</td>\n",
       "      <td>0.0</td>\n",
       "      <td>0.00</td>\n",
       "      <td>0.00</td>\n",
       "      <td>0.00</td>\n",
       "      <td>0.02</td>\n",
       "      <td>0.00</td>\n",
       "      <td>0.02</td>\n",
       "      <td>0.02</td>\n",
       "      <td>0.02</td>\n",
       "      <td>Hamstring injury</td>\n",
       "      <td>May 23, 2019</td>\n",
       "      <td>Sep 28, 2019</td>\n",
       "      <td>128.0</td>\n",
       "      <td>22</td>\n",
       "    </tr>\n",
       "    <tr>\n",
       "      <th>1</th>\n",
       "      <td>William Saliba</td>\n",
       "      <td>2019-2020</td>\n",
       "      <td>18</td>\n",
       "      <td>Saint-Étienne</td>\n",
       "      <td>FRA</td>\n",
       "      <td>Ligue 1</td>\n",
       "      <td>17</td>\n",
       "      <td>12</td>\n",
       "      <td>11</td>\n",
       "      <td>992.0</td>\n",
       "      <td>11.0</td>\n",
       "      <td>0</td>\n",
       "      <td>0</td>\n",
       "      <td>0</td>\n",
       "      <td>0</td>\n",
       "      <td>0</td>\n",
       "      <td>0</td>\n",
       "      <td>0</td>\n",
       "      <td>0</td>\n",
       "      <td>0.2</td>\n",
       "      <td>0.2</td>\n",
       "      <td>0.1</td>\n",
       "      <td>0.3</td>\n",
       "      <td>20</td>\n",
       "      <td>33</td>\n",
       "      <td>7</td>\n",
       "      <td>0.00</td>\n",
       "      <td>0.0</td>\n",
       "      <td>0.00</td>\n",
       "      <td>0.00</td>\n",
       "      <td>0.00</td>\n",
       "      <td>0.02</td>\n",
       "      <td>0.01</td>\n",
       "      <td>0.03</td>\n",
       "      <td>0.02</td>\n",
       "      <td>0.03</td>\n",
       "      <td>Metatarsal fracture</td>\n",
       "      <td>Nov 4, 2019</td>\n",
       "      <td>Jan 20, 2020</td>\n",
       "      <td>77.0</td>\n",
       "      <td>19</td>\n",
       "    </tr>\n",
       "    <tr>\n",
       "      <th>2</th>\n",
       "      <td>William Saliba</td>\n",
       "      <td>2020-2021</td>\n",
       "      <td>19</td>\n",
       "      <td>Nice</td>\n",
       "      <td>FRA</td>\n",
       "      <td>Ligue 1</td>\n",
       "      <td>9</td>\n",
       "      <td>20</td>\n",
       "      <td>20</td>\n",
       "      <td>1800.0</td>\n",
       "      <td>20.0</td>\n",
       "      <td>1</td>\n",
       "      <td>0</td>\n",
       "      <td>1</td>\n",
       "      <td>1</td>\n",
       "      <td>0</td>\n",
       "      <td>0</td>\n",
       "      <td>2</td>\n",
       "      <td>0</td>\n",
       "      <td>0.8</td>\n",
       "      <td>0.8</td>\n",
       "      <td>0.0</td>\n",
       "      <td>0.9</td>\n",
       "      <td>36</td>\n",
       "      <td>106</td>\n",
       "      <td>3</td>\n",
       "      <td>0.05</td>\n",
       "      <td>0.0</td>\n",
       "      <td>0.05</td>\n",
       "      <td>0.05</td>\n",
       "      <td>0.05</td>\n",
       "      <td>0.04</td>\n",
       "      <td>0.00</td>\n",
       "      <td>0.04</td>\n",
       "      <td>0.04</td>\n",
       "      <td>0.04</td>\n",
       "      <td>NaN</td>\n",
       "      <td>NaN</td>\n",
       "      <td>NaN</td>\n",
       "      <td>NaN</td>\n",
       "      <td>NaN</td>\n",
       "    </tr>\n",
       "    <tr>\n",
       "      <th>3</th>\n",
       "      <td>William Saliba</td>\n",
       "      <td>2020-2021</td>\n",
       "      <td>19</td>\n",
       "      <td>Arsenal</td>\n",
       "      <td>ENG</td>\n",
       "      <td>Jr. PL2 -- Div. 1</td>\n",
       "      <td>10</td>\n",
       "      <td>6</td>\n",
       "      <td>6</td>\n",
       "      <td>526.0</td>\n",
       "      <td>5.8</td>\n",
       "      <td>0</td>\n",
       "      <td>0</td>\n",
       "      <td>0</td>\n",
       "      <td>0</td>\n",
       "      <td>0</td>\n",
       "      <td>0</td>\n",
       "      <td>1</td>\n",
       "      <td>0</td>\n",
       "      <td>NaN</td>\n",
       "      <td>NaN</td>\n",
       "      <td>NaN</td>\n",
       "      <td>NaN</td>\n",
       "      <td>0</td>\n",
       "      <td>0</td>\n",
       "      <td>0</td>\n",
       "      <td>0.00</td>\n",
       "      <td>0.0</td>\n",
       "      <td>0.00</td>\n",
       "      <td>0.00</td>\n",
       "      <td>0.00</td>\n",
       "      <td>NaN</td>\n",
       "      <td>NaN</td>\n",
       "      <td>NaN</td>\n",
       "      <td>NaN</td>\n",
       "      <td>NaN</td>\n",
       "      <td>NaN</td>\n",
       "      <td>NaN</td>\n",
       "      <td>NaN</td>\n",
       "      <td>NaN</td>\n",
       "      <td>NaN</td>\n",
       "    </tr>\n",
       "    <tr>\n",
       "      <th>4</th>\n",
       "      <td>William Saliba</td>\n",
       "      <td>2021-2022</td>\n",
       "      <td>20</td>\n",
       "      <td>Marseille</td>\n",
       "      <td>FRA</td>\n",
       "      <td>Ligue 1</td>\n",
       "      <td>2</td>\n",
       "      <td>36</td>\n",
       "      <td>36</td>\n",
       "      <td>3240.0</td>\n",
       "      <td>36.0</td>\n",
       "      <td>0</td>\n",
       "      <td>0</td>\n",
       "      <td>0</td>\n",
       "      <td>0</td>\n",
       "      <td>0</td>\n",
       "      <td>0</td>\n",
       "      <td>5</td>\n",
       "      <td>0</td>\n",
       "      <td>1.7</td>\n",
       "      <td>1.7</td>\n",
       "      <td>0.4</td>\n",
       "      <td>2.1</td>\n",
       "      <td>50</td>\n",
       "      <td>220</td>\n",
       "      <td>14</td>\n",
       "      <td>0.00</td>\n",
       "      <td>0.0</td>\n",
       "      <td>0.00</td>\n",
       "      <td>0.00</td>\n",
       "      <td>0.00</td>\n",
       "      <td>0.05</td>\n",
       "      <td>0.01</td>\n",
       "      <td>0.06</td>\n",
       "      <td>0.05</td>\n",
       "      <td>0.06</td>\n",
       "      <td>NaN</td>\n",
       "      <td>NaN</td>\n",
       "      <td>NaN</td>\n",
       "      <td>NaN</td>\n",
       "      <td>NaN</td>\n",
       "    </tr>\n",
       "    <tr>\n",
       "      <th>...</th>\n",
       "      <td>...</td>\n",
       "      <td>...</td>\n",
       "      <td>...</td>\n",
       "      <td>...</td>\n",
       "      <td>...</td>\n",
       "      <td>...</td>\n",
       "      <td>...</td>\n",
       "      <td>...</td>\n",
       "      <td>...</td>\n",
       "      <td>...</td>\n",
       "      <td>...</td>\n",
       "      <td>...</td>\n",
       "      <td>...</td>\n",
       "      <td>...</td>\n",
       "      <td>...</td>\n",
       "      <td>...</td>\n",
       "      <td>...</td>\n",
       "      <td>...</td>\n",
       "      <td>...</td>\n",
       "      <td>...</td>\n",
       "      <td>...</td>\n",
       "      <td>...</td>\n",
       "      <td>...</td>\n",
       "      <td>...</td>\n",
       "      <td>...</td>\n",
       "      <td>...</td>\n",
       "      <td>...</td>\n",
       "      <td>...</td>\n",
       "      <td>...</td>\n",
       "      <td>...</td>\n",
       "      <td>...</td>\n",
       "      <td>...</td>\n",
       "      <td>...</td>\n",
       "      <td>...</td>\n",
       "      <td>...</td>\n",
       "      <td>...</td>\n",
       "      <td>...</td>\n",
       "      <td>...</td>\n",
       "      <td>...</td>\n",
       "      <td>...</td>\n",
       "      <td>...</td>\n",
       "    </tr>\n",
       "    <tr>\n",
       "      <th>6002</th>\n",
       "      <td>Arijanet Muric</td>\n",
       "      <td>2020-2021</td>\n",
       "      <td>21</td>\n",
       "      <td>Girona</td>\n",
       "      <td>ESP</td>\n",
       "      <td>Segunda Division</td>\n",
       "      <td>5</td>\n",
       "      <td>2</td>\n",
       "      <td>2</td>\n",
       "      <td>180.0</td>\n",
       "      <td>2.0</td>\n",
       "      <td>0</td>\n",
       "      <td>0</td>\n",
       "      <td>0</td>\n",
       "      <td>0</td>\n",
       "      <td>0</td>\n",
       "      <td>0</td>\n",
       "      <td>0</td>\n",
       "      <td>0</td>\n",
       "      <td>0.0</td>\n",
       "      <td>0.0</td>\n",
       "      <td>0.0</td>\n",
       "      <td>0.0</td>\n",
       "      <td>0</td>\n",
       "      <td>0</td>\n",
       "      <td>0</td>\n",
       "      <td>0.00</td>\n",
       "      <td>0.0</td>\n",
       "      <td>0.00</td>\n",
       "      <td>0.00</td>\n",
       "      <td>0.00</td>\n",
       "      <td>0.00</td>\n",
       "      <td>0.00</td>\n",
       "      <td>0.00</td>\n",
       "      <td>0.00</td>\n",
       "      <td>0.00</td>\n",
       "      <td>Muscle injury</td>\n",
       "      <td>Oct 20, 2020</td>\n",
       "      <td>Nov 10, 2020</td>\n",
       "      <td>21.0</td>\n",
       "      <td>6</td>\n",
       "    </tr>\n",
       "    <tr>\n",
       "      <th>6003</th>\n",
       "      <td>Arijanet Muric</td>\n",
       "      <td>2020-2021</td>\n",
       "      <td>21</td>\n",
       "      <td>Willem II</td>\n",
       "      <td>NED</td>\n",
       "      <td>Eredivisie</td>\n",
       "      <td>14</td>\n",
       "      <td>14</td>\n",
       "      <td>14</td>\n",
       "      <td>1260.0</td>\n",
       "      <td>14.0</td>\n",
       "      <td>0</td>\n",
       "      <td>0</td>\n",
       "      <td>0</td>\n",
       "      <td>0</td>\n",
       "      <td>0</td>\n",
       "      <td>0</td>\n",
       "      <td>1</td>\n",
       "      <td>0</td>\n",
       "      <td>0.0</td>\n",
       "      <td>0.0</td>\n",
       "      <td>0.0</td>\n",
       "      <td>0.0</td>\n",
       "      <td>0</td>\n",
       "      <td>0</td>\n",
       "      <td>0</td>\n",
       "      <td>0.00</td>\n",
       "      <td>0.0</td>\n",
       "      <td>0.00</td>\n",
       "      <td>0.00</td>\n",
       "      <td>0.00</td>\n",
       "      <td>0.00</td>\n",
       "      <td>0.00</td>\n",
       "      <td>0.00</td>\n",
       "      <td>0.00</td>\n",
       "      <td>0.00</td>\n",
       "      <td>Muscle injury</td>\n",
       "      <td>Oct 20, 2020</td>\n",
       "      <td>Nov 10, 2020</td>\n",
       "      <td>21.0</td>\n",
       "      <td>6</td>\n",
       "    </tr>\n",
       "    <tr>\n",
       "      <th>6004</th>\n",
       "      <td>Arijanet Muric</td>\n",
       "      <td>2021-2022</td>\n",
       "      <td>22</td>\n",
       "      <td>Adana Demirspor</td>\n",
       "      <td>TUR</td>\n",
       "      <td>Super Lig</td>\n",
       "      <td>9</td>\n",
       "      <td>31</td>\n",
       "      <td>31</td>\n",
       "      <td>2778.0</td>\n",
       "      <td>30.9</td>\n",
       "      <td>0</td>\n",
       "      <td>0</td>\n",
       "      <td>0</td>\n",
       "      <td>0</td>\n",
       "      <td>0</td>\n",
       "      <td>0</td>\n",
       "      <td>3</td>\n",
       "      <td>0</td>\n",
       "      <td>NaN</td>\n",
       "      <td>NaN</td>\n",
       "      <td>NaN</td>\n",
       "      <td>NaN</td>\n",
       "      <td>0</td>\n",
       "      <td>0</td>\n",
       "      <td>0</td>\n",
       "      <td>0.00</td>\n",
       "      <td>0.0</td>\n",
       "      <td>0.00</td>\n",
       "      <td>0.00</td>\n",
       "      <td>0.00</td>\n",
       "      <td>NaN</td>\n",
       "      <td>NaN</td>\n",
       "      <td>NaN</td>\n",
       "      <td>NaN</td>\n",
       "      <td>NaN</td>\n",
       "      <td>Head injury</td>\n",
       "      <td>Feb 6, 2022</td>\n",
       "      <td>Feb 11, 2022</td>\n",
       "      <td>5.0</td>\n",
       "      <td>2</td>\n",
       "    </tr>\n",
       "    <tr>\n",
       "      <th>6005</th>\n",
       "      <td>Arijanet Muric</td>\n",
       "      <td>2022-2023</td>\n",
       "      <td>23</td>\n",
       "      <td>Burnley</td>\n",
       "      <td>ENG</td>\n",
       "      <td>Championship</td>\n",
       "      <td>1</td>\n",
       "      <td>41</td>\n",
       "      <td>41</td>\n",
       "      <td>3614.0</td>\n",
       "      <td>40.2</td>\n",
       "      <td>0</td>\n",
       "      <td>0</td>\n",
       "      <td>0</td>\n",
       "      <td>0</td>\n",
       "      <td>0</td>\n",
       "      <td>0</td>\n",
       "      <td>3</td>\n",
       "      <td>0</td>\n",
       "      <td>0.0</td>\n",
       "      <td>0.0</td>\n",
       "      <td>0.2</td>\n",
       "      <td>0.2</td>\n",
       "      <td>0</td>\n",
       "      <td>6</td>\n",
       "      <td>0</td>\n",
       "      <td>0.00</td>\n",
       "      <td>0.0</td>\n",
       "      <td>0.00</td>\n",
       "      <td>0.00</td>\n",
       "      <td>0.00</td>\n",
       "      <td>0.00</td>\n",
       "      <td>0.00</td>\n",
       "      <td>0.00</td>\n",
       "      <td>0.00</td>\n",
       "      <td>0.00</td>\n",
       "      <td>NaN</td>\n",
       "      <td>NaN</td>\n",
       "      <td>NaN</td>\n",
       "      <td>NaN</td>\n",
       "      <td>NaN</td>\n",
       "    </tr>\n",
       "    <tr>\n",
       "      <th>6006</th>\n",
       "      <td>Arijanet Muric</td>\n",
       "      <td>2023-2024</td>\n",
       "      <td>24</td>\n",
       "      <td>Burnley</td>\n",
       "      <td>ENG</td>\n",
       "      <td>Premier League</td>\n",
       "      <td>20</td>\n",
       "      <td>0</td>\n",
       "      <td>0</td>\n",
       "      <td>NaN</td>\n",
       "      <td>NaN</td>\n",
       "      <td>0</td>\n",
       "      <td>0</td>\n",
       "      <td>0</td>\n",
       "      <td>0</td>\n",
       "      <td>0</td>\n",
       "      <td>0</td>\n",
       "      <td>0</td>\n",
       "      <td>0</td>\n",
       "      <td>NaN</td>\n",
       "      <td>NaN</td>\n",
       "      <td>NaN</td>\n",
       "      <td>NaN</td>\n",
       "      <td>0</td>\n",
       "      <td>0</td>\n",
       "      <td>0</td>\n",
       "      <td>NaN</td>\n",
       "      <td>NaN</td>\n",
       "      <td>NaN</td>\n",
       "      <td>NaN</td>\n",
       "      <td>NaN</td>\n",
       "      <td>NaN</td>\n",
       "      <td>NaN</td>\n",
       "      <td>NaN</td>\n",
       "      <td>NaN</td>\n",
       "      <td>NaN</td>\n",
       "      <td>NaN</td>\n",
       "      <td>NaN</td>\n",
       "      <td>NaN</td>\n",
       "      <td>NaN</td>\n",
       "      <td>NaN</td>\n",
       "    </tr>\n",
       "  </tbody>\n",
       "</table>\n",
       "<p>6007 rows × 41 columns</p>\n",
       "</div>"
      ],
      "text/plain": [
       "                Name     Season  Age            Squad Country  \\\n",
       "0     William Saliba  2018-2019   17    Saint-Étienne     FRA   \n",
       "1     William Saliba  2019-2020   18    Saint-Étienne     FRA   \n",
       "2     William Saliba  2020-2021   19             Nice     FRA   \n",
       "3     William Saliba  2020-2021   19          Arsenal     ENG   \n",
       "4     William Saliba  2021-2022   20        Marseille     FRA   \n",
       "...              ...        ...  ...              ...     ...   \n",
       "6002  Arijanet Muric  2020-2021   21           Girona     ESP   \n",
       "6003  Arijanet Muric  2020-2021   21        Willem II     NED   \n",
       "6004  Arijanet Muric  2021-2022   22  Adana Demirspor     TUR   \n",
       "6005  Arijanet Muric  2022-2023   23          Burnley     ENG   \n",
       "6006  Arijanet Muric  2023-2024   24          Burnley     ENG   \n",
       "\n",
       "                   Comp  LgRank  MP  Starts     Min   90s  Gls  Ast  G+A  \\\n",
       "0               Ligue 1       4  16      13  1277.0  14.2    0    0    0   \n",
       "1               Ligue 1      17  12      11   992.0  11.0    0    0    0   \n",
       "2               Ligue 1       9  20      20  1800.0  20.0    1    0    1   \n",
       "3     Jr. PL2 -- Div. 1      10   6       6   526.0   5.8    0    0    0   \n",
       "4               Ligue 1       2  36      36  3240.0  36.0    0    0    0   \n",
       "...                 ...     ...  ..     ...     ...   ...  ...  ...  ...   \n",
       "6002   Segunda Division       5   2       2   180.0   2.0    0    0    0   \n",
       "6003         Eredivisie      14  14      14  1260.0  14.0    0    0    0   \n",
       "6004          Super Lig       9  31      31  2778.0  30.9    0    0    0   \n",
       "6005       Championship       1  41      41  3614.0  40.2    0    0    0   \n",
       "6006     Premier League      20   0       0     NaN   NaN    0    0    0   \n",
       "\n",
       "      G-PK  PK  PKatt  CrdY  CrdR   xG  npxG  xAG  npxG+xAG  PrgC  PrgP  PrgR  \\\n",
       "0        0   0      0     1     0  0.3   0.3  0.0       0.3     7    21     4   \n",
       "1        0   0      0     0     0  0.2   0.2  0.1       0.3    20    33     7   \n",
       "2        1   0      0     2     0  0.8   0.8  0.0       0.9    36   106     3   \n",
       "3        0   0      0     1     0  NaN   NaN  NaN       NaN     0     0     0   \n",
       "4        0   0      0     5     0  1.7   1.7  0.4       2.1    50   220    14   \n",
       "...    ...  ..    ...   ...   ...  ...   ...  ...       ...   ...   ...   ...   \n",
       "6002     0   0      0     0     0  0.0   0.0  0.0       0.0     0     0     0   \n",
       "6003     0   0      0     1     0  0.0   0.0  0.0       0.0     0     0     0   \n",
       "6004     0   0      0     3     0  NaN   NaN  NaN       NaN     0     0     0   \n",
       "6005     0   0      0     3     0  0.0   0.0  0.2       0.2     0     6     0   \n",
       "6006     0   0      0     0     0  NaN   NaN  NaN       NaN     0     0     0   \n",
       "\n",
       "      Gls/90  Ast/90  G+A/90  G-PK/90  G+A-PK/90  xG/90  xAG/90  xG+xAG/90  \\\n",
       "0       0.00     0.0    0.00     0.00       0.00   0.02    0.00       0.02   \n",
       "1       0.00     0.0    0.00     0.00       0.00   0.02    0.01       0.03   \n",
       "2       0.05     0.0    0.05     0.05       0.05   0.04    0.00       0.04   \n",
       "3       0.00     0.0    0.00     0.00       0.00    NaN     NaN        NaN   \n",
       "4       0.00     0.0    0.00     0.00       0.00   0.05    0.01       0.06   \n",
       "...      ...     ...     ...      ...        ...    ...     ...        ...   \n",
       "6002    0.00     0.0    0.00     0.00       0.00   0.00    0.00       0.00   \n",
       "6003    0.00     0.0    0.00     0.00       0.00   0.00    0.00       0.00   \n",
       "6004    0.00     0.0    0.00     0.00       0.00    NaN     NaN        NaN   \n",
       "6005    0.00     0.0    0.00     0.00       0.00   0.00    0.00       0.00   \n",
       "6006     NaN     NaN     NaN      NaN        NaN    NaN     NaN        NaN   \n",
       "\n",
       "      npxG/90  npxG+xAG/90               Injury          from         until  \\\n",
       "0        0.02         0.02     Hamstring injury  May 23, 2019  Sep 28, 2019   \n",
       "1        0.02         0.03  Metatarsal fracture   Nov 4, 2019  Jan 20, 2020   \n",
       "2        0.04         0.04                  NaN           NaN           NaN   \n",
       "3         NaN          NaN                  NaN           NaN           NaN   \n",
       "4        0.05         0.06                  NaN           NaN           NaN   \n",
       "...       ...          ...                  ...           ...           ...   \n",
       "6002     0.00         0.00        Muscle injury  Oct 20, 2020  Nov 10, 2020   \n",
       "6003     0.00         0.00        Muscle injury  Oct 20, 2020  Nov 10, 2020   \n",
       "6004      NaN          NaN          Head injury   Feb 6, 2022  Feb 11, 2022   \n",
       "6005     0.00         0.00                  NaN           NaN           NaN   \n",
       "6006      NaN          NaN                  NaN           NaN           NaN   \n",
       "\n",
       "       Days Games missed  \n",
       "0     128.0           22  \n",
       "1      77.0           19  \n",
       "2       NaN          NaN  \n",
       "3       NaN          NaN  \n",
       "4       NaN          NaN  \n",
       "...     ...          ...  \n",
       "6002   21.0            6  \n",
       "6003   21.0            6  \n",
       "6004    5.0            2  \n",
       "6005    NaN          NaN  \n",
       "6006    NaN          NaN  \n",
       "\n",
       "[6007 rows x 41 columns]"
      ]
     },
     "execution_count": 40,
     "metadata": {},
     "output_type": "execute_result"
    }
   ],
   "source": [
    "merged_df"
   ]
  },
  {
   "cell_type": "markdown",
   "id": "15082173",
   "metadata": {},
   "source": [
    "**Check if merging is correct**"
   ]
  },
  {
   "cell_type": "code",
   "execution_count": 42,
   "id": "10d6f6f3",
   "metadata": {
    "tags": []
   },
   "outputs": [],
   "source": [
    "assert len(processed_data_fbref['Name'].unique()) == len(name_matches.keys())\n",
    "assert len(merged_df['Season'].unique()) == len(processed_data_fbref['Season'].unique())"
   ]
  },
  {
   "cell_type": "markdown",
   "id": "4df1adf5-50a6-45f2-85d4-747a8c3a95c0",
   "metadata": {},
   "source": [
    "## 4. Save processed data"
   ]
  },
  {
   "cell_type": "code",
   "execution_count": 43,
   "id": "7e602729-5d10-4cd5-a21d-942095ef4fa1",
   "metadata": {
    "tags": []
   },
   "outputs": [],
   "source": [
    "# save data to processed data folder\n",
    "merged_df.to_csv('../../data/processed/processed_fb_data.csv', index=False, encoding='utf-8')"
   ]
  }
 ],
 "metadata": {
  "kernelspec": {
   "display_name": "Python 3 (ipykernel)",
   "language": "python",
   "name": "python3"
  },
  "language_info": {
   "codemirror_mode": {
    "name": "ipython",
    "version": 3
   },
   "file_extension": ".py",
   "mimetype": "text/x-python",
   "name": "python",
   "nbconvert_exporter": "python",
   "pygments_lexer": "ipython3",
   "version": "3.9.18"
  }
 },
 "nbformat": 4,
 "nbformat_minor": 5
}
