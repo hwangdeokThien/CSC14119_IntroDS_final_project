{
 "cells": [
  {
   "cell_type": "markdown",
   "id": "ee3597a4-8ec5-4d35-879e-8c8c5721ef90",
   "metadata": {},
   "source": [
    "<div style=\"text-align: center; background-color: #0A6EBD; font-family: 'Trebuchet MS', Arial, sans-serif; color: white; padding: 20px; font-size: 40px; font-weight: bold; border-radius: 0 0 0 0; box-shadow: 0px 6px 8px rgba(0, 0, 0, 0.2);\">\n",
    "    FIT-HCMUS, VNU-HCM \n",
    "    <br>\n",
    "    Introduction To Data Science \n",
    "    <br>\n",
    "    Final project 📌\n",
    "</div>"
   ]
  },
  {
   "cell_type": "markdown",
   "id": "1480d656-a992-4d9d-82f0-a1c3b1d53ae7",
   "metadata": {},
   "source": [
    "<div style=\"text-align: center; background-color: #5A96E3; font-family: 'Trebuchet MS', Arial, sans-serif; color: white; padding: 20px; font-size: 40px; font-weight: bold; border-radius: 0 0 0 0; box-shadow: 0px 6px 8px rgba(0, 0, 0, 0.2);\">\n",
    "  Stage 01 - Data collecting 📌\n",
    "</div>"
   ]
  },
  {
   "cell_type": "markdown",
   "id": "1da36331-6ea0-4891-8ef5-e079e7eb2c99",
   "metadata": {
    "tags": []
   },
   "source": [
    "## 1. Data source\n",
    "\n",
    "Data sources we collected for this project include:\n",
    "- ... **TODO** list out some links of source and give bried description description (include where, why and what is that data; and what kind of crawling we use - html parse or api,..etc)"
   ]
  },
  {
   "cell_type": "markdown",
   "id": "211782b7-5272-4088-b3f2-3fc3a0caa910",
   "metadata": {},
   "source": [
    "***MAYBE***\n",
    "\n",
    "explain something about data"
   ]
  },
  {
   "cell_type": "markdown",
   "id": "d14da7e9-e364-427e-9cc5-c01006cd4e09",
   "metadata": {},
   "source": [
    "## 2. Set up enviroment"
   ]
  },
  {
   "cell_type": "code",
   "execution_count": 1,
   "id": "4c6b5c43-c8d2-445d-a3f9-638326a3f66c",
   "metadata": {
    "tags": []
   },
   "outputs": [],
   "source": [
    "import numpy as np\n",
    "import pandas as pd\n",
    "\n",
    "\n",
    "# import more if nessesary"
   ]
  },
  {
   "cell_type": "markdown",
   "id": "4fd2e55a-2226-4ea1-9e6a-b45319d374a8",
   "metadata": {},
   "source": [
    "## 3. Crawl data"
   ]
  },
  {
   "cell_type": "code",
   "execution_count": 2,
   "id": "4b9e3f51-67e2-4254-bedd-85eef66d575a",
   "metadata": {
    "tags": []
   },
   "outputs": [],
   "source": [
    "## TODO\n",
    "## create more cells and explain code briefly"
   ]
  },
  {
   "cell_type": "markdown",
   "id": "d4c48b13-a36d-4891-ab87-918df8f0241a",
   "metadata": {},
   "source": [
    "## 4. Clean and save data"
   ]
  },
  {
   "cell_type": "code",
   "execution_count": 3,
   "id": "3ddb3330-0d08-44c8-9ee3-981542679e15",
   "metadata": {
    "tags": []
   },
   "outputs": [],
   "source": [
    "## TODO\n",
    "## do some cleaning if needed :3 and save to data folder nhen"
   ]
  }
 ],
 "metadata": {
  "kernelspec": {
   "display_name": "Python 3 (ipykernel)",
   "language": "python",
   "name": "python3"
  },
  "language_info": {
   "codemirror_mode": {
    "name": "ipython",
    "version": 3
   },
   "file_extension": ".py",
   "mimetype": "text/x-python",
   "name": "python",
   "nbconvert_exporter": "python",
   "pygments_lexer": "ipython3",
   "version": "3.9.18"
  }
 },
 "nbformat": 4,
 "nbformat_minor": 5
}
