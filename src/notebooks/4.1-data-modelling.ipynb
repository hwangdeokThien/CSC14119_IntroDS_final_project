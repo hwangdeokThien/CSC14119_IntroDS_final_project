{
 "cells": [
  {
   "cell_type": "markdown",
   "metadata": {},
   "source": [
    "<div style=\"text-align: center; background-color: #0A6EBD; font-family: 'Trebuchet MS', Arial, sans-serif; color: white; padding: 20px; font-size: 40px; font-weight: bold; border-radius: 0 0 0 0; box-shadow: 0px 6px 8px rgba(0, 0, 0, 0.2);\">\n",
    "    FIT-HCMUS, VNU-HCM \n",
    "    <br>\n",
    "    Introduction To Data Science \n",
    "    <br>\n",
    "    Final project 📌\n",
    "</div>"
   ]
  },
  {
   "cell_type": "markdown",
   "metadata": {},
   "source": [
    "<div style=\"text-align: center; background-color: #5A96E3; font-family: 'Trebuchet MS', Arial, sans-serif; color: white; padding: 20px; font-size: 40px; font-weight: bold; border-radius: 0 0 0 0; box-shadow: 0px 6px 8px rgba(0, 0, 0, 0.2);\">\n",
    "  Stage 04 - Data Modelling 📌\n",
    "</div>"
   ]
  },
  {
   "cell_type": "markdown",
   "metadata": {},
   "source": [
    "##  Problem statement\n"
   ]
  },
  {
   "cell_type": "markdown",
   "metadata": {},
   "source": [
    "- **Stating problem**: In the realm of professional football, accurately assessing and predicting a player's performance remains a challenging task. Coaches, managers, and scouts often rely on subjective evaluations and historical data, but there is a growing need for a more sophisticated and data-driven approach to player performance prediction. To address this gap, the problem at hand is to develop a robust predictive model that can accurately forecast the performance of a football player based on various factors, including but not limited to fitness levels, historical performance stats, injury history and situational context.\n",
    "- **Purposes/benefits** of solving the problem:\n",
    "    - Successful predictive model would revolutionize the player recruitment process, allowing teams to identify talent more efficiently. By evaluating the potential performance of players based on objective data, teams can make more informed decisions in the transfer market, minimizing risks and maximizing the likelihood of acquiring valuable assets.\n",
    "    - Coaches can leverage the predictive model to tailor their strategies and game plans based on the expected performance of individual players. This can lead to more effective and adaptive team strategies, optimizing player positions, substitutions, and tactical approaches during matches.\n",
    "    - The model's insights can be used by coaches and sports scientists to design personalized training programs for players. Tailoring training regimens based on predicted performance metrics can contribute to individual player development and overall team improvement.\n",
    "- **Approach**: In this section, we explore the application of three different models to address this problem, including `Ridge Linear Regression`, `Random Forest`, `Neural Network`. A final comparison of the results will be conducted to determine the most suitable model for solving this particular problem."
   ]
  },
  {
   "cell_type": "markdown",
   "metadata": {},
   "source": [
    "## Set up enviroment"
   ]
  },
  {
   "cell_type": "code",
   "execution_count": 45,
   "metadata": {
    "tags": []
   },
   "outputs": [],
   "source": [
    "import pandas as pd\n",
    "import numpy as np\n",
    "import matplotlib.pyplot as plt\n",
    "import seaborn as sns\n",
    "\n",
    "from sklearn.model_selection import train_test_split\n",
    "from sklearn.ensemble import RandomForestRegressor\n",
    "from sklearn.datasets import make_regression\n",
    "import time\n",
    "from sklearn.model_selection import RandomizedSearchCV,GridSearchCV\n",
    "from sklearn.metrics import mean_squared_error, mean_absolute_error, r2_score\n",
    "from sklearn.linear_model import Ridge\n",
    "from sklearn.feature_selection import SequentialFeatureSelector"
   ]
  },
  {
   "cell_type": "markdown",
   "metadata": {
    "tags": []
   },
   "source": [
    "## Data preparation"
   ]
  },
  {
   "cell_type": "markdown",
   "metadata": {},
   "source": [
    "**reading data**"
   ]
  },
  {
   "cell_type": "code",
   "execution_count": 46,
   "metadata": {
    "tags": []
   },
   "outputs": [
    {
     "data": {
      "text/html": [
       "<div>\n",
       "<style scoped>\n",
       "    .dataframe tbody tr th:only-of-type {\n",
       "        vertical-align: middle;\n",
       "    }\n",
       "\n",
       "    .dataframe tbody tr th {\n",
       "        vertical-align: top;\n",
       "    }\n",
       "\n",
       "    .dataframe thead th {\n",
       "        text-align: right;\n",
       "    }\n",
       "</style>\n",
       "<table border=\"1\" class=\"dataframe\">\n",
       "  <thead>\n",
       "    <tr style=\"text-align: right;\">\n",
       "      <th></th>\n",
       "      <th>Age</th>\n",
       "      <th>LgRank</th>\n",
       "      <th>MP</th>\n",
       "      <th>Starts</th>\n",
       "      <th>Min</th>\n",
       "      <th>90s</th>\n",
       "      <th>Gls</th>\n",
       "      <th>Ast</th>\n",
       "      <th>G+A</th>\n",
       "      <th>G-PK</th>\n",
       "      <th>...</th>\n",
       "      <th>npxG+xAG/90</th>\n",
       "      <th>Injury</th>\n",
       "      <th>Days</th>\n",
       "      <th>Games missed</th>\n",
       "      <th>Position_DF</th>\n",
       "      <th>Position_FW</th>\n",
       "      <th>Position_MF</th>\n",
       "      <th>PreferredFoot_ Both</th>\n",
       "      <th>PreferredFoot_ Left</th>\n",
       "      <th>PreferredFoot_ Right</th>\n",
       "    </tr>\n",
       "  </thead>\n",
       "  <tbody>\n",
       "    <tr>\n",
       "      <th>0</th>\n",
       "      <td>17</td>\n",
       "      <td>4</td>\n",
       "      <td>16</td>\n",
       "      <td>13</td>\n",
       "      <td>1277</td>\n",
       "      <td>14.2</td>\n",
       "      <td>0</td>\n",
       "      <td>0</td>\n",
       "      <td>0</td>\n",
       "      <td>0</td>\n",
       "      <td>...</td>\n",
       "      <td>0.020000</td>\n",
       "      <td>1</td>\n",
       "      <td>128.0</td>\n",
       "      <td>22.0</td>\n",
       "      <td>1</td>\n",
       "      <td>0</td>\n",
       "      <td>0</td>\n",
       "      <td>0</td>\n",
       "      <td>0</td>\n",
       "      <td>1</td>\n",
       "    </tr>\n",
       "    <tr>\n",
       "      <th>1</th>\n",
       "      <td>18</td>\n",
       "      <td>17</td>\n",
       "      <td>12</td>\n",
       "      <td>11</td>\n",
       "      <td>992</td>\n",
       "      <td>11.0</td>\n",
       "      <td>0</td>\n",
       "      <td>0</td>\n",
       "      <td>0</td>\n",
       "      <td>0</td>\n",
       "      <td>...</td>\n",
       "      <td>0.030000</td>\n",
       "      <td>1</td>\n",
       "      <td>77.0</td>\n",
       "      <td>19.0</td>\n",
       "      <td>1</td>\n",
       "      <td>0</td>\n",
       "      <td>0</td>\n",
       "      <td>0</td>\n",
       "      <td>0</td>\n",
       "      <td>1</td>\n",
       "    </tr>\n",
       "    <tr>\n",
       "      <th>2</th>\n",
       "      <td>19</td>\n",
       "      <td>9</td>\n",
       "      <td>26</td>\n",
       "      <td>26</td>\n",
       "      <td>2326</td>\n",
       "      <td>12.9</td>\n",
       "      <td>1</td>\n",
       "      <td>0</td>\n",
       "      <td>1</td>\n",
       "      <td>1</td>\n",
       "      <td>...</td>\n",
       "      <td>0.088306</td>\n",
       "      <td>0</td>\n",
       "      <td>0.0</td>\n",
       "      <td>0.0</td>\n",
       "      <td>1</td>\n",
       "      <td>0</td>\n",
       "      <td>0</td>\n",
       "      <td>0</td>\n",
       "      <td>0</td>\n",
       "      <td>1</td>\n",
       "    </tr>\n",
       "    <tr>\n",
       "      <th>3</th>\n",
       "      <td>19</td>\n",
       "      <td>10</td>\n",
       "      <td>26</td>\n",
       "      <td>26</td>\n",
       "      <td>2326</td>\n",
       "      <td>12.9</td>\n",
       "      <td>1</td>\n",
       "      <td>0</td>\n",
       "      <td>1</td>\n",
       "      <td>1</td>\n",
       "      <td>...</td>\n",
       "      <td>0.088306</td>\n",
       "      <td>0</td>\n",
       "      <td>0.0</td>\n",
       "      <td>0.0</td>\n",
       "      <td>1</td>\n",
       "      <td>0</td>\n",
       "      <td>0</td>\n",
       "      <td>0</td>\n",
       "      <td>0</td>\n",
       "      <td>1</td>\n",
       "    </tr>\n",
       "    <tr>\n",
       "      <th>4</th>\n",
       "      <td>20</td>\n",
       "      <td>2</td>\n",
       "      <td>36</td>\n",
       "      <td>36</td>\n",
       "      <td>3240</td>\n",
       "      <td>36.0</td>\n",
       "      <td>0</td>\n",
       "      <td>0</td>\n",
       "      <td>0</td>\n",
       "      <td>0</td>\n",
       "      <td>...</td>\n",
       "      <td>0.060000</td>\n",
       "      <td>0</td>\n",
       "      <td>0.0</td>\n",
       "      <td>0.0</td>\n",
       "      <td>1</td>\n",
       "      <td>0</td>\n",
       "      <td>0</td>\n",
       "      <td>0</td>\n",
       "      <td>0</td>\n",
       "      <td>1</td>\n",
       "    </tr>\n",
       "  </tbody>\n",
       "</table>\n",
       "<p>5 rows × 40 columns</p>\n",
       "</div>"
      ],
      "text/plain": [
       "   Age  LgRank  MP  Starts   Min   90s  Gls  Ast  G+A  G-PK  ...  npxG+xAG/90  \\\n",
       "0   17       4  16      13  1277  14.2    0    0    0     0  ...     0.020000   \n",
       "1   18      17  12      11   992  11.0    0    0    0     0  ...     0.030000   \n",
       "2   19       9  26      26  2326  12.9    1    0    1     1  ...     0.088306   \n",
       "3   19      10  26      26  2326  12.9    1    0    1     1  ...     0.088306   \n",
       "4   20       2  36      36  3240  36.0    0    0    0     0  ...     0.060000   \n",
       "\n",
       "   Injury   Days  Games missed  Position_DF  Position_FW  Position_MF  \\\n",
       "0       1  128.0          22.0            1            0            0   \n",
       "1       1   77.0          19.0            1            0            0   \n",
       "2       0    0.0           0.0            1            0            0   \n",
       "3       0    0.0           0.0            1            0            0   \n",
       "4       0    0.0           0.0            1            0            0   \n",
       "\n",
       "   PreferredFoot_ Both  PreferredFoot_ Left  PreferredFoot_ Right  \n",
       "0                    0                    0                     1  \n",
       "1                    0                    0                     1  \n",
       "2                    0                    0                     1  \n",
       "3                    0                    0                     1  \n",
       "4                    0                    0                     1  \n",
       "\n",
       "[5 rows x 40 columns]"
      ]
     },
     "execution_count": 46,
     "metadata": {},
     "output_type": "execute_result"
    }
   ],
   "source": [
    "df = pd.read_csv('../../data/processed/encoded_data.csv')\n",
    "# df = pd.read_csv('../../data/processed/scaled_encoded_data.csv')\n",
    "df.head()"
   ]
  },
  {
   "cell_type": "markdown",
   "metadata": {},
   "source": [
    "### Preprocess"
   ]
  },
  {
   "cell_type": "markdown",
   "metadata": {},
   "source": [
    "**Extracting necessary features**"
   ]
  },
  {
   "cell_type": "code",
   "execution_count": 47,
   "metadata": {
    "tags": []
   },
   "outputs": [],
   "source": [
    "# ----------------------------------Random Forest----------------------------------\n",
    "X_rf = df.drop(['Gls', 'Ast', 'G+A', 'Gls/90', 'Ast/90', 'G+A/90'], axis=1)\n",
    "y_rf = df['G+A']"
   ]
  },
  {
   "cell_type": "code",
   "execution_count": 48,
   "metadata": {},
   "outputs": [],
   "source": [
    "# ----------------------------------Ridge Linear Regression----------------------------------\n",
    "X_rlr = df.drop(['G+A','Gls','Ast','Gls/90','Ast/90','G+A/90'],axis='columns')\n",
    "Y_rlr = df['G+A']"
   ]
  },
  {
   "cell_type": "markdown",
   "metadata": {},
   "source": [
    "### Spliting train - validation - test set"
   ]
  },
  {
   "cell_type": "markdown",
   "metadata": {},
   "source": [
    "- For `Random Forest`, we consider the proportion of train-validation-test is 70-15-15."
   ]
  },
  {
   "cell_type": "code",
   "execution_count": 49,
   "metadata": {
    "tags": []
   },
   "outputs": [],
   "source": [
    "# ----------------------------------Random Forest----------------------------------\n",
    "# train-validation-test proportion: 70-15-15\n",
    "X_rf_train, X_rf_temp, y_rf_train, y_rf_temp = train_test_split(X_rf, y_rf, test_size=0.3, random_state=42)\n",
    "X_rf_validation, X_rf_test, y_rf_validation, y_rf_test = train_test_split(X_rf_temp, y_rf_temp, test_size=0.5, random_state=42)"
   ]
  },
  {
   "cell_type": "markdown",
   "metadata": {},
   "source": [
    "- For `Ridge Linear Regression`, we consider the proportion of train-test is 80-20."
   ]
  },
  {
   "cell_type": "code",
   "execution_count": 50,
   "metadata": {},
   "outputs": [],
   "source": [
    "# ----------------------------------Ridge Linear Regression----------------------------------\n",
    "X_rlr_train, X_rlr_test, Y_rlr_train, Y_rlr_test = train_test_split(X_rlr, Y_rlr, train_size=0.8,shuffle=True,\n",
    "                                                        random_state=0)"
   ]
  },
  {
   "cell_type": "markdown",
   "metadata": {},
   "source": [
    "## Create models"
   ]
  },
  {
   "cell_type": "markdown",
   "metadata": {},
   "source": [
    "- We use `RandomizedSearchCV` to search through the hyperparameter space defined in `param_dist` and find the best combination of hyperparameters for the model. The parameters is defined as below:\n",
    "    - `n_estimators`: The number of trees in the forest.\n",
    "    - `max_depth`: The maximum depth of the trees in the forest.\n",
    "    - `min_samples_split`: The minimum number of samples required to split an internal node.\n",
    "    - `min_samples_leaf`: The minimum number of samples required to be at a leaf node.\n",
    "    - `max_features`: The number of features to consider when looking for the best split.\n"
   ]
  },
  {
   "cell_type": "code",
   "execution_count": 51,
   "metadata": {
    "tags": []
   },
   "outputs": [],
   "source": [
    "# ----------------------------------Random Forest----------------------------------\n",
    "# Define the hyperparameter grid\n",
    "param_dist = {\n",
    "    'n_estimators': [int(x) for x in np.linspace(start=50, stop=200, num=10)],\n",
    "    'max_depth': [None, 5, 10, 15],\n",
    "    'min_samples_split': [2, 5, 10],\n",
    "    'min_samples_leaf': [1, 2, 4],\n",
    "    'max_features': [None, 'sqrt', 'log2']\n",
    "}\n",
    "\n",
    "# Create Random Forest model\n",
    "rf_model = RandomForestRegressor(random_state=42)\n",
    "\n",
    "# Perform RandomizedSearchCV with cross-validation\n",
    "random_search = RandomizedSearchCV(\n",
    "    rf_model, param_distributions=param_dist, n_iter=10, cv=5, scoring='neg_mean_squared_error', random_state=42\n",
    ")"
   ]
  },
  {
   "cell_type": "markdown",
   "metadata": {},
   "source": [
    "- We use `GridSearchCV` to search through the hyperparameter space defined in `param_grid` and find the best combination of hyperparameters for the model. The parameters in the `GridSearchCV` is defined as below:\n",
    "    - `estimator`: The model which is used to train to find the best combination of hyperparameters.\n",
    "    - `param_grid`: The dictionary with keys are parameters in model and values is a list of each parameters.\n",
    "    - `scoring`: The score to judge which combination is the best .\n",
    "    - `cv`: The number of fold in cross-validation . In this case , it will split training dataset to 5 folds , 4 folds for training and 1 fold for validating"
   ]
  },
  {
   "cell_type": "markdown",
   "metadata": {},
   "source": [
    "- The parameters are defined in the parameters dictionary is :\n",
    "    - `alpha`: Constant that multiplies the L2 regularization\n",
    "    - `fit_intercept`: The decision to intercept the model or not \n",
    "    - `max_iter`: The maximum number of iterations for the solver\n",
    "    - `solver`: The solver to use is way to find coefficients for each feature"
   ]
  },
  {
   "cell_type": "code",
   "execution_count": 52,
   "metadata": {},
   "outputs": [],
   "source": [
    "# ----------------------------------Ridge Linear Regression----------------------------------\n",
    "# Define the hyperparameter grid\n",
    "param_grid = {\n",
    "    'alpha' : [1e-3,1e-2,1e-1,1,10],\n",
    "    'fit_intercept' : [True,False],\n",
    "    'max_iter':[500,1000,1500,2000],\n",
    "    'solver':['svd','cholesky']\n",
    "}\n",
    "# Create Ridge Linear Regression model\n",
    "ridge_model = Ridge()\n",
    "# Perform GridSearchCV with cross-validation\n",
    "ridge_grid = GridSearchCV(estimator=ridge_model,param_grid=param_grid,scoring='r2',cv=5)"
   ]
  },
  {
   "cell_type": "markdown",
   "metadata": {},
   "source": [
    "## Training phase "
   ]
  },
  {
   "cell_type": "markdown",
   "metadata": {},
   "source": [
    "### Training models"
   ]
  },
  {
   "cell_type": "code",
   "execution_count": 53,
   "metadata": {
    "tags": []
   },
   "outputs": [
    {
     "name": "stdout",
     "output_type": "stream",
     "text": [
      "Best Hyperparameters:\n",
      "   n_estimators: 50\n",
      "   min_samples_split: 10\n",
      "   min_samples_leaf: 2\n",
      "   max_features: None\n",
      "   max_depth: 15\n",
      "Running time for tuning hyperparameters for Random Forest : 48.58025622367859\n"
     ]
    }
   ],
   "source": [
    "# ----------------------------------Random Forest----------------------------------\n",
    "# Fit the RandomizedSearchCV to find the best hyperparameters\n",
    "rf_t1_para = time.time()\n",
    "\n",
    "random_search.fit(X_rf_train, y_rf_train)\n",
    "\n",
    "rf_t2_para = time.time()\n",
    "running_time_para_rf = rf_t2_para-rf_t1_para\n",
    "\n",
    "# Get the best hyperparameters\n",
    "best_params_random = random_search.best_params_\n",
    "\n",
    "# Print the best hyperparameters\n",
    "print(\"Best Hyperparameters:\")\n",
    "for key, value in zip(best_params_random.keys(), best_params_random.values()):\n",
    "    print(f'   {key}: {value}')\n",
    "\n",
    "print(f'Running time for tuning hyperparameters for Random Forest : {running_time_para_rf}')\n",
    "\n",
    "best_rf_model = random_search.best_estimator_"
   ]
  },
  {
   "cell_type": "code",
   "execution_count": 54,
   "metadata": {},
   "outputs": [
    {
     "name": "stdout",
     "output_type": "stream",
     "text": [
      "Best Hyperparameters:\n",
      "   alpha: 10\n",
      "   fit_intercept: False\n",
      "   max_iter: 500\n",
      "   solver: svd\n",
      "Running time for tuning hyperparameters for Ridge Linear Regression: 2.8560478687286377\n"
     ]
    }
   ],
   "source": [
    "# ----------------------------------Ridge Linear Regression----------------------------------\n",
    "# Fit the RandomizedSearchCV to find the best hyperparameters\n",
    "rlr_t1_para = time.time()\n",
    "\n",
    "ridge_grid.fit(X_rlr_train, Y_rlr_train)\n",
    "\n",
    "rlr_t2_para = time.time()\n",
    "running_time_para_rlr = rlr_t2_para-rlr_t1_para\n",
    "# Get the best hyperparameters\n",
    "best_params_grid = ridge_grid.best_params_\n",
    "# Print the best hyperparameters\n",
    "print(\"Best Hyperparameters:\")\n",
    "for key, value in zip(best_params_grid.keys(), best_params_grid.values()):\n",
    "    print(f'   {key}: {value}')\n",
    "print(f'Running time for tuning hyperparameters for Ridge Linear Regression: {running_time_para_rlr}')\n",
    "rlr_best_model = ridge_grid.best_estimator_"
   ]
  },
  {
   "cell_type": "markdown",
   "metadata": {},
   "source": [
    "**Feature Engineering**\n",
    "\n",
    "- Use `SequentialFeatureSelector` for extracting feature is good for prediction and reduce the time the model train\n",
    "\n",
    "- The parameter in `SequentialFeatureSelector`:\n",
    "    - `estimator`: The model which is used to train to find the best combination of hyperparameters.\n",
    "    - `n_features_to_select`: The number of features to be selected , `auto` mean `SequentialFeatureSelector` select the number of features based on tol \n",
    "    - `scoring`: The score to judge which feature combination is the best .\n",
    "    - `cv`: The number of fold in cross-validation . In this case , it will split training dataset to 5 folds , 4 folds for training and 1 fold for validating\n",
    "    - `direction` : the number of feature to start with . `backward` mean the number of feature is all feature in train dataset "
   ]
  },
  {
   "cell_type": "code",
   "execution_count": 55,
   "metadata": {},
   "outputs": [
    {
     "name": "stdout",
     "output_type": "stream",
     "text": [
      "The selected features are: ['Age', 'LgRank', 'MP', 'Starts', 'Min', '90s', 'G-PK', 'PKatt', 'CrdY', 'CrdR', 'xG', 'npxG', 'xAG', 'npxG+xAG', 'PrgC', 'PrgP', 'PrgR', 'G-PK/90', 'xG/90', 'xAG/90', 'xG+xAG/90', 'npxG/90', 'npxG+xAG/90', 'Injury', 'Days', 'Games missed', 'Position_DF', 'Position_FW', 'Position_MF', 'PreferredFoot_ Both', 'PreferredFoot_ Left', 'PreferredFoot_ Right']\n"
     ]
    }
   ],
   "source": [
    "sfs = SequentialFeatureSelector(estimator=rlr_best_model, n_features_to_select='auto',scoring='r2',direction='backward',tol=1e-3,cv=5)\n",
    "sfs.fit(X_rlr_train, Y_rlr_train)\n",
    "selected_features = sfs.get_support()\n",
    " \n",
    "print('The selected features are:', (list(X_rlr_train.columns[selected_features])))"
   ]
  },
  {
   "cell_type": "code",
   "execution_count": 56,
   "metadata": {},
   "outputs": [],
   "source": [
    "X_rlr_train =X_rlr_train.loc[:, selected_features]\n",
    "X_rlr_test = X_rlr_test.loc[:, selected_features]"
   ]
  },
  {
   "cell_type": "code",
   "execution_count": 57,
   "metadata": {},
   "outputs": [
    {
     "data": {
      "text/html": [
       "<style>#sk-container-id-3 {color: black;}#sk-container-id-3 pre{padding: 0;}#sk-container-id-3 div.sk-toggleable {background-color: white;}#sk-container-id-3 label.sk-toggleable__label {cursor: pointer;display: block;width: 100%;margin-bottom: 0;padding: 0.3em;box-sizing: border-box;text-align: center;}#sk-container-id-3 label.sk-toggleable__label-arrow:before {content: \"▸\";float: left;margin-right: 0.25em;color: #696969;}#sk-container-id-3 label.sk-toggleable__label-arrow:hover:before {color: black;}#sk-container-id-3 div.sk-estimator:hover label.sk-toggleable__label-arrow:before {color: black;}#sk-container-id-3 div.sk-toggleable__content {max-height: 0;max-width: 0;overflow: hidden;text-align: left;background-color: #f0f8ff;}#sk-container-id-3 div.sk-toggleable__content pre {margin: 0.2em;color: black;border-radius: 0.25em;background-color: #f0f8ff;}#sk-container-id-3 input.sk-toggleable__control:checked~div.sk-toggleable__content {max-height: 200px;max-width: 100%;overflow: auto;}#sk-container-id-3 input.sk-toggleable__control:checked~label.sk-toggleable__label-arrow:before {content: \"▾\";}#sk-container-id-3 div.sk-estimator input.sk-toggleable__control:checked~label.sk-toggleable__label {background-color: #d4ebff;}#sk-container-id-3 div.sk-label input.sk-toggleable__control:checked~label.sk-toggleable__label {background-color: #d4ebff;}#sk-container-id-3 input.sk-hidden--visually {border: 0;clip: rect(1px 1px 1px 1px);clip: rect(1px, 1px, 1px, 1px);height: 1px;margin: -1px;overflow: hidden;padding: 0;position: absolute;width: 1px;}#sk-container-id-3 div.sk-estimator {font-family: monospace;background-color: #f0f8ff;border: 1px dotted black;border-radius: 0.25em;box-sizing: border-box;margin-bottom: 0.5em;}#sk-container-id-3 div.sk-estimator:hover {background-color: #d4ebff;}#sk-container-id-3 div.sk-parallel-item::after {content: \"\";width: 100%;border-bottom: 1px solid gray;flex-grow: 1;}#sk-container-id-3 div.sk-label:hover label.sk-toggleable__label {background-color: #d4ebff;}#sk-container-id-3 div.sk-serial::before {content: \"\";position: absolute;border-left: 1px solid gray;box-sizing: border-box;top: 0;bottom: 0;left: 50%;z-index: 0;}#sk-container-id-3 div.sk-serial {display: flex;flex-direction: column;align-items: center;background-color: white;padding-right: 0.2em;padding-left: 0.2em;position: relative;}#sk-container-id-3 div.sk-item {position: relative;z-index: 1;}#sk-container-id-3 div.sk-parallel {display: flex;align-items: stretch;justify-content: center;background-color: white;position: relative;}#sk-container-id-3 div.sk-item::before, #sk-container-id-3 div.sk-parallel-item::before {content: \"\";position: absolute;border-left: 1px solid gray;box-sizing: border-box;top: 0;bottom: 0;left: 50%;z-index: -1;}#sk-container-id-3 div.sk-parallel-item {display: flex;flex-direction: column;z-index: 1;position: relative;background-color: white;}#sk-container-id-3 div.sk-parallel-item:first-child::after {align-self: flex-end;width: 50%;}#sk-container-id-3 div.sk-parallel-item:last-child::after {align-self: flex-start;width: 50%;}#sk-container-id-3 div.sk-parallel-item:only-child::after {width: 0;}#sk-container-id-3 div.sk-dashed-wrapped {border: 1px dashed gray;margin: 0 0.4em 0.5em 0.4em;box-sizing: border-box;padding-bottom: 0.4em;background-color: white;}#sk-container-id-3 div.sk-label label {font-family: monospace;font-weight: bold;display: inline-block;line-height: 1.2em;}#sk-container-id-3 div.sk-label-container {text-align: center;}#sk-container-id-3 div.sk-container {/* jupyter's `normalize.less` sets `[hidden] { display: none; }` but bootstrap.min.css set `[hidden] { display: none !important; }` so we also need the `!important` here to be able to override the default hidden behavior on the sphinx rendered scikit-learn.org. See: https://github.com/scikit-learn/scikit-learn/issues/21755 */display: inline-block !important;position: relative;}#sk-container-id-3 div.sk-text-repr-fallback {display: none;}</style><div id=\"sk-container-id-3\" class=\"sk-top-container\"><div class=\"sk-text-repr-fallback\"><pre>Ridge(alpha=10, fit_intercept=False, max_iter=500, solver=&#x27;svd&#x27;)</pre><b>In a Jupyter environment, please rerun this cell to show the HTML representation or trust the notebook. <br />On GitHub, the HTML representation is unable to render, please try loading this page with nbviewer.org.</b></div><div class=\"sk-container\" hidden><div class=\"sk-item\"><div class=\"sk-estimator sk-toggleable\"><input class=\"sk-toggleable__control sk-hidden--visually\" id=\"sk-estimator-id-3\" type=\"checkbox\" checked><label for=\"sk-estimator-id-3\" class=\"sk-toggleable__label sk-toggleable__label-arrow\">Ridge</label><div class=\"sk-toggleable__content\"><pre>Ridge(alpha=10, fit_intercept=False, max_iter=500, solver=&#x27;svd&#x27;)</pre></div></div></div></div></div>"
      ],
      "text/plain": [
       "Ridge(alpha=10, fit_intercept=False, max_iter=500, solver='svd')"
      ]
     },
     "execution_count": 57,
     "metadata": {},
     "output_type": "execute_result"
    }
   ],
   "source": [
    "#Train the model again with the train dataset after finding the best combination of parameters\n",
    "rlr_best_model.fit(X_rlr_train,Y_rlr_train)"
   ]
  },
  {
   "cell_type": "markdown",
   "metadata": {},
   "source": [
    "### Evaluation"
   ]
  },
  {
   "cell_type": "markdown",
   "metadata": {},
   "source": [
    "Given that our dataset has few outliers and the error has a limited impact on this problem, selecting Mean Absolute Error (MAE) emerges as the optimal metric. However, for additional insights, we also contemplate incorporating Mean Squared Error (MSE). Additionally, we opt for the R-squared score to gauge the overall goodness of fit and assess how well our Random Forest model captures the variability in the target variable."
   ]
  },
  {
   "cell_type": "code",
   "execution_count": 58,
   "metadata": {
    "tags": []
   },
   "outputs": [
    {
     "name": "stdout",
     "output_type": "stream",
     "text": [
      "Validation Set Metrics:\n",
      "Mean Squared Error (MSE): 4.760829061691066\n",
      "Mean Absolute Error (MAE): 1.0538291084996663\n",
      "R-squared Score: 0.942655102929453\n"
     ]
    }
   ],
   "source": [
    "# ----------------------------------Random Forest----------------------------------\n",
    "y_rf_validation_pred_random = best_rf_model.predict(X_rf_validation)\n",
    "\n",
    "# Evaluate the model on the validation set\n",
    "mse_random = mean_squared_error(y_rf_validation, y_rf_validation_pred_random)\n",
    "mae_random = mean_absolute_error(y_rf_validation, y_rf_validation_pred_random)\n",
    "r2_random = r2_score(y_rf_validation, y_rf_validation_pred_random)\n",
    "\n",
    "print('Validation Set Metrics:')\n",
    "print(f'Mean Squared Error (MSE): {mse_random}')\n",
    "print(f'Mean Absolute Error (MAE): {mae_random}')\n",
    "print(f'R-squared Score: {r2_random}')"
   ]
  },
  {
   "cell_type": "markdown",
   "metadata": {},
   "source": [
    "## Testing phase "
   ]
  },
  {
   "cell_type": "markdown",
   "metadata": {},
   "source": [
    "### Testing models"
   ]
  },
  {
   "cell_type": "code",
   "execution_count": 59,
   "metadata": {
    "tags": []
   },
   "outputs": [
    {
     "name": "stdout",
     "output_type": "stream",
     "text": [
      "Test Set Metrics for Random Forest:\n",
      "Mean Squared Error (MSE): 5.305140435362749\n",
      "Mean Absolute Error (MAE): 0.9849512542612242\n",
      "R-squared Score: 0.9475989936311416\n"
     ]
    }
   ],
   "source": [
    "# ----------------------------------Random Forest----------------------------------\n",
    "y_rf_test_pred_random = best_rf_model.predict(X_rf_test)\n",
    "test_mse_random = mean_squared_error(y_rf_test, y_rf_test_pred_random)\n",
    "test_mae_random = mean_absolute_error(y_rf_test, y_rf_test_pred_random)\n",
    "test_r2_random = r2_score(y_rf_test, y_rf_test_pred_random)\n",
    "\n",
    "print('Test Set Metrics for Random Forest:')\n",
    "print(f'Mean Squared Error (MSE): {test_mse_random}')\n",
    "print(f'Mean Absolute Error (MAE): {test_mae_random}')\n",
    "print(f'R-squared Score: {test_r2_random}')"
   ]
  },
  {
   "cell_type": "code",
   "execution_count": 60,
   "metadata": {},
   "outputs": [
    {
     "name": "stdout",
     "output_type": "stream",
     "text": [
      "Test Set Metrics for Ridge Linear Regression:\n",
      "Mean Squared Error (MSE): 6.2197498289530895\n",
      "Mean Absolute Error (MAE): 1.5642353209529585\n",
      "R-squared Score: 0.9268837074345534\n"
     ]
    }
   ],
   "source": [
    "# ----------------------------------Ridge Linear Regression----------------------------------\n",
    "Y_rlr_predict = rlr_best_model.predict(X_rlr_test)\n",
    "test_mse_ridge = mean_squared_error(Y_rlr_test,Y_rlr_predict)\n",
    "test_mae_ridge = mean_absolute_error(Y_rlr_test,Y_rlr_predict)\n",
    "test_r2_ridge = r2_score(Y_rlr_predict,Y_rlr_test)\n",
    "print('Test Set Metrics for Ridge Linear Regression:')\n",
    "print(f'Mean Squared Error (MSE): {test_mse_ridge}')\n",
    "print(f'Mean Absolute Error (MAE): {test_mae_ridge}')\n",
    "print(f'R-squared Score: {test_r2_ridge}')"
   ]
  },
  {
   "cell_type": "markdown",
   "metadata": {},
   "source": [
    "**Visualize predicted vs actual output**"
   ]
  },
  {
   "cell_type": "code",
   "execution_count": 61,
   "metadata": {
    "tags": []
   },
   "outputs": [
    {
     "data": {
      "image/png": "[encoded data removed]",
      "text/plain": [
       "<Figure size 640x480 with 1 Axes>"
      ]
     },
     "metadata": {},
     "output_type": "display_data"
    }
   ],
   "source": [
    "# ----------------------------------Random Forest----------------------------------\n",
    "plt.scatter(y_rf_test, y_rf_test_pred_random, alpha=0.5)\n",
    "plt.title('Actual vs Predicted Output')\n",
    "plt.xlabel('Actual Output')\n",
    "plt.ylabel('Predicted Output')\n",
    "\n",
    "x_line = np.linspace(min(y_rf_test), max(y_rf_test), 100)\n",
    "plt.plot(x_line, x_line, color='red', linestyle='--', linewidth=2)\n",
    "\n",
    "plt.show()"
   ]
  },
  {
   "cell_type": "markdown",
   "metadata": {},
   "source": [
    "**Observations**\n",
    "- The model performs well on both the validation and test sets, as evidenced by low MSE and MAE values. Approximate 1 G+A error is a very impressive number.\n",
    "- The R-squared scores (0.942 and 0.947) suggest that the model captures a substantial amount of variability in the target variable.\n",
    "- The consistency between validation and test set metrics indicates good generalization of the model to new, unseen data.\n",
    "- Based on the just-visualized chart of predicted outputs versus actual outputs, the scattered points exhibit a linear trend along the y=x line. This indicates that the model is performing quite well."
   ]
  },
  {
   "cell_type": "code",
   "execution_count": 62,
   "metadata": {},
   "outputs": [
    {
     "data": {
      "image/png": "[encoded data removed]",
      "text/plain": [
       "<Figure size 640x480 with 1 Axes>"
      ]
     },
     "metadata": {},
     "output_type": "display_data"
    }
   ],
   "source": [
    "# ----------------------------------Ridge Linear Regression----------------------------------\n",
    "plt.scatter(Y_rlr_predict,Y_rlr_test)\n",
    "\n",
    "plt.xlabel(\"Predicted Label\")\n",
    "plt.ylabel(\"True label\")\n",
    "plt.title(\"Comapre the predicted label with the true label for Ridge Linear Regression\")\n",
    "y_line = np.linspace(min(Y_rlr_predict), max(Y_rlr_predict), 1000).reshape(-1, 1)\n",
    "plt.plot(y_line,y_line, color='r')\n",
    "plt.show()"
   ]
  },
  {
   "cell_type": "markdown",
   "metadata": {},
   "source": [
    "**Observations**\n",
    "- The model has a good predictions on test sets , with very low MAE values , about 1.5 G + A is good number\n",
    "- The R-sqaured score : 0.926 show that the independent variables are passed into the model explain the majority of the target variable \n",
    "- From the chart showing the predicted output with the true output , the scatter plot show the linear trend between 2 axis with few outliers , it show that the model predicted quite well "
   ]
  },
  {
   "cell_type": "markdown",
   "metadata": {},
   "source": [
    "## Results analysis - Compare models"
   ]
  },
  {
   "cell_type": "code",
   "execution_count": 63,
   "metadata": {
    "tags": []
   },
   "outputs": [
    {
     "data": {
      "text/html": [
       "<div>\n",
       "<style scoped>\n",
       "    .dataframe tbody tr th:only-of-type {\n",
       "        vertical-align: middle;\n",
       "    }\n",
       "\n",
       "    .dataframe tbody tr th {\n",
       "        vertical-align: top;\n",
       "    }\n",
       "\n",
       "    .dataframe thead th {\n",
       "        text-align: right;\n",
       "    }\n",
       "</style>\n",
       "<table border=\"1\" class=\"dataframe\">\n",
       "  <thead>\n",
       "    <tr style=\"text-align: right;\">\n",
       "      <th></th>\n",
       "      <th>Random Forest Regressor</th>\n",
       "      <th>Ridge Linear Regression</th>\n",
       "    </tr>\n",
       "  </thead>\n",
       "  <tbody>\n",
       "    <tr>\n",
       "      <th>Mean Squared Error</th>\n",
       "      <td>5.305140</td>\n",
       "      <td>6.219750</td>\n",
       "    </tr>\n",
       "    <tr>\n",
       "      <th>Mean Absolute Error</th>\n",
       "      <td>0.984951</td>\n",
       "      <td>1.564235</td>\n",
       "    </tr>\n",
       "    <tr>\n",
       "      <th>R squared</th>\n",
       "      <td>0.947599</td>\n",
       "      <td>0.926884</td>\n",
       "    </tr>\n",
       "    <tr>\n",
       "      <th>Running time for tuning hyperparameters</th>\n",
       "      <td>48.580256</td>\n",
       "      <td>2.856048</td>\n",
       "    </tr>\n",
       "  </tbody>\n",
       "</table>\n",
       "</div>"
      ],
      "text/plain": [
       "                                         Random Forest Regressor  \\\n",
       "Mean Squared Error                                      5.305140   \n",
       "Mean Absolute Error                                     0.984951   \n",
       "R squared                                               0.947599   \n",
       "Running time for tuning hyperparameters                48.580256   \n",
       "\n",
       "                                         Ridge Linear Regression  \n",
       "Mean Squared Error                                      6.219750  \n",
       "Mean Absolute Error                                     1.564235  \n",
       "R squared                                               0.926884  \n",
       "Running time for tuning hyperparameters                 2.856048  "
      ]
     },
     "execution_count": 63,
     "metadata": {},
     "output_type": "execute_result"
    }
   ],
   "source": [
    "# YOUR CODE HERE\n",
    "# Create a result DataFrame to compare between 2 models\n",
    "result_df = pd.DataFrame()\n",
    "result_df['Mean Squared Error'] = [test_mse_random,test_mse_ridge]\n",
    "result_df['Mean Absolute Error'] = [test_mae_random,test_mae_ridge]\n",
    "result_df['R squared'] = [test_r2_random,test_r2_ridge]\n",
    "result_df['Running time for tuning hyperparameters'] = [running_time_para_rf,running_time_para_rlr]\n",
    "result_df.index = ['Random Forest Regressor', 'Ridge Linear Regression']\n",
    "result_df = result_df.T\n",
    "result_df"
   ]
  },
  {
   "cell_type": "markdown",
   "metadata": {},
   "source": [
    "**Visualize result**"
   ]
  },
  {
   "cell_type": "code",
   "execution_count": 64,
   "metadata": {},
   "outputs": [
    {
     "data": {
      "image/png": "[encoded data removed]",
      "text/plain": [
       "<Figure size 1000x600 with 1 Axes>"
      ]
     },
     "metadata": {},
     "output_type": "display_data"
    }
   ],
   "source": [
    "result_df.iloc[:3].plot(kind='bar', figsize=(10, 6))\n",
    "plt.title('Performance Metrics for Random Forest Regressor and Ridge Linear Regression')\n",
    "plt.ylabel('Metric Value')\n",
    "plt.xlabel('Metrics')\n",
    "\n",
    "plt.legend(title='Models')\n",
    "\n",
    "plt.show()"
   ]
  },
  {
   "cell_type": "code",
   "execution_count": 65,
   "metadata": {},
   "outputs": [
    {
     "data": {
      "image/png": "[encoded data removed]",
      "text/plain": [
       "<Figure size 1000x600 with 1 Axes>"
      ]
     },
     "metadata": {},
     "output_type": "display_data"
    }
   ],
   "source": [
    "result_df.iloc[-1].plot(kind='bar', figsize=(10, 6))\n",
    "plt.title('Running time for Random Forest Regressor and Ridge Linear Regression')\n",
    "plt.ylabel('Second')\n",
    "plt.xlabel('Model')\n",
    "plt.tick_params(axis='x',rotation =0)\n",
    "\n",
    "plt.show()"
   ]
  },
  {
   "cell_type": "markdown",
   "metadata": {},
   "source": [
    "**Observations**\n",
    "- In 3 metrics , `Random Forest Regressor` has better performance than `Ridge Linear Regression`\n",
    "- In the running time , the `Ridge Linear Regression` runs a lot faster than  `Random Forest Regressor`"
   ]
  },
  {
   "cell_type": "markdown",
   "metadata": {},
   "source": [
    "## Conclusion"
   ]
  },
  {
   "cell_type": "markdown",
   "metadata": {},
   "source": [
    "- It can be concluded that the models have successfully addressed the initial problem of predicting the performance of players.\n",
    "- It can be observed that all models, including Random Forest Regressor, Ridge Linear Regression, Fully-connected models, yield very high accuracy results. However, the difference between the two machine learning models (Random Forest Regressor, Ridge Linear Regression) and deep learning models is not significant, but the processing time of the neural network models is much higher. \n",
    "- Therefore, it can be said that for the given problem, the Random Forest Regressor model produces the best results."
   ]
  }
 ],
 "metadata": {
  "kernelspec": {
   "display_name": "Python 3 (ipykernel)",
   "language": "python",
   "name": "python3"
  },
  "language_info": {
   "codemirror_mode": {
    "name": "ipython",
    "version": 3
   },
   "file_extension": ".py",
   "mimetype": "text/x-python",
   "name": "python",
   "nbconvert_exporter": "python",
   "pygments_lexer": "ipython3",
   "version": "3.11.1"
  }
 },
 "nbformat": 4,
 "nbformat_minor": 4
}
