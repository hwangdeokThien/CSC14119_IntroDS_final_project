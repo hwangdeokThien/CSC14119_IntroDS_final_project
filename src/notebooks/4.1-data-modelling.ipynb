{
 "cells": [
  {
   "cell_type": "markdown",
   "metadata": {},
   "source": [
    "<div style=\"text-align: center; background-color: #0A6EBD; font-family: 'Trebuchet MS', Arial, sans-serif; color: white; padding: 20px; font-size: 40px; font-weight: bold; border-radius: 0 0 0 0; box-shadow: 0px 6px 8px rgba(0, 0, 0, 0.2);\">\n",
    "    FIT-HCMUS, VNU-HCM \n",
    "    <br>\n",
    "    Introduction To Data Science \n",
    "    <br>\n",
    "    Final project 📌\n",
    "</div>"
   ]
  },
  {
   "cell_type": "markdown",
   "metadata": {},
   "source": [
    "<div style=\"text-align: center; background-color: #5A96E3; font-family: 'Trebuchet MS', Arial, sans-serif; color: white; padding: 20px; font-size: 40px; font-weight: bold; border-radius: 0 0 0 0; box-shadow: 0px 6px 8px rgba(0, 0, 0, 0.2);\">\n",
    "  Stage 04 - Data Modelling 📌\n",
    "</div>"
   ]
  },
  {
   "cell_type": "markdown",
   "metadata": {},
   "source": [
    "##  Problem statement\n"
   ]
  },
  {
   "cell_type": "markdown",
   "metadata": {},
   "source": [
    "- **Stating problem**: In the realm of professional football, accurately assessing and predicting a player's performance remains a challenging task. Coaches, managers, and scouts often rely on subjective evaluations and historical data, but there is a growing need for a more sophisticated and data-driven approach to player performance prediction. To address this gap, the problem at hand is to develop a robust predictive model that can accurately forecast the performance of a football player based on various factors, including but not limited to fitness levels, historical performance stats, injury history and situational context.\n",
    "- **Purposes/benefits** of solving the problem:\n",
    "    - Successful predictive model would revolutionize the player recruitment process, allowing teams to identify talent more efficiently. By evaluating the potential performance of players based on objective data, teams can make more informed decisions in the transfer market, minimizing risks and maximizing the likelihood of acquiring valuable assets.\n",
    "    - Coaches can leverage the predictive model to tailor their strategies and game plans based on the expected performance of individual players. This can lead to more effective and adaptive team strategies, optimizing player positions, substitutions, and tactical approaches during matches.\n",
    "    - The model's insights can be used by coaches and sports scientists to design personalized training programs for players. Tailoring training regimens based on predicted performance metrics can contribute to individual player development and overall team improvement.\n",
    "- **Approach**: In this section, we explore the application of three different models to address this problem, including `Linear Regression`, `Random forest`, `Neural Network`. A final comparison of the results will be conducted to determine the most suitable model for solving this particular problem."
   ]
  },
  {
   "cell_type": "markdown",
   "metadata": {},
   "source": [
    "## Set up enviroment"
   ]
  },
  {
   "cell_type": "code",
   "execution_count": 1,
   "metadata": {
    "tags": []
   },
   "outputs": [],
   "source": [
    "import pandas as pd\n",
    "import numpy as np\n",
    "import matplotlib.pyplot as plt\n",
    "import seaborn as sns"
   ]
  },
  {
   "cell_type": "markdown",
   "metadata": {
    "tags": []
   },
   "source": [
    "## Data preparation"
   ]
  },
  {
   "cell_type": "markdown",
   "metadata": {},
   "source": [
    "**reading data**"
   ]
  },
  {
   "cell_type": "code",
   "execution_count": 2,
   "metadata": {
    "tags": []
   },
   "outputs": [
    {
     "data": {
      "text/html": [
       "<div>\n",
       "<style scoped>\n",
       "    .dataframe tbody tr th:only-of-type {\n",
       "        vertical-align: middle;\n",
       "    }\n",
       "\n",
       "    .dataframe tbody tr th {\n",
       "        vertical-align: top;\n",
       "    }\n",
       "\n",
       "    .dataframe thead th {\n",
       "        text-align: right;\n",
       "    }\n",
       "</style>\n",
       "<table border=\"1\" class=\"dataframe\">\n",
       "  <thead>\n",
       "    <tr style=\"text-align: right;\">\n",
       "      <th></th>\n",
       "      <th>Age</th>\n",
       "      <th>LgRank</th>\n",
       "      <th>MP</th>\n",
       "      <th>Starts</th>\n",
       "      <th>Min</th>\n",
       "      <th>90s</th>\n",
       "      <th>Gls</th>\n",
       "      <th>Ast</th>\n",
       "      <th>G+A</th>\n",
       "      <th>G-PK</th>\n",
       "      <th>...</th>\n",
       "      <th>npxG+xAG/90</th>\n",
       "      <th>Injury</th>\n",
       "      <th>Days</th>\n",
       "      <th>Games missed</th>\n",
       "      <th>Position_DF</th>\n",
       "      <th>Position_FW</th>\n",
       "      <th>Position_MF</th>\n",
       "      <th>PreferredFoot_ Both</th>\n",
       "      <th>PreferredFoot_ Left</th>\n",
       "      <th>PreferredFoot_ Right</th>\n",
       "    </tr>\n",
       "  </thead>\n",
       "  <tbody>\n",
       "    <tr>\n",
       "      <th>0</th>\n",
       "      <td>17</td>\n",
       "      <td>4</td>\n",
       "      <td>-0.521739</td>\n",
       "      <td>-0.375000</td>\n",
       "      <td>-0.318133</td>\n",
       "      <td>14.2</td>\n",
       "      <td>NaN</td>\n",
       "      <td>-0.25</td>\n",
       "      <td>NaN</td>\n",
       "      <td>NaN</td>\n",
       "      <td>...</td>\n",
       "      <td>0.271442</td>\n",
       "      <td>1</td>\n",
       "      <td>3.878788</td>\n",
       "      <td>3.666667</td>\n",
       "      <td>1</td>\n",
       "      <td>0</td>\n",
       "      <td>0</td>\n",
       "      <td>0</td>\n",
       "      <td>0</td>\n",
       "      <td>1</td>\n",
       "    </tr>\n",
       "    <tr>\n",
       "      <th>1</th>\n",
       "      <td>18</td>\n",
       "      <td>17</td>\n",
       "      <td>-0.695652</td>\n",
       "      <td>-0.458333</td>\n",
       "      <td>-0.453864</td>\n",
       "      <td>11.0</td>\n",
       "      <td>NaN</td>\n",
       "      <td>-0.25</td>\n",
       "      <td>NaN</td>\n",
       "      <td>NaN</td>\n",
       "      <td>...</td>\n",
       "      <td>0.310723</td>\n",
       "      <td>1</td>\n",
       "      <td>2.333333</td>\n",
       "      <td>3.166667</td>\n",
       "      <td>1</td>\n",
       "      <td>0</td>\n",
       "      <td>0</td>\n",
       "      <td>0</td>\n",
       "      <td>0</td>\n",
       "      <td>1</td>\n",
       "    </tr>\n",
       "    <tr>\n",
       "      <th>2</th>\n",
       "      <td>19</td>\n",
       "      <td>9</td>\n",
       "      <td>-0.086957</td>\n",
       "      <td>0.166667</td>\n",
       "      <td>0.181450</td>\n",
       "      <td>12.9</td>\n",
       "      <td>NaN</td>\n",
       "      <td>-0.25</td>\n",
       "      <td>NaN</td>\n",
       "      <td>NaN</td>\n",
       "      <td>...</td>\n",
       "      <td>0.445311</td>\n",
       "      <td>0</td>\n",
       "      <td>0.000000</td>\n",
       "      <td>0.000000</td>\n",
       "      <td>1</td>\n",
       "      <td>0</td>\n",
       "      <td>0</td>\n",
       "      <td>0</td>\n",
       "      <td>0</td>\n",
       "      <td>1</td>\n",
       "    </tr>\n",
       "    <tr>\n",
       "      <th>3</th>\n",
       "      <td>19</td>\n",
       "      <td>10</td>\n",
       "      <td>-0.086957</td>\n",
       "      <td>0.166667</td>\n",
       "      <td>0.181450</td>\n",
       "      <td>12.9</td>\n",
       "      <td>NaN</td>\n",
       "      <td>-0.25</td>\n",
       "      <td>NaN</td>\n",
       "      <td>NaN</td>\n",
       "      <td>...</td>\n",
       "      <td>0.445311</td>\n",
       "      <td>0</td>\n",
       "      <td>0.000000</td>\n",
       "      <td>0.000000</td>\n",
       "      <td>1</td>\n",
       "      <td>0</td>\n",
       "      <td>0</td>\n",
       "      <td>0</td>\n",
       "      <td>0</td>\n",
       "      <td>1</td>\n",
       "    </tr>\n",
       "    <tr>\n",
       "      <th>4</th>\n",
       "      <td>20</td>\n",
       "      <td>2</td>\n",
       "      <td>0.347826</td>\n",
       "      <td>0.583333</td>\n",
       "      <td>0.616740</td>\n",
       "      <td>36.0</td>\n",
       "      <td>NaN</td>\n",
       "      <td>-0.25</td>\n",
       "      <td>NaN</td>\n",
       "      <td>NaN</td>\n",
       "      <td>...</td>\n",
       "      <td>0.391487</td>\n",
       "      <td>0</td>\n",
       "      <td>0.000000</td>\n",
       "      <td>0.000000</td>\n",
       "      <td>1</td>\n",
       "      <td>0</td>\n",
       "      <td>0</td>\n",
       "      <td>0</td>\n",
       "      <td>0</td>\n",
       "      <td>1</td>\n",
       "    </tr>\n",
       "  </tbody>\n",
       "</table>\n",
       "<p>5 rows × 40 columns</p>\n",
       "</div>"
      ],
      "text/plain": [
       "   Age  LgRank        MP    Starts       Min   90s  Gls   Ast  G+A  G-PK  ...  \\\n",
       "0   17       4 -0.521739 -0.375000 -0.318133  14.2  NaN -0.25  NaN   NaN  ...   \n",
       "1   18      17 -0.695652 -0.458333 -0.453864  11.0  NaN -0.25  NaN   NaN  ...   \n",
       "2   19       9 -0.086957  0.166667  0.181450  12.9  NaN -0.25  NaN   NaN  ...   \n",
       "3   19      10 -0.086957  0.166667  0.181450  12.9  NaN -0.25  NaN   NaN  ...   \n",
       "4   20       2  0.347826  0.583333  0.616740  36.0  NaN -0.25  NaN   NaN  ...   \n",
       "\n",
       "   npxG+xAG/90  Injury      Days  Games missed  Position_DF  Position_FW  \\\n",
       "0     0.271442       1  3.878788      3.666667            1            0   \n",
       "1     0.310723       1  2.333333      3.166667            1            0   \n",
       "2     0.445311       0  0.000000      0.000000            1            0   \n",
       "3     0.445311       0  0.000000      0.000000            1            0   \n",
       "4     0.391487       0  0.000000      0.000000            1            0   \n",
       "\n",
       "   Position_MF  PreferredFoot_ Both  PreferredFoot_ Left  PreferredFoot_ Right  \n",
       "0            0                    0                    0                     1  \n",
       "1            0                    0                    0                     1  \n",
       "2            0                    0                    0                     1  \n",
       "3            0                    0                    0                     1  \n",
       "4            0                    0                    0                     1  \n",
       "\n",
       "[5 rows x 40 columns]"
      ]
     },
     "execution_count": 2,
     "metadata": {},
     "output_type": "execute_result"
    }
   ],
   "source": [
    "df = pd.read_csv('../../data/processed/scaled_encoded_data.csv')\n",
    "df.head()"
   ]
  },
  {
   "cell_type": "markdown",
   "metadata": {},
   "source": [
    "### Spliting train - validation - test set"
   ]
  },
  {
   "cell_type": "markdown",
   "metadata": {},
   "source": [
    "**Random forest**"
   ]
  },
  {
   "cell_type": "code",
   "execution_count": null,
   "metadata": {},
   "outputs": [],
   "source": []
  },
  {
   "cell_type": "code",
   "execution_count": null,
   "metadata": {},
   "outputs": [],
   "source": []
  },
  {
   "cell_type": "markdown",
   "metadata": {},
   "source": [
    "## Create models"
   ]
  },
  {
   "cell_type": "code",
   "execution_count": 3,
   "metadata": {},
   "outputs": [],
   "source": [
    "# YOUR CODE HERE"
   ]
  },
  {
   "cell_type": "markdown",
   "metadata": {},
   "source": [
    "## Training phase "
   ]
  },
  {
   "cell_type": "markdown",
   "metadata": {},
   "source": [
    "### Training models"
   ]
  },
  {
   "cell_type": "code",
   "execution_count": 4,
   "metadata": {},
   "outputs": [],
   "source": [
    "# YOUR CODE HERE"
   ]
  },
  {
   "cell_type": "markdown",
   "metadata": {},
   "source": [
    "### Evaluation"
   ]
  },
  {
   "cell_type": "code",
   "execution_count": 5,
   "metadata": {},
   "outputs": [],
   "source": [
    "# YOUR CODE HERE"
   ]
  },
  {
   "cell_type": "markdown",
   "metadata": {},
   "source": [
    "## Testing phase "
   ]
  },
  {
   "cell_type": "markdown",
   "metadata": {},
   "source": [
    "### Testing models"
   ]
  },
  {
   "cell_type": "code",
   "execution_count": 6,
   "metadata": {},
   "outputs": [],
   "source": [
    "# YOUR CODE HERE"
   ]
  },
  {
   "cell_type": "markdown",
   "metadata": {},
   "source": [
    "## Results analysis - Compare models"
   ]
  },
  {
   "cell_type": "code",
   "execution_count": 7,
   "metadata": {},
   "outputs": [],
   "source": [
    "# YOUR CODE HERE"
   ]
  },
  {
   "cell_type": "markdown",
   "metadata": {},
   "source": [
    "## Conclusion"
   ]
  }
 ],
 "metadata": {
  "kernelspec": {
   "display_name": "Python 3 (ipykernel)",
   "language": "python",
   "name": "python3"
  },
  "language_info": {
   "codemirror_mode": {
    "name": "ipython",
    "version": 3
   },
   "file_extension": ".py",
   "mimetype": "text/x-python",
   "name": "python",
   "nbconvert_exporter": "python",
   "pygments_lexer": "ipython3",
   "version": "3.9.18"
  }
 },
 "nbformat": 4,
 "nbformat_minor": 4
}
