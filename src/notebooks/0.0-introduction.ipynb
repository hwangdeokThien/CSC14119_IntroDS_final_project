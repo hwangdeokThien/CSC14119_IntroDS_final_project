{
 "cells": [
  {
   "cell_type": "markdown",
   "id": "7583648e-b0af-453e-b912-6bd17641b60e",
   "metadata": {},
   "source": [
    "<div style=\"text-align: center; background-color: #0A6EBD; font-family: 'Trebuchet MS', Arial, sans-serif; color: white; padding: 20px; font-size: 40px; font-weight: bold; border-radius: 0 0 0 0; box-shadow: 0px 6px 8px rgba(0, 0, 0, 0.2);\">\n",
    "    FIT-HCMUS, VNU-HCM \n",
    "    <br>\n",
    "    Introduction To Data Science \n",
    "    <br>\n",
    "    Final project 📌\n",
    "</div>"
   ]
  },
  {
   "cell_type": "markdown",
   "id": "a3876dae-7346-44e3-a2fe-a2dd190265a2",
   "metadata": {},
   "source": [
    "<div style=\"text-align: center; background-color: #5A96E3; font-family: 'Trebuchet MS', Arial, sans-serif; color: white; padding: 20px; font-size: 40px; font-weight: bold; border-radius: 0 0 0 0; box-shadow: 0px 6px 8px rgba(0, 0, 0, 0.2);\">\n",
    "  Stage 00 - Project Introduction 📌\n",
    "</div>"
   ]
  },
  {
   "cell_type": "markdown",
   "id": "b3b651a8-63fe-4844-b0ff-acdb6d067d92",
   "metadata": {},
   "source": [
    "## Member informations\n",
    "\n",
    "| Student ID | Name                |\n",
    "| ---------- | ------------------- |\n",
    "| 21127107   | Bui Vu The Minh     |\n",
    "| 21127693   | Huynh Duc Thien     |\n",
    "| 21127700   | Le Phuoc Thinh Tien |\n",
    "| 21127704   | Pham Khanh Toan     |"
   ]
  },
  {
   "cell_type": "markdown",
   "id": "31039acb-3140-42ee-a987-1b90aa283987",
   "metadata": {},
   "source": [
    "## About the project\n",
    "\n",
    "Our project is designed to showcase proficiency in the entire data science workflow. We start with the data collection phase, where we demonstrate the ability to crawl and gather relevant data from various sources. This is followed by preprocessing stage, and an in-depth exploratory data analysis (EDA) that uncovers patterns, trends, and insights within the dataset. Finally, we employ modeling techniques to make predictions or draw conclusions based on our analysis.\n",
    "\n",
    "<br>\n",
    "\n",
    "**Topic**\n",
    "<br>\n",
    "..."
   ]
  },
  {
   "cell_type": "markdown",
   "id": "5a817dd2-b31c-406d-b8b3-daf0b870a4c2",
   "metadata": {},
   "source": [
    "## Main Stages"
   ]
  }
 ],
 "metadata": {
  "kernelspec": {
   "display_name": "Python 3 (ipykernel)",
   "language": "python",
   "name": "python3"
  },
  "language_info": {
   "codemirror_mode": {
    "name": "ipython",
    "version": 3
   },
   "file_extension": ".py",
   "mimetype": "text/x-python",
   "name": "python",
   "nbconvert_exporter": "python",
   "pygments_lexer": "ipython3",
   "version": "3.9.18"
  }
 },
 "nbformat": 4,
 "nbformat_minor": 5
}
